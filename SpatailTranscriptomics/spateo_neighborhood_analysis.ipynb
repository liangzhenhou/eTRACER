{
 "cells": [
  {
   "cell_type": "code",
   "execution_count": null,
   "id": "cf609122",
   "metadata": {},
   "outputs": [],
   "source": []
  },
  {
   "cell_type": "code",
   "execution_count": 1,
   "id": "6d9a3729",
   "metadata": {
    "scrolled": true
   },
   "outputs": [
    {
     "name": "stderr",
     "output_type": "stream",
     "text": [
      "2025-05-02 23:19:58.953542: I tensorflow/core/util/port.cc:153] oneDNN custom operations are on. You may see slightly different numerical results due to floating-point round-off errors from different computation orders. To turn them off, set the environment variable `TF_ENABLE_ONEDNN_OPTS=0`.\n",
      "2025-05-02 23:19:58.973325: E external/local_xla/xla/stream_executor/cuda/cuda_fft.cc:477] Unable to register cuFFT factory: Attempting to register factory for plugin cuFFT when one has already been registered\n",
      "WARNING: All log messages before absl::InitializeLog() is called are written to STDERR\n",
      "E0000 00:00:1746199198.997269  241673 cuda_dnn.cc:8310] Unable to register cuDNN factory: Attempting to register factory for plugin cuDNN when one has already been registered\n",
      "E0000 00:00:1746199199.004648  241673 cuda_blas.cc:1418] Unable to register cuBLAS factory: Attempting to register factory for plugin cuBLAS when one has already been registered\n",
      "2025-05-02 23:19:59.029875: I tensorflow/core/platform/cpu_feature_guard.cc:210] This TensorFlow binary is optimized to use available CPU instructions in performance-critical operations.\n",
      "To enable the following instructions: AVX2 AVX512F AVX512_VNNI FMA, in other operations, rebuild TensorFlow with the appropriate compiler flags.\n"
     ]
    },
    {
     "name": "stdout",
     "output_type": "stream",
     "text": [
      "alphashape is not installed. Please install it using 'pip install alphashape'.\n",
      "fastpd is not installed. Please compile the fastpd library.\n"
     ]
    },
    {
     "name": "stderr",
     "output_type": "stream",
     "text": [
      "/home/liangzhen/anaconda3/envs/spateo/lib/python3.10/site-packages/numba/np/ufunc/dufunc.py:344: NumbaWarning: Compilation requested for previously compiled argument types ((uint32,)). This has no effect and perhaps indicates a bug in the calling code (compiling a ufunc more than once for the same signature\n",
      "  warnings.warn(msg, errors.NumbaWarning)\n",
      "/home/liangzhen/anaconda3/envs/spateo/lib/python3.10/site-packages/numba/np/ufunc/dufunc.py:344: NumbaWarning: Compilation requested for previously compiled argument types ((uint32,)). This has no effect and perhaps indicates a bug in the calling code (compiling a ufunc more than once for the same signature\n",
      "  warnings.warn(msg, errors.NumbaWarning)\n",
      "/home/liangzhen/anaconda3/envs/spateo/lib/python3.10/site-packages/numba/np/ufunc/dufunc.py:344: NumbaWarning: Compilation requested for previously compiled argument types ((uint32,)). This has no effect and perhaps indicates a bug in the calling code (compiling a ufunc more than once for the same signature\n",
      "  warnings.warn(msg, errors.NumbaWarning)\n",
      "/home/liangzhen/anaconda3/envs/spateo/lib/python3.10/site-packages/numba/np/ufunc/dufunc.py:344: NumbaWarning:\n",
      "\n",
      "Compilation requested for previously compiled argument types ((uint32,)). This has no effect and perhaps indicates a bug in the calling code (compiling a ufunc more than once for the same signature\n",
      "\n",
      "/home/liangzhen/anaconda3/envs/spateo/lib/python3.10/site-packages/numba/np/ufunc/dufunc.py:344: NumbaWarning:\n",
      "\n",
      "Compilation requested for previously compiled argument types ((uint32,)). This has no effect and perhaps indicates a bug in the calling code (compiling a ufunc more than once for the same signature\n",
      "\n",
      "/home/liangzhen/anaconda3/envs/spateo/lib/python3.10/site-packages/numba/np/ufunc/dufunc.py:344: NumbaWarning:\n",
      "\n",
      "Compilation requested for previously compiled argument types ((uint32,)). This has no effect and perhaps indicates a bug in the calling code (compiling a ufunc more than once for the same signature\n",
      "\n"
     ]
    }
   ],
   "source": [
    "import numpy as np\n",
    "import pandas as pd\n",
    "import seaborn as sns\n",
    "import matplotlib.pyplot as plt\n",
    "import spateo as st\n",
    "import dynamo as dyn"
   ]
  },
  {
   "cell_type": "code",
   "execution_count": 2,
   "id": "24dafcfa",
   "metadata": {},
   "outputs": [
    {
     "data": {
      "text/plain": [
       "'0.0.0'"
      ]
     },
     "execution_count": 2,
     "metadata": {},
     "output_type": "execute_result"
    }
   ],
   "source": [
    "st.__version__"
   ]
  },
  {
   "cell_type": "code",
   "execution_count": 3,
   "id": "5bde9b9e",
   "metadata": {},
   "outputs": [
    {
     "name": "stderr",
     "output_type": "stream",
     "text": [
      "/tmp/ipykernel_241673/1994576803.py:8: ImplicitModificationWarning:\n",
      "\n",
      "Trying to modify attribute `.obs` of view, initializing view as actual.\n",
      "\n"
     ]
    }
   ],
   "source": [
    "adata = st.read_h5ad('/syn1/liangzhen/jinhua_jilab_project/result/SPATIAL/T2/B03203C612.tissue.bin50.h5ad')\n",
    "adata.obsm['spatial'] = np.array(adata.obs[['x', 'y']])\n",
    "adata.obs['x_y'] = adata.obs['x'].astype('str') +'_'+ adata.obs['y'].astype('str') \n",
    "metadata = pd.read_csv('/syn1/liangzhen/jinhua_jilab_project/result/SPATIAL/T2/spacia_metadata.txt',index_col=0)\n",
    "metadata = metadata.loc[metadata['spot_class'] != 'reject',]\n",
    "metadata.index = metadata['x'].astype('str') +'_'+ metadata['y'].astype('str') \n",
    "adata_selected = adata[adata.obs['x_y'].isin(metadata.index),]\n",
    "adata_selected.obs['celltype'] = metadata.loc[adata_selected.obs['x_y'],'first_type'].to_list()"
   ]
  },
  {
   "cell_type": "code",
   "execution_count": 4,
   "id": "af42d9c4",
   "metadata": {},
   "outputs": [
    {
     "data": {
      "text/plain": [
       "celltype\n",
       "3              13164\n",
       "2              10526\n",
       "Fibroblast      3463\n",
       "Macrophage      1980\n",
       "5               1444\n",
       "1               1412\n",
       "Monocyte         470\n",
       "4                366\n",
       "DC               357\n",
       "endothelial      210\n",
       "T_cell            10\n",
       "NK                 4\n",
       "Neutrophil         4\n",
       "Name: count, dtype: int64"
      ]
     },
     "execution_count": 4,
     "metadata": {},
     "output_type": "execute_result"
    }
   ],
   "source": [
    "adata_selected.obs['celltype'].value_counts()"
   ]
  },
  {
   "cell_type": "code",
   "execution_count": 5,
   "id": "811fde79",
   "metadata": {},
   "outputs": [],
   "source": [
    "adata_selected = adata_selected[adata_selected.obs['celltype'].isin(['1','2','3']),]"
   ]
  },
  {
   "cell_type": "code",
   "execution_count": 6,
   "id": "5161ce63",
   "metadata": {},
   "outputs": [
    {
     "data": {
      "text/html": [
       "<div>\n",
       "<style scoped>\n",
       "    .dataframe tbody tr th:only-of-type {\n",
       "        vertical-align: middle;\n",
       "    }\n",
       "\n",
       "    .dataframe tbody tr th {\n",
       "        vertical-align: top;\n",
       "    }\n",
       "\n",
       "    .dataframe thead th {\n",
       "        text-align: right;\n",
       "    }\n",
       "</style>\n",
       "<table border=\"1\" class=\"dataframe\">\n",
       "  <thead>\n",
       "    <tr style=\"text-align: right;\">\n",
       "      <th></th>\n",
       "      <th>orig.ident</th>\n",
       "      <th>x</th>\n",
       "      <th>y</th>\n",
       "      <th>x_y</th>\n",
       "      <th>celltype</th>\n",
       "    </tr>\n",
       "  </thead>\n",
       "  <tbody>\n",
       "    <tr>\n",
       "      <th>7086696041850</th>\n",
       "      <td>sample</td>\n",
       "      <td>1650</td>\n",
       "      <td>3450</td>\n",
       "      <td>1650_3450</td>\n",
       "      <td>2</td>\n",
       "    </tr>\n",
       "    <tr>\n",
       "      <th>7086696042750</th>\n",
       "      <td>sample</td>\n",
       "      <td>1650</td>\n",
       "      <td>4350</td>\n",
       "      <td>1650_4350</td>\n",
       "      <td>2</td>\n",
       "    </tr>\n",
       "    <tr>\n",
       "      <th>7086696042850</th>\n",
       "      <td>sample</td>\n",
       "      <td>1650</td>\n",
       "      <td>4450</td>\n",
       "      <td>1650_4450</td>\n",
       "      <td>3</td>\n",
       "    </tr>\n",
       "    <tr>\n",
       "      <th>7086696043000</th>\n",
       "      <td>sample</td>\n",
       "      <td>1650</td>\n",
       "      <td>4600</td>\n",
       "      <td>1650_4600</td>\n",
       "      <td>2</td>\n",
       "    </tr>\n",
       "    <tr>\n",
       "      <th>7086696047000</th>\n",
       "      <td>sample</td>\n",
       "      <td>1650</td>\n",
       "      <td>8600</td>\n",
       "      <td>1650_8600</td>\n",
       "      <td>3</td>\n",
       "    </tr>\n",
       "    <tr>\n",
       "      <th>...</th>\n",
       "      <td>...</td>\n",
       "      <td>...</td>\n",
       "      <td>...</td>\n",
       "      <td>...</td>\n",
       "      <td>...</td>\n",
       "    </tr>\n",
       "    <tr>\n",
       "      <th>49821620644550</th>\n",
       "      <td>sample</td>\n",
       "      <td>11600</td>\n",
       "      <td>10950</td>\n",
       "      <td>11600_10950</td>\n",
       "      <td>1</td>\n",
       "    </tr>\n",
       "    <tr>\n",
       "      <th>49821620644600</th>\n",
       "      <td>sample</td>\n",
       "      <td>11600</td>\n",
       "      <td>11000</td>\n",
       "      <td>11600_11000</td>\n",
       "      <td>2</td>\n",
       "    </tr>\n",
       "    <tr>\n",
       "      <th>49821620644700</th>\n",
       "      <td>sample</td>\n",
       "      <td>11600</td>\n",
       "      <td>11100</td>\n",
       "      <td>11600_11100</td>\n",
       "      <td>1</td>\n",
       "    </tr>\n",
       "    <tr>\n",
       "      <th>49821620644800</th>\n",
       "      <td>sample</td>\n",
       "      <td>11600</td>\n",
       "      <td>11200</td>\n",
       "      <td>11600_11200</td>\n",
       "      <td>2</td>\n",
       "    </tr>\n",
       "    <tr>\n",
       "      <th>49821620644900</th>\n",
       "      <td>sample</td>\n",
       "      <td>11600</td>\n",
       "      <td>11300</td>\n",
       "      <td>11600_11300</td>\n",
       "      <td>2</td>\n",
       "    </tr>\n",
       "  </tbody>\n",
       "</table>\n",
       "<p>25102 rows × 5 columns</p>\n",
       "</div>"
      ],
      "text/plain": [
       "               orig.ident      x      y          x_y celltype\n",
       "7086696041850      sample   1650   3450    1650_3450        2\n",
       "7086696042750      sample   1650   4350    1650_4350        2\n",
       "7086696042850      sample   1650   4450    1650_4450        3\n",
       "7086696043000      sample   1650   4600    1650_4600        2\n",
       "7086696047000      sample   1650   8600    1650_8600        3\n",
       "...                   ...    ...    ...          ...      ...\n",
       "49821620644550     sample  11600  10950  11600_10950        1\n",
       "49821620644600     sample  11600  11000  11600_11000        2\n",
       "49821620644700     sample  11600  11100  11600_11100        1\n",
       "49821620644800     sample  11600  11200  11600_11200        2\n",
       "49821620644900     sample  11600  11300  11600_11300        2\n",
       "\n",
       "[25102 rows x 5 columns]"
      ]
     },
     "execution_count": 6,
     "metadata": {},
     "output_type": "execute_result"
    }
   ],
   "source": [
    "adata_selected.obs"
   ]
  },
  {
   "cell_type": "code",
   "execution_count": 7,
   "id": "c6206de1",
   "metadata": {},
   "outputs": [
    {
     "data": {
      "text/plain": [
       "View of AnnData object with n_obs × n_vars = 25102 × 25254\n",
       "    obs: 'orig.ident', 'x', 'y', 'x_y', 'celltype'\n",
       "    uns: 'sn'\n",
       "    obsm: 'spatial'"
      ]
     },
     "execution_count": 7,
     "metadata": {},
     "output_type": "execute_result"
    }
   ],
   "source": [
    "adata_selected"
   ]
  },
  {
   "cell_type": "code",
   "execution_count": 8,
   "id": "eb1c580e",
   "metadata": {},
   "outputs": [
    {
     "name": "stderr",
     "output_type": "stream",
     "text": [
      "/home/liangzhen/anaconda3/envs/spateo/lib/python3.10/site-packages/anndata/compat/_overloaded_dict.py:106: ImplicitModificationWarning:\n",
      "\n",
      "Trying to modify attribute `._uns` of view, initializing view as actual.\n",
      "\n"
     ]
    }
   ],
   "source": [
    "adata_selected.uns['pp'] = {}\n",
    "adata_selected.uns['__type'] = 'UMI'\n",
    "adata_selected.uns['color_key'] = {\n",
    "    '1':'#a6cee3',\n",
    "    '2':'#54278f',\n",
    "    '3':'#e7298a',\n",
    "    '4':'#1f77b4',\n",
    "    '5':'#ff6600',\n",
    "    'Fibroblast':'green',\n",
    "    'endothelial':'#bf5b17',\n",
    "    'Monocyte':'#beaed4',\n",
    "    'DC':'#386cb0',\n",
    "    'Macrophage':'yellow',\n",
    "    'Neutrophil':'#fdc086',\n",
    "    'Mast_cell':'#f0027f',\n",
    "    'NK':'#e6550d',\n",
    "    'T_cell':'#c51b8a'\n",
    "}\n"
   ]
  },
  {
   "cell_type": "code",
   "execution_count": 9,
   "id": "1376a401",
   "metadata": {},
   "outputs": [
    {
     "name": "stderr",
     "output_type": "stream",
     "text": [
      "/tmp/ipykernel_241673/671370406.py:5: DeprecationWarning:\n",
      "\n",
      "normalize_cell_expr_by_size_factors is deprecated and will be removed in a future release. Please update your code to use the new replacement function.\n",
      "\n"
     ]
    },
    {
     "name": "stdout",
     "output_type": "stream",
     "text": [
      "|-----> Set <adata.X> to normalized data\n",
      "|-----> Running PCA on adata.X...\n",
      "|-----> Start computing neighbor graph...\n",
      "|-----------> X_data is None, fetching or recomputing...\n",
      "|-----> fetching X data from layer:None, basis:pca\n",
      "|-----> method arg is None, choosing methods automatically...\n",
      "|-----------> method pynn selected\n"
     ]
    },
    {
     "data": {
      "text/plain": [
       "AnnData object with n_obs × n_vars = 25102 × 21584\n",
       "    obs: 'orig.ident', 'x', 'y', 'x_y', 'celltype', 'Size_Factor', 'initial_cell_size'\n",
       "    var: 'pass_basic_filter'\n",
       "    uns: 'sn', 'pp', '__type', 'color_key', 'neighbors'\n",
       "    obsm: 'spatial', 'X_pca'\n",
       "    obsp: 'distances', 'connectivities'"
      ]
     },
     "execution_count": 9,
     "metadata": {},
     "output_type": "execute_result"
    }
   ],
   "source": [
    "# Preprocessing\n",
    "st.pp.filter.filter_genes(adata_selected, min_cells=3, inplace=True)\n",
    "\n",
    "# Normalization\n",
    "dyn.pp.normalize_cell_expr_by_size_factors(adata_selected, layers=\"X\")\n",
    "\n",
    "# Linear reduction\n",
    "st.tl.pca_spateo(adata_selected, n_pca_components=30)\n",
    "\n",
    "# Identify neighbors(KNN)\n",
    "dyn.tl.neighbors(adata_selected, n_neighbors=30)"
   ]
  },
  {
   "cell_type": "code",
   "execution_count": 10,
   "id": "a39b2f99",
   "metadata": {},
   "outputs": [
    {
     "data": {
      "text/plain": [
       "AnnData object with n_obs × n_vars = 25102 × 21584\n",
       "    obs: 'orig.ident', 'x', 'y', 'x_y', 'celltype', 'Size_Factor', 'initial_cell_size'\n",
       "    var: 'pass_basic_filter'\n",
       "    uns: 'sn', 'pp', '__type', 'color_key', 'neighbors'\n",
       "    obsm: 'spatial', 'X_pca'\n",
       "    obsp: 'distances', 'connectivities'"
      ]
     },
     "execution_count": 10,
     "metadata": {},
     "output_type": "execute_result"
    }
   ],
   "source": [
    "adata_selected"
   ]
  },
  {
   "cell_type": "code",
   "execution_count": 12,
   "id": "2e37fc00",
   "metadata": {
    "scrolled": true
   },
   "outputs": [
    {
     "name": "stdout",
     "output_type": "stream",
     "text": [
      "|-----> <insert> spatial_distances to obsp in AnnData Object.\n",
      "|-----> <insert> spatial_connectivities to obsp in AnnData Object.\n",
      "|-----> <insert> spatial_neighbors to uns in AnnData Object.\n",
      "|-----> <insert> spatial_neighbors.indices to uns in AnnData Object.\n",
      "|-----> <insert> spatial_neighbors.params to uns in AnnData Object.\n"
     ]
    }
   ],
   "source": [
    "_, adata_selected = st.tl.neighbors(\n",
    "    adata_selected,\n",
    "    basis='spatial',\n",
    "    spatial_key='spatial',\n",
    "    n_neighbors=10\n",
    ")"
   ]
  },
  {
   "cell_type": "code",
   "execution_count": null,
   "id": "9d6645dc",
   "metadata": {},
   "outputs": [],
   "source": []
  },
  {
   "cell_type": "markdown",
   "id": "a3f5f412",
   "metadata": {},
   "source": [
    "# cluster"
   ]
  },
  {
   "cell_type": "code",
   "execution_count": 13,
   "id": "16c7b91d",
   "metadata": {},
   "outputs": [
    {
     "data": {
      "text/plain": [
       "AnnData object with n_obs × n_vars = 32355 × 22191\n",
       "    obs: 'orig.ident', 'x', 'y', 'x_y', 'celltype', 'Size_Factor', 'initial_cell_size'\n",
       "    var: 'pass_basic_filter'\n",
       "    uns: 'sn', 'pp', '__type', 'color_key', 'neighbors', 'celltype_colors', 'spatial_neighbors'\n",
       "    obsm: 'spatial', 'X_pca', 'X_spatial'\n",
       "    obsp: 'distances', 'connectivities', 'spatial_distances', 'spatial_connectivities'"
      ]
     },
     "execution_count": 13,
     "metadata": {},
     "output_type": "execute_result"
    }
   ],
   "source": [
    "adata_selected"
   ]
  },
  {
   "cell_type": "code",
   "execution_count": 15,
   "id": "45460618",
   "metadata": {},
   "outputs": [
    {
     "data": {
      "text/plain": [
       "AnnData object with n_obs × n_vars = 32355 × 22191\n",
       "    obs: 'orig.ident', 'x', 'y', 'x_y', 'celltype', 'Size_Factor', 'initial_cell_size'\n",
       "    var: 'pass_basic_filter'\n",
       "    uns: 'sn', 'pp', '__type', 'color_key', 'neighbors', 'celltype_colors', 'spatial_neighbors'\n",
       "    obsm: 'spatial', 'X_pca', 'X_spatial'\n",
       "    obsp: 'distances', 'connectivities', 'spatial_distances', 'spatial_connectivities'"
      ]
     },
     "execution_count": 15,
     "metadata": {},
     "output_type": "execute_result"
    }
   ],
   "source": [
    "adata_selected"
   ]
  },
  {
   "cell_type": "code",
   "execution_count": 13,
   "id": "78a87b09",
   "metadata": {},
   "outputs": [],
   "source": [
    "from matplotlib.colors import ListedColormap,LinearSegmentedColormap\n",
    "colors = [\n",
    "    (0.0, \"white\"),     \n",
    "    (1.0, \"#de2d26\")   \n",
    "]\n",
    "\n",
    "cmap = LinearSegmentedColormap.from_list(\"custom_cmap\", colors, N=256)"
   ]
  },
  {
   "cell_type": "code",
   "execution_count": null,
   "id": "2e52e930",
   "metadata": {},
   "outputs": [],
   "source": []
  },
  {
   "cell_type": "code",
   "execution_count": 15,
   "id": "390f4284",
   "metadata": {
    "scrolled": true
   },
   "outputs": [
    {
     "name": "stdout",
     "output_type": "stream",
     "text": [
      "|-----> <insert> spatial_distances to obsp in AnnData Object.\n",
      "|-----> <insert> spatial_connectivities to obsp in AnnData Object.\n",
      "|-----> <insert> spatial_neighbors to uns in AnnData Object.\n",
      "|-----> <insert> spatial_neighbors.indices to uns in AnnData Object.\n",
      "|-----> <insert> spatial_neighbors.params to uns in AnnData Object.\n"
     ]
    },
    {
     "name": "stderr",
     "output_type": "stream",
     "text": [
      "INFO:fontTools.subset:maxp pruned\n",
      "INFO:fontTools.subset:cmap pruned\n",
      "INFO:fontTools.subset:kern dropped\n",
      "INFO:fontTools.subset:post pruned\n",
      "INFO:fontTools.subset:FFTM dropped\n",
      "INFO:fontTools.subset:GPOS pruned\n",
      "INFO:fontTools.subset:GSUB pruned\n",
      "INFO:fontTools.subset:glyf pruned\n",
      "INFO:fontTools.subset:Added gid0 to subset\n",
      "INFO:fontTools.subset:Added first four glyphs to subset\n",
      "INFO:fontTools.subset:Closing glyph list over 'MATH': 27 glyphs before\n",
      "INFO:fontTools.subset:Glyph names: ['.notdef', '.null', 'N', 'T', 'a', 'b', 'c', 'd', 'e', 'five', 'g', 'h', 'i', 'l', 'm', 'nonmarkingreturn', 'o', 'one', 'period', 'r', 's', 'space', 't', 'three', 'two', 'u', 'zero']\n",
      "INFO:fontTools.subset:Glyph IDs:   [0, 1, 2, 3, 17, 19, 20, 21, 22, 24, 49, 55, 68, 69, 70, 71, 72, 74, 75, 76, 79, 80, 82, 85, 86, 87, 88]\n",
      "INFO:fontTools.subset:Closed glyph list over 'MATH': 27 glyphs after\n",
      "INFO:fontTools.subset:Glyph names: ['.notdef', '.null', 'N', 'T', 'a', 'b', 'c', 'd', 'e', 'five', 'g', 'h', 'i', 'l', 'm', 'nonmarkingreturn', 'o', 'one', 'period', 'r', 's', 'space', 't', 'three', 'two', 'u', 'zero']\n",
      "INFO:fontTools.subset:Glyph IDs:   [0, 1, 2, 3, 17, 19, 20, 21, 22, 24, 49, 55, 68, 69, 70, 71, 72, 74, 75, 76, 79, 80, 82, 85, 86, 87, 88]\n",
      "INFO:fontTools.subset:Closing glyph list over 'GSUB': 27 glyphs before\n",
      "INFO:fontTools.subset:Glyph names: ['.notdef', '.null', 'N', 'T', 'a', 'b', 'c', 'd', 'e', 'five', 'g', 'h', 'i', 'l', 'm', 'nonmarkingreturn', 'o', 'one', 'period', 'r', 's', 'space', 't', 'three', 'two', 'u', 'zero']\n",
      "INFO:fontTools.subset:Glyph IDs:   [0, 1, 2, 3, 17, 19, 20, 21, 22, 24, 49, 55, 68, 69, 70, 71, 72, 74, 75, 76, 79, 80, 82, 85, 86, 87, 88]\n",
      "INFO:fontTools.subset:Closed glyph list over 'GSUB': 27 glyphs after\n",
      "INFO:fontTools.subset:Glyph names: ['.notdef', '.null', 'N', 'T', 'a', 'b', 'c', 'd', 'e', 'five', 'g', 'h', 'i', 'l', 'm', 'nonmarkingreturn', 'o', 'one', 'period', 'r', 's', 'space', 't', 'three', 'two', 'u', 'zero']\n",
      "INFO:fontTools.subset:Glyph IDs:   [0, 1, 2, 3, 17, 19, 20, 21, 22, 24, 49, 55, 68, 69, 70, 71, 72, 74, 75, 76, 79, 80, 82, 85, 86, 87, 88]\n",
      "INFO:fontTools.subset:Closing glyph list over 'glyf': 27 glyphs before\n",
      "INFO:fontTools.subset:Glyph names: ['.notdef', '.null', 'N', 'T', 'a', 'b', 'c', 'd', 'e', 'five', 'g', 'h', 'i', 'l', 'm', 'nonmarkingreturn', 'o', 'one', 'period', 'r', 's', 'space', 't', 'three', 'two', 'u', 'zero']\n",
      "INFO:fontTools.subset:Glyph IDs:   [0, 1, 2, 3, 17, 19, 20, 21, 22, 24, 49, 55, 68, 69, 70, 71, 72, 74, 75, 76, 79, 80, 82, 85, 86, 87, 88]\n",
      "INFO:fontTools.subset:Closed glyph list over 'glyf': 27 glyphs after\n",
      "INFO:fontTools.subset:Glyph names: ['.notdef', '.null', 'N', 'T', 'a', 'b', 'c', 'd', 'e', 'five', 'g', 'h', 'i', 'l', 'm', 'nonmarkingreturn', 'o', 'one', 'period', 'r', 's', 'space', 't', 'three', 'two', 'u', 'zero']\n",
      "INFO:fontTools.subset:Glyph IDs:   [0, 1, 2, 3, 17, 19, 20, 21, 22, 24, 49, 55, 68, 69, 70, 71, 72, 74, 75, 76, 79, 80, 82, 85, 86, 87, 88]\n",
      "INFO:fontTools.subset:Retaining 27 glyphs\n",
      "INFO:fontTools.subset:head subsetting not needed\n",
      "INFO:fontTools.subset:hhea subsetting not needed\n",
      "INFO:fontTools.subset:maxp subsetting not needed\n",
      "INFO:fontTools.subset:OS/2 subsetting not needed\n",
      "INFO:fontTools.subset:hmtx subsetted\n",
      "INFO:fontTools.subset:cmap subsetted\n",
      "INFO:fontTools.subset:fpgm subsetting not needed\n",
      "INFO:fontTools.subset:prep subsetting not needed\n",
      "INFO:fontTools.subset:cvt  subsetting not needed\n",
      "INFO:fontTools.subset:loca subsetting not needed\n",
      "INFO:fontTools.subset:post subsetted\n",
      "INFO:fontTools.subset:gasp subsetting not needed\n",
      "INFO:fontTools.subset:MATH subsetted\n",
      "INFO:fontTools.subset:GDEF subsetted\n",
      "INFO:fontTools.subset:GPOS subsetted\n",
      "INFO:fontTools.subset:GSUB subsetted\n",
      "INFO:fontTools.subset:name subsetting not needed\n",
      "INFO:fontTools.subset:glyf subsetted\n",
      "INFO:fontTools.subset:head pruned\n",
      "INFO:fontTools.subset:OS/2 Unicode ranges pruned: [0]\n",
      "INFO:fontTools.subset:OS/2 CodePage ranges pruned: [0]\n",
      "INFO:fontTools.subset:glyf pruned\n",
      "INFO:fontTools.subset:GDEF pruned\n",
      "INFO:fontTools.subset:GPOS pruned\n",
      "INFO:fontTools.subset:GSUB pruned\n",
      "INFO:fontTools.subset:name pruned\n"
     ]
    },
    {
     "data": {
      "image/png": "[encoded data removed]",
      "text/plain": [
       "<Figure size 400x400 with 4 Axes>"
      ]
     },
     "metadata": {
      "image/png": {
       "height": 399,
       "width": 379
      }
     },
     "output_type": "display_data"
    }
   ],
   "source": [
    "adata_selected_state = adata_selected[adata_selected.obs['celltype'].isin(['1','2','3']),]\n",
    "_, adata_selected_state = st.tl.neighbors(\n",
    "    adata_selected_state,\n",
    "    basis='spatial',\n",
    "    spatial_key='spatial',\n",
    "    n_neighbors=10\n",
    ")\n",
    "\n",
    "\n",
    "cluster_neighbors_all = pd.DataFrame()\n",
    "for celltype in set(adata_selected_state.obs.celltype):\n",
    "    neighbors = adata_selected_state.obs.iloc[list(set(adata_selected_state.uns['spatial_neighbors']['indices'][adata_selected_state.obs.celltype==celltype].flatten())),4]  \n",
    "    cluster_neighbors = pd.DataFrame(neighbors.value_counts())\n",
    "    cluster_neighbors['tumor_state'] = celltype\n",
    "    cluster_neighbors['neighbors'] = cluster_neighbors.index\n",
    "    cluster_neighbors_all = pd.concat([cluster_neighbors_all,cluster_neighbors],axis=0)    \n",
    "    \n",
    "cluster_neighbors_all = cluster_neighbors_all.pivot(index='tumor_state', columns='neighbors', values='count')\n",
    "cluster_neighbors_all = cluster_neighbors_all.fillna(0)\n",
    "cluster_neighbors_all = cluster_neighbors_all.iloc[0:3,0:3]\n",
    "row_sums = cluster_neighbors_all.sum(axis=1)\n",
    "cluster_neighbors_all = cluster_neighbors_all.div(row_sums, axis=0)\n",
    "clustermap = sns.clustermap(cluster_neighbors_all.round(2),figsize=[4,4],col_cluster=False,row_cluster=False,annot=False,cmap=cmap)\n",
    "clustermap.ax_heatmap.yaxis.set_ticks_position('left')\n",
    "clustermap.ax_heatmap.set_xlabel(\"Neighborhood ratio\")\n",
    "clustermap.ax_heatmap.set_ylabel(\"Tumor cluster\")\n",
    "plt.savefig('/syn1/liangzhen/jinhua_jilab_project/result/Figures/Figure5/Figure1a/T2_state_neighborhood.pdf')\n",
    "plt.show()"
   ]
  },
  {
   "cell_type": "code",
   "execution_count": 27,
   "id": "d3cd33db",
   "metadata": {},
   "outputs": [
    {
     "name": "stderr",
     "output_type": "stream",
     "text": [
      "INFO:fontTools.subset:maxp pruned\n",
      "INFO:fontTools.subset:cmap pruned\n",
      "INFO:fontTools.subset:kern dropped\n",
      "INFO:fontTools.subset:post pruned\n",
      "INFO:fontTools.subset:FFTM dropped\n",
      "INFO:fontTools.subset:GPOS pruned\n",
      "INFO:fontTools.subset:GSUB pruned\n",
      "INFO:fontTools.subset:glyf pruned\n",
      "INFO:fontTools.subset:Added gid0 to subset\n",
      "INFO:fontTools.subset:Added first four glyphs to subset\n",
      "INFO:fontTools.subset:Closing glyph list over 'MATH': 31 glyphs before\n",
      "INFO:fontTools.subset:Glyph names: ['.notdef', '.null', 'F', 'M', 'N', 'T', 'a', 'b', 'c', 'd', 'e', 'five', 'four', 'g', 'h', 'i', 'l', 'm', 'nonmarkingreturn', 'o', 'one', 'p', 'period', 'r', 's', 'space', 't', 'three', 'two', 'u', 'zero']\n",
      "INFO:fontTools.subset:Glyph IDs:   [0, 1, 2, 3, 17, 19, 20, 21, 22, 23, 24, 41, 48, 49, 55, 68, 69, 70, 71, 72, 74, 75, 76, 79, 80, 82, 83, 85, 86, 87, 88]\n",
      "INFO:fontTools.subset:Closed glyph list over 'MATH': 31 glyphs after\n",
      "INFO:fontTools.subset:Glyph names: ['.notdef', '.null', 'F', 'M', 'N', 'T', 'a', 'b', 'c', 'd', 'e', 'five', 'four', 'g', 'h', 'i', 'l', 'm', 'nonmarkingreturn', 'o', 'one', 'p', 'period', 'r', 's', 'space', 't', 'three', 'two', 'u', 'zero']\n",
      "INFO:fontTools.subset:Glyph IDs:   [0, 1, 2, 3, 17, 19, 20, 21, 22, 23, 24, 41, 48, 49, 55, 68, 69, 70, 71, 72, 74, 75, 76, 79, 80, 82, 83, 85, 86, 87, 88]\n",
      "INFO:fontTools.subset:Closing glyph list over 'GSUB': 31 glyphs before\n",
      "INFO:fontTools.subset:Glyph names: ['.notdef', '.null', 'F', 'M', 'N', 'T', 'a', 'b', 'c', 'd', 'e', 'five', 'four', 'g', 'h', 'i', 'l', 'm', 'nonmarkingreturn', 'o', 'one', 'p', 'period', 'r', 's', 'space', 't', 'three', 'two', 'u', 'zero']\n",
      "INFO:fontTools.subset:Glyph IDs:   [0, 1, 2, 3, 17, 19, 20, 21, 22, 23, 24, 41, 48, 49, 55, 68, 69, 70, 71, 72, 74, 75, 76, 79, 80, 82, 83, 85, 86, 87, 88]\n",
      "INFO:fontTools.subset:Closed glyph list over 'GSUB': 31 glyphs after\n",
      "INFO:fontTools.subset:Glyph names: ['.notdef', '.null', 'F', 'M', 'N', 'T', 'a', 'b', 'c', 'd', 'e', 'five', 'four', 'g', 'h', 'i', 'l', 'm', 'nonmarkingreturn', 'o', 'one', 'p', 'period', 'r', 's', 'space', 't', 'three', 'two', 'u', 'zero']\n",
      "INFO:fontTools.subset:Glyph IDs:   [0, 1, 2, 3, 17, 19, 20, 21, 22, 23, 24, 41, 48, 49, 55, 68, 69, 70, 71, 72, 74, 75, 76, 79, 80, 82, 83, 85, 86, 87, 88]\n",
      "INFO:fontTools.subset:Closing glyph list over 'glyf': 31 glyphs before\n",
      "INFO:fontTools.subset:Glyph names: ['.notdef', '.null', 'F', 'M', 'N', 'T', 'a', 'b', 'c', 'd', 'e', 'five', 'four', 'g', 'h', 'i', 'l', 'm', 'nonmarkingreturn', 'o', 'one', 'p', 'period', 'r', 's', 'space', 't', 'three', 'two', 'u', 'zero']\n",
      "INFO:fontTools.subset:Glyph IDs:   [0, 1, 2, 3, 17, 19, 20, 21, 22, 23, 24, 41, 48, 49, 55, 68, 69, 70, 71, 72, 74, 75, 76, 79, 80, 82, 83, 85, 86, 87, 88]\n",
      "INFO:fontTools.subset:Closed glyph list over 'glyf': 31 glyphs after\n",
      "INFO:fontTools.subset:Glyph names: ['.notdef', '.null', 'F', 'M', 'N', 'T', 'a', 'b', 'c', 'd', 'e', 'five', 'four', 'g', 'h', 'i', 'l', 'm', 'nonmarkingreturn', 'o', 'one', 'p', 'period', 'r', 's', 'space', 't', 'three', 'two', 'u', 'zero']\n",
      "INFO:fontTools.subset:Glyph IDs:   [0, 1, 2, 3, 17, 19, 20, 21, 22, 23, 24, 41, 48, 49, 55, 68, 69, 70, 71, 72, 74, 75, 76, 79, 80, 82, 83, 85, 86, 87, 88]\n",
      "INFO:fontTools.subset:Retaining 31 glyphs\n",
      "INFO:fontTools.subset:head subsetting not needed\n",
      "INFO:fontTools.subset:hhea subsetting not needed\n",
      "INFO:fontTools.subset:maxp subsetting not needed\n",
      "INFO:fontTools.subset:OS/2 subsetting not needed\n",
      "INFO:fontTools.subset:hmtx subsetted\n",
      "INFO:fontTools.subset:cmap subsetted\n",
      "INFO:fontTools.subset:fpgm subsetting not needed\n",
      "INFO:fontTools.subset:prep subsetting not needed\n",
      "INFO:fontTools.subset:cvt  subsetting not needed\n",
      "INFO:fontTools.subset:loca subsetting not needed\n",
      "INFO:fontTools.subset:post subsetted\n",
      "INFO:fontTools.subset:gasp subsetting not needed\n",
      "INFO:fontTools.subset:MATH subsetted\n",
      "INFO:fontTools.subset:GDEF subsetted\n",
      "INFO:fontTools.subset:GPOS subsetted\n",
      "INFO:fontTools.subset:GSUB subsetted\n",
      "INFO:fontTools.subset:name subsetting not needed\n",
      "INFO:fontTools.subset:glyf subsetted\n",
      "INFO:fontTools.subset:head pruned\n",
      "INFO:fontTools.subset:OS/2 Unicode ranges pruned: [0]\n",
      "INFO:fontTools.subset:OS/2 CodePage ranges pruned: [0]\n",
      "INFO:fontTools.subset:glyf pruned\n",
      "INFO:fontTools.subset:GDEF pruned\n",
      "INFO:fontTools.subset:GPOS pruned\n",
      "INFO:fontTools.subset:GSUB pruned\n",
      "INFO:fontTools.subset:name pruned\n"
     ]
    },
    {
     "data": {
      "image/png": "[encoded data removed]",
      "text/plain": [
       "<Figure size 400x340 with 4 Axes>"
      ]
     },
     "metadata": {
      "image/png": {
       "height": 341,
       "width": 337
      }
     },
     "output_type": "display_data"
    }
   ],
   "source": [
    "cluster_neighbors_all = pd.DataFrame()\n",
    "for celltype in set(adata_selected.obs.celltype):\n",
    "    neighbors = adata_selected.obs.iloc[list(set(adata_selected.uns['spatial_neighbors']['indices'][adata_selected.obs.celltype==celltype].flatten())),4]  \n",
    "    cluster_neighbors = pd.DataFrame(neighbors.value_counts())\n",
    "    cluster_neighbors['tumor_state'] = celltype\n",
    "    cluster_neighbors['neighbors'] = cluster_neighbors.index\n",
    "    cluster_neighbors = cluster_neighbors[cluster_neighbors['neighbors']!=celltype]\n",
    "    cluster_neighbors_all = pd.concat([cluster_neighbors_all,cluster_neighbors],axis=0)    \n",
    "    \n",
    "cluster_neighbors_all = cluster_neighbors_all.pivot(index='tumor_state', columns='neighbors', values='count')\n",
    "cluster_neighbors_all = cluster_neighbors_all.fillna(0)\n",
    "cluster_neighbors_all = cluster_neighbors_all.iloc[0:7,:]\n",
    "row_sums = cluster_neighbors_all.sum(axis=1)\n",
    "cluster_neighbors_all = cluster_neighbors_all.div(row_sums, axis=0)\n",
    "clustermap = sns.clustermap(cluster_neighbors_all.round(2),figsize=[4,3.4],col_cluster=False,row_cluster=False,annot=False,cmap=cmap)\n",
    "clustermap.ax_heatmap.yaxis.set_ticks_position('left')\n",
    "clustermap.ax_heatmap.set_xlabel(\"Neighborhood ratio\")\n",
    "clustermap.ax_heatmap.set_ylabel(\"Tumor cluster\")\n",
    "plt.savefig('/syn1/liangzhen/jinhua_jilab_project/result/Figures/Figure5/Figure1a/T2_remove_selfstate_neighborhood.pdf')\n",
    "plt.show()"
   ]
  },
  {
   "cell_type": "code",
   "execution_count": null,
   "id": "6db20b82",
   "metadata": {},
   "outputs": [],
   "source": []
  },
  {
   "cell_type": "code",
   "execution_count": 16,
   "id": "0821e0f9",
   "metadata": {
    "scrolled": true
   },
   "outputs": [
    {
     "name": "stderr",
     "output_type": "stream",
     "text": [
      "INFO:fontTools.subset:maxp pruned\n",
      "INFO:fontTools.subset:cmap pruned\n",
      "INFO:fontTools.subset:kern dropped\n",
      "INFO:fontTools.subset:post pruned\n",
      "INFO:fontTools.subset:FFTM dropped\n",
      "INFO:fontTools.subset:GPOS pruned\n",
      "INFO:fontTools.subset:GSUB pruned\n",
      "INFO:fontTools.subset:glyf pruned\n",
      "INFO:fontTools.subset:Added gid0 to subset\n",
      "INFO:fontTools.subset:Added first four glyphs to subset\n",
      "INFO:fontTools.subset:Closing glyph list over 'MATH': 30 glyphs before\n",
      "INFO:fontTools.subset:Glyph names: ['.notdef', '.null', 'F', 'M', 'a', 'b', 'c', 'e', 'five', 'four', 'g', 'h', 'i', 'l', 'm', 'n', 'nonmarkingreturn', 'o', 'one', 'p', 'period', 'r', 's', 'space', 't', 'three', 'two', 'u', 'underscore', 'zero']\n",
      "INFO:fontTools.subset:Glyph IDs:   [0, 1, 2, 3, 17, 19, 20, 21, 22, 23, 24, 41, 48, 66, 68, 69, 70, 72, 74, 75, 76, 79, 80, 81, 82, 83, 85, 86, 87, 88]\n",
      "INFO:fontTools.subset:Closed glyph list over 'MATH': 30 glyphs after\n",
      "INFO:fontTools.subset:Glyph names: ['.notdef', '.null', 'F', 'M', 'a', 'b', 'c', 'e', 'five', 'four', 'g', 'h', 'i', 'l', 'm', 'n', 'nonmarkingreturn', 'o', 'one', 'p', 'period', 'r', 's', 'space', 't', 'three', 'two', 'u', 'underscore', 'zero']\n",
      "INFO:fontTools.subset:Glyph IDs:   [0, 1, 2, 3, 17, 19, 20, 21, 22, 23, 24, 41, 48, 66, 68, 69, 70, 72, 74, 75, 76, 79, 80, 81, 82, 83, 85, 86, 87, 88]\n",
      "INFO:fontTools.subset:Closing glyph list over 'GSUB': 30 glyphs before\n",
      "INFO:fontTools.subset:Glyph names: ['.notdef', '.null', 'F', 'M', 'a', 'b', 'c', 'e', 'five', 'four', 'g', 'h', 'i', 'l', 'm', 'n', 'nonmarkingreturn', 'o', 'one', 'p', 'period', 'r', 's', 'space', 't', 'three', 'two', 'u', 'underscore', 'zero']\n",
      "INFO:fontTools.subset:Glyph IDs:   [0, 1, 2, 3, 17, 19, 20, 21, 22, 23, 24, 41, 48, 66, 68, 69, 70, 72, 74, 75, 76, 79, 80, 81, 82, 83, 85, 86, 87, 88]\n",
      "INFO:fontTools.subset:Closed glyph list over 'GSUB': 30 glyphs after\n",
      "INFO:fontTools.subset:Glyph names: ['.notdef', '.null', 'F', 'M', 'a', 'b', 'c', 'e', 'five', 'four', 'g', 'h', 'i', 'l', 'm', 'n', 'nonmarkingreturn', 'o', 'one', 'p', 'period', 'r', 's', 'space', 't', 'three', 'two', 'u', 'underscore', 'zero']\n",
      "INFO:fontTools.subset:Glyph IDs:   [0, 1, 2, 3, 17, 19, 20, 21, 22, 23, 24, 41, 48, 66, 68, 69, 70, 72, 74, 75, 76, 79, 80, 81, 82, 83, 85, 86, 87, 88]\n",
      "INFO:fontTools.subset:Closing glyph list over 'glyf': 30 glyphs before\n",
      "INFO:fontTools.subset:Glyph names: ['.notdef', '.null', 'F', 'M', 'a', 'b', 'c', 'e', 'five', 'four', 'g', 'h', 'i', 'l', 'm', 'n', 'nonmarkingreturn', 'o', 'one', 'p', 'period', 'r', 's', 'space', 't', 'three', 'two', 'u', 'underscore', 'zero']\n",
      "INFO:fontTools.subset:Glyph IDs:   [0, 1, 2, 3, 17, 19, 20, 21, 22, 23, 24, 41, 48, 66, 68, 69, 70, 72, 74, 75, 76, 79, 80, 81, 82, 83, 85, 86, 87, 88]\n",
      "INFO:fontTools.subset:Closed glyph list over 'glyf': 30 glyphs after\n",
      "INFO:fontTools.subset:Glyph names: ['.notdef', '.null', 'F', 'M', 'a', 'b', 'c', 'e', 'five', 'four', 'g', 'h', 'i', 'l', 'm', 'n', 'nonmarkingreturn', 'o', 'one', 'p', 'period', 'r', 's', 'space', 't', 'three', 'two', 'u', 'underscore', 'zero']\n",
      "INFO:fontTools.subset:Glyph IDs:   [0, 1, 2, 3, 17, 19, 20, 21, 22, 23, 24, 41, 48, 66, 68, 69, 70, 72, 74, 75, 76, 79, 80, 81, 82, 83, 85, 86, 87, 88]\n",
      "INFO:fontTools.subset:Retaining 30 glyphs\n",
      "INFO:fontTools.subset:head subsetting not needed\n",
      "INFO:fontTools.subset:hhea subsetting not needed\n",
      "INFO:fontTools.subset:maxp subsetting not needed\n",
      "INFO:fontTools.subset:OS/2 subsetting not needed\n",
      "INFO:fontTools.subset:hmtx subsetted\n",
      "INFO:fontTools.subset:cmap subsetted\n",
      "INFO:fontTools.subset:fpgm subsetting not needed\n",
      "INFO:fontTools.subset:prep subsetting not needed\n",
      "INFO:fontTools.subset:cvt  subsetting not needed\n",
      "INFO:fontTools.subset:loca subsetting not needed\n",
      "INFO:fontTools.subset:post subsetted\n",
      "INFO:fontTools.subset:gasp subsetting not needed\n",
      "INFO:fontTools.subset:MATH subsetted\n",
      "INFO:fontTools.subset:GDEF subsetted\n",
      "INFO:fontTools.subset:GPOS subsetted\n",
      "INFO:fontTools.subset:GSUB subsetted\n",
      "INFO:fontTools.subset:name subsetting not needed\n",
      "INFO:fontTools.subset:glyf subsetted\n",
      "INFO:fontTools.subset:head pruned\n",
      "INFO:fontTools.subset:OS/2 Unicode ranges pruned: [0]\n",
      "INFO:fontTools.subset:OS/2 CodePage ranges pruned: [0]\n",
      "INFO:fontTools.subset:glyf pruned\n",
      "INFO:fontTools.subset:GDEF pruned\n",
      "INFO:fontTools.subset:GPOS pruned\n",
      "INFO:fontTools.subset:GSUB pruned\n",
      "INFO:fontTools.subset:name pruned\n"
     ]
    },
    {
     "data": {
      "text/plain": [
       "<Figure size 400x400 with 0 Axes>"
      ]
     },
     "metadata": {},
     "output_type": "display_data"
    },
    {
     "data": {
      "image/png": "[encoded data removed]",
      "text/plain": [
       "<Figure size 400x400 with 4 Axes>"
      ]
     },
     "metadata": {
      "image/png": {
       "height": 400,
       "width": 337
      }
     },
     "output_type": "display_data"
    }
   ],
   "source": [
    "cluster_neighbors_all = pd.DataFrame()\n",
    "for celltype in set(adata_selected.obs.celltype):\n",
    "    neighbors = adata_selected.obs.iloc[list(set(adata_selected.uns['spatial_neighbors']['indices'][adata_selected.obs.celltype==celltype].flatten())),4]  \n",
    "    cluster_neighbors = pd.DataFrame(neighbors.value_counts())\n",
    "    cluster_neighbors['tumor_state'] = celltype\n",
    "    cluster_neighbors['neighbors'] = cluster_neighbors.index\n",
    "    cluster_neighbors_all = pd.concat([cluster_neighbors_all,cluster_neighbors],axis=0)    \n",
    "    \n",
    "cluster_neighbors_all = cluster_neighbors_all.pivot(index='tumor_state', columns='neighbors', values='count')\n",
    "cluster_neighbors_all = cluster_neighbors_all.fillna(0)\n",
    "cluster_neighbors_all = cluster_neighbors_all.iloc[:,:]\n",
    "row_sums = cluster_neighbors_all.sum(axis=1)\n",
    "cluster_neighbors_all = cluster_neighbors_all.div(row_sums, axis=0)\n",
    "plt.rcParams['pdf.fonttype'] = 42\n",
    "plt.gcf().set_size_inches(4, 4)\n",
    "clustermap = sns.clustermap(cluster_neighbors_all.round(2),figsize=[4,4],col_cluster=False,row_cluster=False,annot=False,cmap=cmap)\n",
    "clustermap.ax_heatmap.yaxis.set_ticks_position('left')\n",
    "plt.savefig('/syn1/liangzhen/jinhua_jilab_project/result/Figures/Figure5/T2_state_neighborhood.pdf')\n",
    "plt.show()"
   ]
  },
  {
   "cell_type": "code",
   "execution_count": null,
   "id": "6009691a",
   "metadata": {},
   "outputs": [],
   "source": []
  }
 ],
 "metadata": {
  "kernelspec": {
   "display_name": "spateo",
   "language": "python",
   "name": "spateo"
  },
  "language_info": {
   "codemirror_mode": {
    "name": "ipython",
    "version": 3
   },
   "file_extension": ".py",
   "mimetype": "text/x-python",
   "name": "python",
   "nbconvert_exporter": "python",
   "pygments_lexer": "ipython3",
   "version": "3.10.0"
  },
  "toc": {
   "base_numbering": 1,
   "nav_menu": {},
   "number_sections": false,
   "sideBar": true,
   "skip_h1_title": false,
   "title_cell": "Table of Contents",
   "title_sidebar": "Contents",
   "toc_cell": false,
   "toc_position": {
    "height": "calc(100% - 180px)",
    "left": "10px",
    "top": "150px",
    "width": "383.891px"
   },
   "toc_section_display": true,
   "toc_window_display": true
  }
 },
 "nbformat": 4,
 "nbformat_minor": 5
}
