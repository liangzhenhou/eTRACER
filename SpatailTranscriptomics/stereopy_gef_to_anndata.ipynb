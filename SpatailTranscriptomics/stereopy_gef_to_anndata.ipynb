{
 "cells": [
  {
   "cell_type": "code",
   "execution_count": null,
   "id": "40a5ed0c",
   "metadata": {},
   "outputs": [],
   "source": []
  },
  {
   "cell_type": "markdown",
   "id": "1c71c7fe",
   "metadata": {},
   "source": [
    "# bin50"
   ]
  },
  {
   "cell_type": "code",
   "execution_count": 2,
   "id": "7fdebafb",
   "metadata": {},
   "outputs": [],
   "source": [
    "import stereo as st\n",
    "import warnings\n",
    "warnings.filterwarnings('ignore')\n"
   ]
  },
  {
   "cell_type": "code",
   "execution_count": null,
   "id": "30ad6d88",
   "metadata": {},
   "outputs": [],
   "source": []
  },
  {
   "cell_type": "code",
   "execution_count": 5,
   "id": "a56588d8",
   "metadata": {},
   "outputs": [
    {
     "name": "stderr",
     "output_type": "stream",
     "text": [
      "[2024-10-22 17:56:56][Stereo][26400][MainThread][140134375233344][reader][1371][INFO]: This is GEF file which contains traditional bin infomation.\n",
      "[2024-10-22 17:56:56][Stereo][26400][MainThread][140134375233344][reader][1372][INFO]: bin_type: bins\n",
      "[2024-10-22 17:56:56][Stereo][26400][MainThread][140134375233344][reader][1375][INFO]: Bin size list: ['bin1']\n",
      "[2024-10-22 17:56:56][Stereo][26400][MainThread][140134375233344][reader][1381][INFO]: Resolution: 500\n",
      "[2024-10-22 17:56:56][Stereo][26400][MainThread][140134375233344][reader][1384][INFO]: Gene count: 25254\n",
      "[2024-10-22 17:56:56][Stereo][26400][MainThread][140134375233344][reader][1393][INFO]: offsetX: 0\n",
      "[2024-10-22 17:56:56][Stereo][26400][MainThread][140134375233344][reader][1396][INFO]: offsetY: 0\n",
      "[2024-10-22 17:56:56][Stereo][26400][MainThread][140134375233344][reader][1399][INFO]: Width: 11759\n",
      "[2024-10-22 17:56:56][Stereo][26400][MainThread][140134375233344][reader][1402][INFO]: Height: 14699\n",
      "[2024-10-22 17:56:56][Stereo][26400][MainThread][140134375233344][reader][1405][INFO]: Max Exp: 108\n"
     ]
    },
    {
     "data": {
      "text/plain": [
       "{'bin_list': ['bin1'],\n",
       " 'resolution': 500,\n",
       " 'gene_count': 25254,\n",
       " 'offsetX': 0,\n",
       " 'offsetY': 0,\n",
       " 'width': 11759,\n",
       " 'height': 14699,\n",
       " 'maxExp': 108}"
      ]
     },
     "execution_count": 5,
     "metadata": {},
     "output_type": "execute_result"
    }
   ],
   "source": [
    "data_path = '/syn1/liangzhen/jinhua_jilab_project/data/spatial/sunyannan0626024/X101SC24045330-Z01-J002_StereoSeq_release_20240625095526/Result_X101SC24045330-Z01-J002/1.SAW/YJH_ST_2/B03203C612.tissue.gef'\n",
    "st.io.read_gef_info(data_path)"
   ]
  },
  {
   "cell_type": "code",
   "execution_count": 6,
   "id": "bc8227ac",
   "metadata": {},
   "outputs": [
    {
     "name": "stderr",
     "output_type": "stream",
     "text": [
      "[2024-10-22 17:56:56][Stereo][26400][MainThread][140134375233344][reader][1158][INFO]: read_gef begin ...\n"
     ]
    },
    {
     "name": "stdout",
     "output_type": "stream",
     "text": [
      "Warning:your source data file only has gene column,but you specify return gene_names and gene ids which is invalid!so we will return an empty array which has same size with gene_names for the gene_ids\n"
     ]
    },
    {
     "name": "stderr",
     "output_type": "stream",
     "text": [
      "[2024-10-22 17:57:30][Stereo][26400][MainThread][140134375233344][reader][1342][INFO]: the matrix has 35729 cells, and 25254 genes.\n",
      "[2024-10-22 17:57:30][Stereo][26400][MainThread][140134375233344][reader][1343][INFO]: read_gef end.\n"
     ]
    }
   ],
   "source": [
    "data = st.io.read_gef(file_path=data_path, bin_size=50)"
   ]
  },
  {
   "cell_type": "code",
   "execution_count": 7,
   "id": "d08bc5c8",
   "metadata": {},
   "outputs": [
    {
     "data": {
      "text/plain": [
       "StereoExpData object with n_cells X n_genes = 35729 X 25254\n",
       "bin_type: bins\n",
       "bin_size: 50\n",
       "offset_x = 0\n",
       "offset_y = 0\n",
       "cells: ['cell_name']\n",
       "genes: ['gene_name']\n",
       "result: []"
      ]
     },
     "execution_count": 7,
     "metadata": {},
     "output_type": "execute_result"
    }
   ],
   "source": [
    "data"
   ]
  },
  {
   "cell_type": "code",
   "execution_count": 8,
   "id": "af9ea118",
   "metadata": {},
   "outputs": [
    {
     "name": "stderr",
     "output_type": "stream",
     "text": [
      "[2024-10-22 17:57:31][Stereo][26400][MainThread][140134375233344][reader][896][INFO]: Adding sample in adata.obs['orig.ident'].\n",
      "[2024-10-22 17:57:31][Stereo][26400][MainThread][140134375233344][reader][899][INFO]: Adding data.position as adata.obsm['spatial'] .\n",
      "[2024-10-22 17:57:31][Stereo][26400][MainThread][140134375233344][reader][904][INFO]: Adding data.position as adata.obs['x'] and adata.obs['y'] .\n",
      "[2024-10-22 17:57:31][Stereo][26400][MainThread][140134375233344][reader][1044][INFO]: Rename QC info.\n",
      "[2024-10-22 17:57:31][Stereo][26400][MainThread][140134375233344][reader][1048][INFO]: Finished conversion to anndata.\n",
      "[2024-10-22 17:57:44][Stereo][26400][MainThread][140134375233344][reader][1052][INFO]: Finished output to /syn1/liangzhen/jinhua_jilab_project/result/SPATIAL/T2/B03203C612.tissue.bin50.h5ad\n"
     ]
    }
   ],
   "source": [
    "adata = st.io.stereo_to_anndata(data,flavor='seurat',output='/syn1/liangzhen/jinhua_jilab_project/result/SPATIAL/T2/B03203C612.tissue.bin50.h5ad')\n",
    "adata.obs.to_csv('/syn1/liangzhen/jinhua_jilab_project/result/SPATIAL/T2/bin50_metadata.csv.test')\n",
    "adata.to_df().to_csv('/syn1/liangzhen/jinhua_jilab_project/result/SPATIAL/T2/bin50_exp.csv.test')"
   ]
  },
  {
   "cell_type": "code",
   "execution_count": null,
   "id": "fa263f4d",
   "metadata": {},
   "outputs": [],
   "source": []
  },
  {
   "cell_type": "code",
   "execution_count": null,
   "id": "4cd44c53",
   "metadata": {},
   "outputs": [],
   "source": []
  },
  {
   "cell_type": "markdown",
   "id": "e931d58b",
   "metadata": {},
   "source": [
    "# bin1 gem"
   ]
  },
  {
   "cell_type": "code",
   "execution_count": 3,
   "id": "d37dc4c0",
   "metadata": {},
   "outputs": [
    {
     "data": {
      "text/plain": [
       "'1.3.1'"
      ]
     },
     "execution_count": 3,
     "metadata": {},
     "output_type": "execute_result"
    }
   ],
   "source": [
    "import stereo as st\n",
    "import warnings\n",
    "warnings.filterwarnings('ignore')\n",
    "from gefpy.gef_to_gem_cy import gefToGem\n",
    "st.__version__"
   ]
  },
  {
   "cell_type": "code",
   "execution_count": 4,
   "id": "6efd9355",
   "metadata": {},
   "outputs": [],
   "source": [
    "strout = \"/syn1/liangzhen/jinhua_jilab_project/result/SPATIAL/T2/B03203C612.tissue.bin1.gem\"\n",
    "strsn = \"/syn1/liangzhen/jinhua_jilab_project/data/spatial/sunyannan0626024/X101SC24045330-Z01-J002_StereoSeq_release_20240625095526/Result_X101SC24045330-Z01-J002/1.SAW/YJH_ST_2/B03203C612.tissue\"\n",
    "obj = gefToGem(strout, strsn)"
   ]
  },
  {
   "cell_type": "code",
   "execution_count": 5,
   "id": "32a6dab1",
   "metadata": {},
   "outputs": [
    {
     "name": "stdout",
     "output_type": "stream",
     "text": [
      "minx:0 miny:0 maxx:11759 maxy:14699\n"
     ]
    }
   ],
   "source": [
    "strbgef = '/syn1/liangzhen/jinhua_jilab_project/data/spatial/sunyannan0626024/X101SC24045330-Z01-J002_StereoSeq_release_20240625095526/Result_X101SC24045330-Z01-J002/1.SAW/YJH_ST_2/B03203C612.tissue.gef'\n",
    "binsize = 1\n",
    "obj.bgef2gem(strbgef, binsize)"
   ]
  },
  {
   "cell_type": "code",
   "execution_count": null,
   "id": "f1c0ec7e",
   "metadata": {},
   "outputs": [],
   "source": []
  },
  {
   "cell_type": "code",
   "execution_count": null,
   "id": "c240f401",
   "metadata": {},
   "outputs": [],
   "source": []
  },
  {
   "cell_type": "markdown",
   "id": "0cc0e3c8",
   "metadata": {},
   "source": [
    "# bin50 gem"
   ]
  },
  {
   "cell_type": "code",
   "execution_count": 6,
   "id": "3ca5e6b5",
   "metadata": {},
   "outputs": [],
   "source": [
    "import pandas as pd"
   ]
  },
  {
   "cell_type": "code",
   "execution_count": 7,
   "id": "ae2fce1b",
   "metadata": {},
   "outputs": [],
   "source": [
    "gem = pd.read_csv('/syn1/liangzhen/jinhua_jilab_project/result/SPATIAL/T2/B03203C612.tissue.bin1.gem',\n",
    "            sep='\\t',header=None,skiprows=[0,1,2,3,4,5,6,7,8])\n",
    "gem.columns = ['geneID','x','y','MIDCount','ExonCount']"
   ]
  },
  {
   "cell_type": "code",
   "execution_count": 8,
   "id": "ae176386",
   "metadata": {},
   "outputs": [],
   "source": [
    "gem['bin50_x'] = gem['x']//50*50\n",
    "gem['bin50_y'] = gem['y']//50*50"
   ]
  },
  {
   "cell_type": "code",
   "execution_count": 9,
   "id": "5a38d079",
   "metadata": {},
   "outputs": [],
   "source": [
    "gem['bin50ID'] = gem['bin50_x'].astype('str') + '_' + gem['bin50_y'].astype('str')"
   ]
  },
  {
   "cell_type": "code",
   "execution_count": 10,
   "id": "0dd6c313",
   "metadata": {},
   "outputs": [
    {
     "data": {
      "text/html": [
       "<div>\n",
       "<style scoped>\n",
       "    .dataframe tbody tr th:only-of-type {\n",
       "        vertical-align: middle;\n",
       "    }\n",
       "\n",
       "    .dataframe tbody tr th {\n",
       "        vertical-align: top;\n",
       "    }\n",
       "\n",
       "    .dataframe thead th {\n",
       "        text-align: right;\n",
       "    }\n",
       "</style>\n",
       "<table border=\"1\" class=\"dataframe\">\n",
       "  <thead>\n",
       "    <tr style=\"text-align: right;\">\n",
       "      <th></th>\n",
       "      <th>geneID</th>\n",
       "      <th>x</th>\n",
       "      <th>y</th>\n",
       "      <th>MIDCount</th>\n",
       "      <th>ExonCount</th>\n",
       "      <th>bin50_x</th>\n",
       "      <th>bin50_y</th>\n",
       "      <th>bin50ID</th>\n",
       "    </tr>\n",
       "  </thead>\n",
       "  <tbody>\n",
       "    <tr>\n",
       "      <th>0</th>\n",
       "      <td>0610005C13Rik</td>\n",
       "      <td>1867</td>\n",
       "      <td>6064</td>\n",
       "      <td>1</td>\n",
       "      <td>0</td>\n",
       "      <td>1850</td>\n",
       "      <td>6050</td>\n",
       "      <td>1850_6050</td>\n",
       "    </tr>\n",
       "    <tr>\n",
       "      <th>1</th>\n",
       "      <td>0610005C13Rik</td>\n",
       "      <td>2088</td>\n",
       "      <td>8319</td>\n",
       "      <td>3</td>\n",
       "      <td>3</td>\n",
       "      <td>2050</td>\n",
       "      <td>8300</td>\n",
       "      <td>2050_8300</td>\n",
       "    </tr>\n",
       "    <tr>\n",
       "      <th>2</th>\n",
       "      <td>0610005C13Rik</td>\n",
       "      <td>2275</td>\n",
       "      <td>7616</td>\n",
       "      <td>1</td>\n",
       "      <td>0</td>\n",
       "      <td>2250</td>\n",
       "      <td>7600</td>\n",
       "      <td>2250_7600</td>\n",
       "    </tr>\n",
       "    <tr>\n",
       "      <th>3</th>\n",
       "      <td>0610005C13Rik</td>\n",
       "      <td>2379</td>\n",
       "      <td>6062</td>\n",
       "      <td>1</td>\n",
       "      <td>1</td>\n",
       "      <td>2350</td>\n",
       "      <td>6050</td>\n",
       "      <td>2350_6050</td>\n",
       "    </tr>\n",
       "    <tr>\n",
       "      <th>4</th>\n",
       "      <td>0610005C13Rik</td>\n",
       "      <td>2435</td>\n",
       "      <td>5611</td>\n",
       "      <td>1</td>\n",
       "      <td>1</td>\n",
       "      <td>2400</td>\n",
       "      <td>5600</td>\n",
       "      <td>2400_5600</td>\n",
       "    </tr>\n",
       "    <tr>\n",
       "      <th>...</th>\n",
       "      <td>...</td>\n",
       "      <td>...</td>\n",
       "      <td>...</td>\n",
       "      <td>...</td>\n",
       "      <td>...</td>\n",
       "      <td>...</td>\n",
       "      <td>...</td>\n",
       "      <td>...</td>\n",
       "    </tr>\n",
       "    <tr>\n",
       "      <th>144366678</th>\n",
       "      <td>mt-Nd6</td>\n",
       "      <td>11552</td>\n",
       "      <td>4834</td>\n",
       "      <td>1</td>\n",
       "      <td>1</td>\n",
       "      <td>11550</td>\n",
       "      <td>4800</td>\n",
       "      <td>11550_4800</td>\n",
       "    </tr>\n",
       "    <tr>\n",
       "      <th>144366679</th>\n",
       "      <td>mt-Nd6</td>\n",
       "      <td>11573</td>\n",
       "      <td>8197</td>\n",
       "      <td>2</td>\n",
       "      <td>2</td>\n",
       "      <td>11550</td>\n",
       "      <td>8150</td>\n",
       "      <td>11550_8150</td>\n",
       "    </tr>\n",
       "    <tr>\n",
       "      <th>144366680</th>\n",
       "      <td>mt-Nd6</td>\n",
       "      <td>11595</td>\n",
       "      <td>7452</td>\n",
       "      <td>1</td>\n",
       "      <td>1</td>\n",
       "      <td>11550</td>\n",
       "      <td>7450</td>\n",
       "      <td>11550_7450</td>\n",
       "    </tr>\n",
       "    <tr>\n",
       "      <th>144366681</th>\n",
       "      <td>mt-Nd6</td>\n",
       "      <td>11605</td>\n",
       "      <td>5821</td>\n",
       "      <td>1</td>\n",
       "      <td>1</td>\n",
       "      <td>11600</td>\n",
       "      <td>5800</td>\n",
       "      <td>11600_5800</td>\n",
       "    </tr>\n",
       "    <tr>\n",
       "      <th>144366682</th>\n",
       "      <td>mt-Nd6</td>\n",
       "      <td>11612</td>\n",
       "      <td>9682</td>\n",
       "      <td>3</td>\n",
       "      <td>3</td>\n",
       "      <td>11600</td>\n",
       "      <td>9650</td>\n",
       "      <td>11600_9650</td>\n",
       "    </tr>\n",
       "  </tbody>\n",
       "</table>\n",
       "<p>144366683 rows × 8 columns</p>\n",
       "</div>"
      ],
      "text/plain": [
       "                  geneID      x     y  MIDCount  ExonCount  bin50_x  bin50_y  \\\n",
       "0          0610005C13Rik   1867  6064         1          0     1850     6050   \n",
       "1          0610005C13Rik   2088  8319         3          3     2050     8300   \n",
       "2          0610005C13Rik   2275  7616         1          0     2250     7600   \n",
       "3          0610005C13Rik   2379  6062         1          1     2350     6050   \n",
       "4          0610005C13Rik   2435  5611         1          1     2400     5600   \n",
       "...                  ...    ...   ...       ...        ...      ...      ...   \n",
       "144366678         mt-Nd6  11552  4834         1          1    11550     4800   \n",
       "144366679         mt-Nd6  11573  8197         2          2    11550     8150   \n",
       "144366680         mt-Nd6  11595  7452         1          1    11550     7450   \n",
       "144366681         mt-Nd6  11605  5821         1          1    11600     5800   \n",
       "144366682         mt-Nd6  11612  9682         3          3    11600     9650   \n",
       "\n",
       "              bin50ID  \n",
       "0           1850_6050  \n",
       "1           2050_8300  \n",
       "2           2250_7600  \n",
       "3           2350_6050  \n",
       "4           2400_5600  \n",
       "...               ...  \n",
       "144366678  11550_4800  \n",
       "144366679  11550_8150  \n",
       "144366680  11550_7450  \n",
       "144366681  11600_5800  \n",
       "144366682  11600_9650  \n",
       "\n",
       "[144366683 rows x 8 columns]"
      ]
     },
     "execution_count": 10,
     "metadata": {},
     "output_type": "execute_result"
    }
   ],
   "source": [
    "gem"
   ]
  },
  {
   "cell_type": "code",
   "execution_count": 11,
   "id": "530fda88",
   "metadata": {},
   "outputs": [],
   "source": [
    "gem.to_csv('/syn1/liangzhen/jinhua_jilab_project/result/SPATIAL/T2/B03203C612.tissue.bin50.gem',sep='\\t',index=False)"
   ]
  },
  {
   "cell_type": "code",
   "execution_count": null,
   "id": "3a153923",
   "metadata": {},
   "outputs": [],
   "source": []
  },
  {
   "cell_type": "markdown",
   "id": "8070e5b9",
   "metadata": {},
   "source": [
    "# cell_bin"
   ]
  },
  {
   "cell_type": "code",
   "execution_count": 8,
   "id": "9f139392",
   "metadata": {},
   "outputs": [
    {
     "name": "stderr",
     "output_type": "stream",
     "text": [
      "[2024-07-15 00:41:01][Stereo][341966][MainThread][140115692377920][reader][1408][INFO]: This is GEF file which contains cell bin infomation.\n",
      "[2024-07-15 00:41:01][Stereo][341966][MainThread][140115692377920][reader][1409][INFO]: bin_type: cell_bins\n",
      "[2024-07-15 00:41:01][Stereo][341966][MainThread][140115692377920][reader][1415][INFO]: Number of cells: 260894\n",
      "[2024-07-15 00:41:01][Stereo][341966][MainThread][140115692377920][reader][1418][INFO]: Number of gene: 25537\n",
      "[2024-07-15 00:41:01][Stereo][341966][MainThread][140115692377920][reader][1421][INFO]: Resolution: 500\n",
      "[2024-07-15 00:41:01][Stereo][341966][MainThread][140115692377920][reader][1424][INFO]: offsetX: 0\n",
      "[2024-07-15 00:41:01][Stereo][341966][MainThread][140115692377920][reader][1427][INFO]: offsetY: 0\n",
      "[2024-07-15 00:41:01][Stereo][341966][MainThread][140115692377920][reader][1430][INFO]: Average number of genes: 330.0762634277344\n",
      "[2024-07-15 00:41:01][Stereo][341966][MainThread][140115692377920][reader][1433][INFO]: Maximum number of genes: 4418\n",
      "[2024-07-15 00:41:01][Stereo][341966][MainThread][140115692377920][reader][1436][INFO]: Average expression: 668.6357421875\n",
      "[2024-07-15 00:41:01][Stereo][341966][MainThread][140115692377920][reader][1439][INFO]: Maximum expression: 20703\n"
     ]
    },
    {
     "name": "stdout",
     "output_type": "stream",
     "text": [
      "path:/syn1/liangzhen/jinhua_jilab_project/data/spatial/sunyannan0626024/X101SC24045330-Z01-J002_StereoSeq_release_20240625095526/Result_X101SC24045330-Z01-J002/1.SAW/YJH_ST_2/B03203C612.tissue.gef bin:50\n",
      "               generateBinInfo - 46.800000 cpu sec\n",
      "version is 0.8.14 \n"
     ]
    },
    {
     "data": {
      "text/plain": [
       "{'cell_num': 260894,\n",
       " 'gene_num': 25537,\n",
       " 'resolution': 500,\n",
       " 'offsetX': 0,\n",
       " 'offsetY': 0,\n",
       " 'averageGeneCount': 330.07626,\n",
       " 'maxGeneCount': 4418,\n",
       " 'averageExpCount': 668.63574,\n",
       " 'maxExpCount': 20703}"
      ]
     },
     "execution_count": 8,
     "metadata": {},
     "output_type": "execute_result"
    }
   ],
   "source": [
    "data_path = '/syn1/liangzhen/jinhua_jilab_project/data/spatial/sunyannan0626024/X101SC24045330-Z01-J002_StereoSeq_release_20240625095526/Result_X101SC24045330-Z01-J002/1.SAW/YJH_ST_2/B03203C612.adjusted.cellbin.gef'\n",
    "st.io.read_gef_info(data_path)"
   ]
  },
  {
   "cell_type": "code",
   "execution_count": 9,
   "id": "a21f4f50",
   "metadata": {},
   "outputs": [
    {
     "name": "stderr",
     "output_type": "stream",
     "text": [
      "[2024-07-15 00:41:21][Stereo][341966][MainThread][140115692377920][reader][1158][INFO]: read_gef begin ...\n"
     ]
    },
    {
     "name": "stdout",
     "output_type": "stream",
     "text": [
      "version is 0.8.14 \n"
     ]
    },
    {
     "name": "stderr",
     "output_type": "stream",
     "text": [
      "[2024-07-15 00:41:27][Stereo][341966][MainThread][140115692377920][reader][1408][INFO]: This is GEF file which contains cell bin infomation.\n",
      "[2024-07-15 00:41:27][Stereo][341966][MainThread][140115692377920][reader][1409][INFO]: bin_type: cell_bins\n",
      "[2024-07-15 00:41:27][Stereo][341966][MainThread][140115692377920][reader][1415][INFO]: Number of cells: 260894\n",
      "[2024-07-15 00:41:27][Stereo][341966][MainThread][140115692377920][reader][1418][INFO]: Number of gene: 25537\n",
      "[2024-07-15 00:41:27][Stereo][341966][MainThread][140115692377920][reader][1421][INFO]: Resolution: 500\n",
      "[2024-07-15 00:41:27][Stereo][341966][MainThread][140115692377920][reader][1424][INFO]: offsetX: 0\n",
      "[2024-07-15 00:41:27][Stereo][341966][MainThread][140115692377920][reader][1427][INFO]: offsetY: 0\n",
      "[2024-07-15 00:41:27][Stereo][341966][MainThread][140115692377920][reader][1430][INFO]: Average number of genes: 330.0762634277344\n",
      "[2024-07-15 00:41:27][Stereo][341966][MainThread][140115692377920][reader][1433][INFO]: Maximum number of genes: 4418\n",
      "[2024-07-15 00:41:27][Stereo][341966][MainThread][140115692377920][reader][1436][INFO]: Average expression: 668.6357421875\n",
      "[2024-07-15 00:41:27][Stereo][341966][MainThread][140115692377920][reader][1439][INFO]: Maximum expression: 20703\n",
      "[2024-07-15 00:41:27][Stereo][341966][MainThread][140115692377920][reader][1251][INFO]: the matrix has 260894 cells, and 25537 genes.\n"
     ]
    },
    {
     "name": "stdout",
     "output_type": "stream",
     "text": [
      "version is 0.8.14 \n"
     ]
    }
   ],
   "source": [
    "data = st.io.read_gef(file_path=data_path, bin_type='cell_bins')"
   ]
  },
  {
   "cell_type": "code",
   "execution_count": 10,
   "id": "8e9b8dc2",
   "metadata": {},
   "outputs": [
    {
     "name": "stderr",
     "output_type": "stream",
     "text": [
      "[2024-07-15 00:42:42][Stereo][341966][MainThread][140115692377920][reader][896][INFO]: Adding sample in adata.obs['orig.ident'].\n",
      "[2024-07-15 00:42:42][Stereo][341966][MainThread][140115692377920][reader][899][INFO]: Adding data.position as adata.obsm['spatial'] .\n",
      "[2024-07-15 00:42:42][Stereo][341966][MainThread][140115692377920][reader][904][INFO]: Adding data.position as adata.obs['x'] and adata.obs['y'] .\n",
      "[2024-07-15 00:42:42][Stereo][341966][MainThread][140115692377920][reader][1044][INFO]: Rename QC info.\n",
      "[2024-07-15 00:42:42][Stereo][341966][MainThread][140115692377920][reader][1048][INFO]: Finished conversion to anndata.\n",
      "[2024-07-15 00:42:57][Stereo][341966][MainThread][140115692377920][reader][1052][INFO]: Finished output to /syn1/liangzhen/jinhua_jilab_project/result/SPATIAL/S2/B03203C612.cellbin.h5ad\n"
     ]
    }
   ],
   "source": [
    "adata = st.io.stereo_to_anndata(data,flavor='seurat',output='/syn1/liangzhen/jinhua_jilab_project/result/SPATIAL/T2/B03203C612.cellbin.h5ad')"
   ]
  },
  {
   "cell_type": "code",
   "execution_count": 12,
   "id": "369e73a6",
   "metadata": {},
   "outputs": [
    {
     "data": {
      "text/plain": [
       "AnnData object with n_obs × n_vars = 260894 × 25537\n",
       "    obs: 'dnbCount', 'area', 'orig.ident', 'x', 'y'\n",
       "    uns: 'sn'\n",
       "    obsm: 'spatial'"
      ]
     },
     "execution_count": 12,
     "metadata": {},
     "output_type": "execute_result"
    }
   ],
   "source": [
    "adata"
   ]
  },
  {
   "cell_type": "code",
   "execution_count": 11,
   "id": "26989b69",
   "metadata": {},
   "outputs": [],
   "source": [
    "adata.obs.to_csv('/syn1/liangzhen/jinhua_jilab_project/result/SPATIAL/T2/cellbin_metadata.csv')\n",
    "adata.to_df().to_csv('/syn1/liangzhen/jinhua_jilab_project/result/SPATIAL/T2/cellbin_exp.csv')"
   ]
  },
  {
   "cell_type": "code",
   "execution_count": null,
   "id": "af5604a5",
   "metadata": {},
   "outputs": [],
   "source": []
  },
  {
   "cell_type": "code",
   "execution_count": null,
   "id": "4ae16c31",
   "metadata": {},
   "outputs": [],
   "source": []
  }
 ],
 "metadata": {
  "kernelspec": {
   "display_name": "stereopy",
   "language": "python",
   "name": "stereopy"
  },
  "language_info": {
   "codemirror_mode": {
    "name": "ipython",
    "version": 3
   },
   "file_extension": ".py",
   "mimetype": "text/x-python",
   "name": "python",
   "nbconvert_exporter": "python",
   "pygments_lexer": "ipython3",
   "version": "3.8.19"
  },
  "toc": {
   "base_numbering": 1,
   "nav_menu": {},
   "number_sections": false,
   "sideBar": true,
   "skip_h1_title": false,
   "title_cell": "Table of Contents",
   "title_sidebar": "Contents",
   "toc_cell": false,
   "toc_position": {
    "height": "calc(100% - 180px)",
    "left": "10px",
    "top": "150px",
    "width": "229.625px"
   },
   "toc_section_display": true,
   "toc_window_display": true
  }
 },
 "nbformat": 4,
 "nbformat_minor": 5
}
