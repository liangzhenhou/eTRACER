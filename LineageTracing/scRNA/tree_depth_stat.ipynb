{
 "cells": [
  {
   "cell_type": "code",
   "execution_count": null,
   "id": "72697e27",
   "metadata": {},
   "outputs": [],
   "source": []
  },
  {
   "cell_type": "code",
   "execution_count": null,
   "id": "168392d4",
   "metadata": {},
   "outputs": [],
   "source": []
  },
  {
   "cell_type": "code",
   "execution_count": 1,
   "id": "95e8a9f1",
   "metadata": {},
   "outputs": [],
   "source": [
    "import os\n",
    "from Bio import Phylo\n",
    "import numpy as np\n",
    "import pandas as pd\n",
    "import seaborn as sns\n",
    "import matplotlib.pyplot as plt"
   ]
  },
  {
   "cell_type": "code",
   "execution_count": null,
   "id": "2f132362",
   "metadata": {},
   "outputs": [],
   "source": []
  },
  {
   "cell_type": "markdown",
   "id": "df6ea41a",
   "metadata": {},
   "source": [
    "# rep2"
   ]
  },
  {
   "cell_type": "code",
   "execution_count": 2,
   "id": "6fd120d0",
   "metadata": {},
   "outputs": [],
   "source": [
    "files = [file for file in os.listdir('/syn1/liangzhen/jinhua_jilab_project/result/DNA_Amplicon/trees/a3026_ML_per_TimePoint/') if file.endswith('treefile')]\n",
    "\n",
    "depths_df = pd.DataFrame()\n",
    "for file in files:\n",
    "    clone_size = file.split('-')[2].strip('.phy.treefile')\n",
    "    #if int(clone_size) < 100:\n",
    "    #    continue\n",
    "    tree = Phylo.read('/syn1/liangzhen/jinhua_jilab_project/result/DNA_Amplicon/trees/a3026_ML_per_TimePoint/'+file, format='newick')\n",
    "    for i in tree.get_nonterminals():\n",
    "        i.branch_length = 1\n",
    "    for i in tree.get_terminals():\n",
    "        i.branch_length = 1\n",
    "    df = pd.DataFrame([tree.distance(leaf) for leaf in [leaf.name for leaf in tree.get_terminals()] if leaf != 'synthetic'],columns=['tree_depth'])\n",
    "    df['lineageGrp'] = file.split('-')[1]\n",
    "    df['time'] = file.split('_')[0]\n",
    "    df['mouse'] = 'rep2'\n",
    "    depths_df = pd.concat([depths_df,df],axis=0)\n",
    "    "
   ]
  },
  {
   "cell_type": "code",
   "execution_count": null,
   "id": "cb09afb1",
   "metadata": {},
   "outputs": [],
   "source": []
  },
  {
   "cell_type": "code",
   "execution_count": null,
   "id": "404640ad",
   "metadata": {},
   "outputs": [],
   "source": []
  },
  {
   "cell_type": "markdown",
   "id": "a8e8f475",
   "metadata": {},
   "source": [
    "# rep1"
   ]
  },
  {
   "cell_type": "code",
   "execution_count": 3,
   "id": "a1f16848",
   "metadata": {},
   "outputs": [],
   "source": [
    "files = [file for file in os.listdir('/syn1/liangzhen/jinhua_jilab_project/result/DNA_Amplicon/trees/a3028_ML_per_TimePoint/') if file.endswith('treefile')]\n",
    "\n",
    "for file in files:\n",
    "    tree = Phylo.read('/syn1/liangzhen/jinhua_jilab_project/result/DNA_Amplicon/trees/a3028_ML_per_TimePoint/'+file, format='newick')\n",
    "    for i in tree.get_nonterminals():\n",
    "        i.branch_length = 1\n",
    "    for i in tree.get_terminals():\n",
    "        i.branch_length = 1\n",
    "    df = pd.DataFrame([tree.distance(leaf) for leaf in [leaf.name for leaf in tree.get_terminals()] if leaf != 'synthetic'],columns=['tree_depth'])\n",
    "    df['lineageGrp'] = file.split('-')[1]\n",
    "    df['time'] = file.split('_')[0]\n",
    "    df['mouse'] = 'rep1'\n",
    "    depths_df = pd.concat([depths_df,df],axis=0)\n",
    "    "
   ]
  },
  {
   "cell_type": "code",
   "execution_count": null,
   "id": "b3aba4c0",
   "metadata": {},
   "outputs": [],
   "source": []
  },
  {
   "cell_type": "markdown",
   "id": "cc5af67f",
   "metadata": {},
   "source": [
    "# rep3"
   ]
  },
  {
   "cell_type": "code",
   "execution_count": 4,
   "id": "348f3072",
   "metadata": {},
   "outputs": [],
   "source": [
    "files = [file for file in os.listdir('/syn1/liangzhen/jinhua_jilab_project/result/DNA_Amplicon/trees/a3030_ML_per_TimePoint/') if file.endswith('treefile')]\n",
    "\n",
    "for file in files:\n",
    "    tree = Phylo.read('/syn1/liangzhen/jinhua_jilab_project/result/DNA_Amplicon/trees/a3030_ML_per_TimePoint/'+file, format='newick')\n",
    "    for i in tree.get_nonterminals():\n",
    "        i.branch_length = 1\n",
    "    for i in tree.get_terminals():\n",
    "        i.branch_length = 1\n",
    "    df = pd.DataFrame([tree.distance(leaf) for leaf in [leaf.name for leaf in tree.get_terminals()] if leaf != 'synthetic'],columns=['tree_depth'])\n",
    "    df['lineageGrp'] = file.split('-')[1]\n",
    "    df['time'] = file.split('_')[0]\n",
    "    df['mouse'] = 'rep3'\n",
    "    depths_df = pd.concat([depths_df,df],axis=0)\n",
    "    "
   ]
  },
  {
   "cell_type": "code",
   "execution_count": 5,
   "id": "8e165c17",
   "metadata": {},
   "outputs": [],
   "source": [
    "depths_df = depths_df[depths_df['time']=='T3']"
   ]
  },
  {
   "cell_type": "code",
   "execution_count": 6,
   "id": "0a48bbfe",
   "metadata": {},
   "outputs": [],
   "source": [
    "depths_df['mouse'] = pd.Categorical(depths_df['mouse'], categories=['rep1','rep2','rep3'], ordered=True)"
   ]
  },
  {
   "cell_type": "code",
   "execution_count": 7,
   "id": "e02866e6",
   "metadata": {},
   "outputs": [
    {
     "data": {
      "text/html": [
       "<div>\n",
       "<style scoped>\n",
       "    .dataframe tbody tr th:only-of-type {\n",
       "        vertical-align: middle;\n",
       "    }\n",
       "\n",
       "    .dataframe tbody tr th {\n",
       "        vertical-align: top;\n",
       "    }\n",
       "\n",
       "    .dataframe thead th {\n",
       "        text-align: right;\n",
       "    }\n",
       "</style>\n",
       "<table border=\"1\" class=\"dataframe\">\n",
       "  <thead>\n",
       "    <tr style=\"text-align: right;\">\n",
       "      <th></th>\n",
       "      <th>tree_depth</th>\n",
       "      <th>lineageGrp</th>\n",
       "      <th>time</th>\n",
       "      <th>mouse</th>\n",
       "    </tr>\n",
       "  </thead>\n",
       "  <tbody>\n",
       "    <tr>\n",
       "      <th>0</th>\n",
       "      <td>6</td>\n",
       "      <td>34</td>\n",
       "      <td>T3</td>\n",
       "      <td>rep2</td>\n",
       "    </tr>\n",
       "    <tr>\n",
       "      <th>1</th>\n",
       "      <td>9</td>\n",
       "      <td>34</td>\n",
       "      <td>T3</td>\n",
       "      <td>rep2</td>\n",
       "    </tr>\n",
       "    <tr>\n",
       "      <th>2</th>\n",
       "      <td>9</td>\n",
       "      <td>34</td>\n",
       "      <td>T3</td>\n",
       "      <td>rep2</td>\n",
       "    </tr>\n",
       "    <tr>\n",
       "      <th>3</th>\n",
       "      <td>8</td>\n",
       "      <td>34</td>\n",
       "      <td>T3</td>\n",
       "      <td>rep2</td>\n",
       "    </tr>\n",
       "    <tr>\n",
       "      <th>4</th>\n",
       "      <td>7</td>\n",
       "      <td>34</td>\n",
       "      <td>T3</td>\n",
       "      <td>rep2</td>\n",
       "    </tr>\n",
       "    <tr>\n",
       "      <th>...</th>\n",
       "      <td>...</td>\n",
       "      <td>...</td>\n",
       "      <td>...</td>\n",
       "      <td>...</td>\n",
       "    </tr>\n",
       "    <tr>\n",
       "      <th>47</th>\n",
       "      <td>4</td>\n",
       "      <td>27</td>\n",
       "      <td>T3</td>\n",
       "      <td>rep3</td>\n",
       "    </tr>\n",
       "    <tr>\n",
       "      <th>48</th>\n",
       "      <td>3</td>\n",
       "      <td>27</td>\n",
       "      <td>T3</td>\n",
       "      <td>rep3</td>\n",
       "    </tr>\n",
       "    <tr>\n",
       "      <th>49</th>\n",
       "      <td>2</td>\n",
       "      <td>27</td>\n",
       "      <td>T3</td>\n",
       "      <td>rep3</td>\n",
       "    </tr>\n",
       "    <tr>\n",
       "      <th>50</th>\n",
       "      <td>2</td>\n",
       "      <td>27</td>\n",
       "      <td>T3</td>\n",
       "      <td>rep3</td>\n",
       "    </tr>\n",
       "    <tr>\n",
       "      <th>51</th>\n",
       "      <td>2</td>\n",
       "      <td>27</td>\n",
       "      <td>T3</td>\n",
       "      <td>rep3</td>\n",
       "    </tr>\n",
       "  </tbody>\n",
       "</table>\n",
       "<p>27848 rows × 4 columns</p>\n",
       "</div>"
      ],
      "text/plain": [
       "    tree_depth lineageGrp time mouse\n",
       "0            6         34   T3  rep2\n",
       "1            9         34   T3  rep2\n",
       "2            9         34   T3  rep2\n",
       "3            8         34   T3  rep2\n",
       "4            7         34   T3  rep2\n",
       "..         ...        ...  ...   ...\n",
       "47           4         27   T3  rep3\n",
       "48           3         27   T3  rep3\n",
       "49           2         27   T3  rep3\n",
       "50           2         27   T3  rep3\n",
       "51           2         27   T3  rep3\n",
       "\n",
       "[27848 rows x 4 columns]"
      ]
     },
     "execution_count": 7,
     "metadata": {},
     "output_type": "execute_result"
    }
   ],
   "source": [
    "depths_df"
   ]
  },
  {
   "cell_type": "code",
   "execution_count": 14,
   "id": "3e892181",
   "metadata": {},
   "outputs": [
    {
     "data": {
      "text/plain": [
       "Text(0, 0.5, 'tree depth of clone cells')"
      ]
     },
     "execution_count": 14,
     "metadata": {},
     "output_type": "execute_result"
    },
    {
     "data": {
      "image/png": "[encoded data removed]",
      "text/plain": [
       "<Figure size 500x300 with 1 Axes>"
      ]
     },
     "metadata": {},
     "output_type": "display_data"
    }
   ],
   "source": [
    "plt.rcParams['pdf.fonttype'] = 42\n",
    "plt.gcf().set_size_inches(5, 3) \n",
    "sns.boxplot(depths_df,x='mouse',y='tree_depth',showfliers=False)\n",
    "plt.ylim(0,31)\n",
    "plt.ylabel('tree depth of clone cells')"
   ]
  },
  {
   "cell_type": "code",
   "execution_count": null,
   "id": "11649715",
   "metadata": {},
   "outputs": [],
   "source": []
  },
  {
   "cell_type": "code",
   "execution_count": 10,
   "id": "047d642d",
   "metadata": {},
   "outputs": [
    {
     "data": {
      "text/plain": [
       "13.0"
      ]
     },
     "execution_count": 10,
     "metadata": {},
     "output_type": "execute_result"
    }
   ],
   "source": [
    "np.median(depths_df.loc[depths_df['mouse']=='rep1']['tree_depth'])"
   ]
  },
  {
   "cell_type": "code",
   "execution_count": 11,
   "id": "3b0f299c",
   "metadata": {},
   "outputs": [
    {
     "data": {
      "text/plain": [
       "16.0"
      ]
     },
     "execution_count": 11,
     "metadata": {},
     "output_type": "execute_result"
    }
   ],
   "source": [
    "np.median(depths_df.loc[depths_df['mouse']=='rep2']['tree_depth'])"
   ]
  },
  {
   "cell_type": "code",
   "execution_count": 12,
   "id": "09801237",
   "metadata": {},
   "outputs": [
    {
     "data": {
      "text/plain": [
       "13.0"
      ]
     },
     "execution_count": 12,
     "metadata": {},
     "output_type": "execute_result"
    }
   ],
   "source": [
    "np.median(depths_df.loc[depths_df['mouse']=='rep3']['tree_depth'])"
   ]
  },
  {
   "cell_type": "code",
   "execution_count": null,
   "id": "03ba9906",
   "metadata": {},
   "outputs": [],
   "source": []
  },
  {
   "cell_type": "code",
   "execution_count": null,
   "id": "23e00cf5",
   "metadata": {},
   "outputs": [],
   "source": []
  }
 ],
 "metadata": {
  "kernelspec": {
   "display_name": "cassiopeia2",
   "language": "python",
   "name": "cassiopeia2"
  },
  "language_info": {
   "codemirror_mode": {
    "name": "ipython",
    "version": 3
   },
   "file_extension": ".py",
   "mimetype": "text/x-python",
   "name": "python",
   "nbconvert_exporter": "python",
   "pygments_lexer": "ipython3",
   "version": "3.8.18"
  },
  "toc": {
   "base_numbering": 1,
   "nav_menu": {},
   "number_sections": false,
   "sideBar": true,
   "skip_h1_title": false,
   "title_cell": "Table of Contents",
   "title_sidebar": "Contents",
   "toc_cell": false,
   "toc_position": {},
   "toc_section_display": true,
   "toc_window_display": false
  }
 },
 "nbformat": 4,
 "nbformat_minor": 5
}
