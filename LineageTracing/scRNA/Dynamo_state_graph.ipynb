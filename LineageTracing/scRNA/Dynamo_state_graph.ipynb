{
 "cells": [
  {
   "cell_type": "code",
   "execution_count": null,
   "id": "47d9a46e",
   "metadata": {},
   "outputs": [],
   "source": []
  },
  {
   "cell_type": "code",
   "execution_count": 1,
   "id": "94be09ef",
   "metadata": {},
   "outputs": [],
   "source": [
    "import scanpy as sc\n",
    "import dynamo as dyn\n",
    "import pandas as pd\n",
    "import numpy as np\n",
    "import os\n",
    "import matplotlib.pyplot as plt"
   ]
  },
  {
   "cell_type": "code",
   "execution_count": 2,
   "id": "144531e9",
   "metadata": {},
   "outputs": [
    {
     "data": {
      "text/plain": [
       "'1.4.0'"
      ]
     },
     "execution_count": 2,
     "metadata": {},
     "output_type": "execute_result"
    }
   ],
   "source": [
    "dyn.__version__"
   ]
  },
  {
   "cell_type": "code",
   "execution_count": 2,
   "id": "cf7a2e6c",
   "metadata": {},
   "outputs": [],
   "source": [
    "color_map = {\n",
    "    '1':'#a6cee3',\n",
    "    '2':'#54278f',\n",
    "    '3':'#e7298a',\n",
    "    '4':'#1f77b4',\n",
    "    '5':'#ff6600'\n",
    "}"
   ]
  },
  {
   "cell_type": "code",
   "execution_count": 3,
   "id": "4cddd856",
   "metadata": {},
   "outputs": [
    {
     "name": "stderr",
     "output_type": "stream",
     "text": [
      "/tmp/ipykernel_386961/2270980215.py:4: ImplicitModificationWarning: Trying to modify attribute `.obs` of view, initializing view as actual.\n",
      "  adata.obs['lineageGrp'] = cell_lineage.loc[adata.obs['cellname'],'lineageGrp'].to_list()\n"
     ]
    }
   ],
   "source": [
    "adata = sc.read_h5ad('/syn1/liangzhen/jinhua_jilab_project/result/scRNA/h5ad/adata.h5ad')\n",
    "cell_lineage = pd.read_csv('/syn1/liangzhen/jinhua_jilab_project/result/DNA_Amplicon/cell_lineage.T1_T2_T3a.csv',header=0,index_col=0)\n",
    "adata = adata[adata.obs.cellname.isin(cell_lineage.index),]\n",
    "adata.obs['lineageGrp'] = cell_lineage.loc[adata.obs['cellname'],'lineageGrp'].to_list()\n",
    "adata.obs['lineageGrp'] = ['C'+str(lineageGrp) for lineageGrp in adata.obs['lineageGrp']]\n",
    "adata.obs['sample'] = ['_'.join(sample.split('_')[0:2]) for sample in adata.obs['Sample']]"
   ]
  },
  {
   "cell_type": "code",
   "execution_count": 4,
   "id": "4a905d68",
   "metadata": {},
   "outputs": [
    {
     "name": "stderr",
     "output_type": "stream",
     "text": [
      "/tmp/ipykernel_386961/1034179230.py:1: DtypeWarning: Columns (12) have mixed types. Specify dtype option on import or set low_memory=False.\n",
      "  metadata = pd.read_csv('/syn1/liangzhen/jinhua_jilab_project/result/scRNA/cellranger/metadata.T1_T2_T3a.harmony.final.refine.csv',header=0,index_col=0)\n"
     ]
    }
   ],
   "source": [
    "metadata = pd.read_csv('/syn1/liangzhen/jinhua_jilab_project/result/scRNA/cellranger/metadata.T1_T2_T3a.harmony.final.refine.csv',header=0,index_col=0)\n",
    "metadata.index = metadata['cellName'].to_list()"
   ]
  },
  {
   "cell_type": "code",
   "execution_count": 5,
   "id": "d0e9c800",
   "metadata": {},
   "outputs": [],
   "source": [
    "adata = adata[adata.obs.cellname.isin(metadata.cellName),]"
   ]
  },
  {
   "cell_type": "code",
   "execution_count": 6,
   "id": "cd068a22",
   "metadata": {},
   "outputs": [
    {
     "name": "stderr",
     "output_type": "stream",
     "text": [
      "/tmp/ipykernel_386961/343543299.py:1: ImplicitModificationWarning: Setting element `.obsm['X_umap']` of view, initializing view as actual.\n",
      "  adata.obsm['X_umap'] = np.array(metadata.loc[adata.obs.cellname,['umapharmony_1','umapharmony_2']])\n"
     ]
    }
   ],
   "source": [
    "adata.obsm['X_umap'] = np.array(metadata.loc[adata.obs.cellname,['umapharmony_1','umapharmony_2']])\n",
    "adata.obs['cluster'] = metadata.loc[adata.obs.cellname,'seurat_clusters_rename'].to_list()\n",
    "adata.obs['cluster'] = adata.obs['cluster'].astype('str')\n",
    "adata.obs['experiment'] = [sample.split('_')[1] for sample in adata.obs['Sample']]\n",
    "adata.obs['time'] = [ sample.split('_')[0] for sample in adata.obs['sample']]"
   ]
  },
  {
   "cell_type": "code",
   "execution_count": null,
   "id": "2161b98f",
   "metadata": {},
   "outputs": [],
   "source": []
  },
  {
   "cell_type": "code",
   "execution_count": 7,
   "id": "0e37568c",
   "metadata": {},
   "outputs": [],
   "source": [
    "transition_files = os.listdir('/syn1/liangzhen/jinhua_jilab_project/result/DNA_Amplicon/cell_transition/')\n",
    "transition_files = [ filename for filename in transition_files if filename.startswith('C')]"
   ]
  },
  {
   "cell_type": "code",
   "execution_count": 8,
   "id": "65667cd0",
   "metadata": {
    "scrolled": true
   },
   "outputs": [
    {
     "data": {
      "text/plain": [
       "['C35-153_cell_transition_ALL_S2_S3a.csv',\n",
       " 'C49-194_cell_transition_ALL_S2_S3a.csv',\n",
       " 'C6-1249_cell_transition_ALL_S2_S3a.csv',\n",
       " 'C40-270_cell_transition_ALL_S2_S3a.csv',\n",
       " 'C28-540_cell_transition_ALL_S2_S3a.csv',\n",
       " 'C46-183_cell_transition_ALL_S2_S3a.csv',\n",
       " 'C32-298_cell_transition_ALL_S2_S3a.csv',\n",
       " 'C26-296_cell_transition_ALL_S2_S3a.csv',\n",
       " 'C14-573_cell_transition_ALL_S2_S3a.csv',\n",
       " 'C8-891_cell_transition_ALL_S2_S3a.csv',\n",
       " 'C2-4397_cell_transition_ALL_S2_S3a.csv',\n",
       " 'C30-233_cell_transition_ALL_S2_S3a.csv',\n",
       " 'C10-793_cell_transition_ALL_S2_S3a.csv',\n",
       " 'C36-374_cell_transition_ALL_S2_S3a.csv',\n",
       " 'C16-577_cell_transition_ALL_S2_S3a.csv',\n",
       " 'C42-178_cell_transition_ALL_S2_S3a.csv',\n",
       " 'C69-123_cell_transition_ALL_S2_S3a.csv',\n",
       " 'C7-2304_cell_transition_ALL_S2_S3a.csv',\n",
       " 'C11-400_cell_transition_ALL_S2_S3a.csv',\n",
       " 'C82-171_cell_transition_ALL_S2_S3a.csv',\n",
       " 'C15-405_cell_transition_ALL_S2_S3a.csv',\n",
       " 'C20-341_cell_transition_ALL_S2_S3a.csv',\n",
       " 'C27-255_cell_transition_ALL_S2_S3a.csv',\n",
       " 'C95-105_cell_transition_ALL_S2_S3a.csv',\n",
       " 'C68-148_cell_transition_ALL_S2_S3a.csv',\n",
       " 'C98-101_cell_transition_ALL_S2_S3a.csv',\n",
       " 'C1-5000_cell_transition_ALL_S2_S3a.csv',\n",
       " 'C3-3297_cell_transition_ALL_S2_S3a.csv',\n",
       " 'C9-866_cell_transition_ALL_S2_S3a.csv',\n",
       " 'C17-604_cell_transition_ALL_S2_S3a.csv',\n",
       " 'C23-242_cell_transition_ALL_S2_S3a.csv',\n",
       " 'C65-120_cell_transition_ALL_S2_S3a.csv',\n",
       " 'C57-109_cell_transition_ALL_S2_S3a.csv',\n",
       " 'C31-193_cell_transition_ALL_S2_S3a.csv',\n",
       " 'C5-1671_cell_transition_ALL_S2_S3a.csv',\n",
       " 'C50-303_cell_transition_ALL_S2_S3a.csv',\n",
       " 'C41-227_cell_transition_ALL_S2_S3a.csv',\n",
       " 'C73-123_cell_transition_ALL_S2_S3a.csv',\n",
       " 'C62-102_cell_transition_ALL_S2_S3a.csv',\n",
       " 'C4-1456_cell_transition_ALL_S2_S3a.csv',\n",
       " 'C39-221_cell_transition_ALL_S2_S3a.csv',\n",
       " 'C29-318_cell_transition_ALL_S2_S3a.csv',\n",
       " 'C13-636_cell_transition_ALL_S2_S3a.csv',\n",
       " 'C33-247_cell_transition_ALL_S2_S3a.csv',\n",
       " 'C37-103_cell_transition_ALL_S2_S3a.csv',\n",
       " 'C19-731_cell_transition_ALL_S2_S3a.csv']"
      ]
     },
     "execution_count": 8,
     "metadata": {},
     "output_type": "execute_result"
    }
   ],
   "source": [
    "transition_files"
   ]
  },
  {
   "cell_type": "code",
   "execution_count": 9,
   "id": "76ff8cb2",
   "metadata": {
    "scrolled": true
   },
   "outputs": [
    {
     "name": "stdout",
     "output_type": "stream",
     "text": [
      "C35-153_cell_transition_ALL_S2_S3a.csv\n",
      "|-----------> plotting with basis key=X_umap\n",
      "|-----------> skip filtering cluster by stack threshold when stacking color because it is not a numeric type\n"
     ]
    },
    {
     "name": "stderr",
     "output_type": "stream",
     "text": [
      "/tmp/ipykernel_386961/95944344.py:14: ImplicitModificationWarning: Setting element `.obsm['X_umap']` of view, initializing view as actual.\n",
      "  adata_selected.obsm['X_umap'] = np.array(adata_selected.obsm['X_umap'])\n"
     ]
    },
    {
     "name": "stdout",
     "output_type": "stream",
     "text": [
      "Saving figure to /syn1/liangzhen/jinhua_jilab_project/result/Figures/Figure3/transition_map/C35_dyn_savefig.svg...\n",
      "Done\n",
      "C49-194_cell_transition_ALL_S2_S3a.csv\n",
      "|-----------> plotting with basis key=X_umap\n",
      "|-----------> skip filtering cluster by stack threshold when stacking color because it is not a numeric type\n",
      "Saving figure to /syn1/liangzhen/jinhua_jilab_project/result/Figures/Figure3/transition_map/C49_dyn_savefig.svg...\n"
     ]
    },
    {
     "name": "stderr",
     "output_type": "stream",
     "text": [
      "/tmp/ipykernel_386961/95944344.py:14: ImplicitModificationWarning: Setting element `.obsm['X_umap']` of view, initializing view as actual.\n",
      "  adata_selected.obsm['X_umap'] = np.array(adata_selected.obsm['X_umap'])\n"
     ]
    },
    {
     "name": "stdout",
     "output_type": "stream",
     "text": [
      "Done\n",
      "C6-1249_cell_transition_ALL_S2_S3a.csv\n",
      "|-----------> plotting with basis key=X_umap\n",
      "|-----------> skip filtering cluster by stack threshold when stacking color because it is not a numeric type\n"
     ]
    },
    {
     "name": "stderr",
     "output_type": "stream",
     "text": [
      "/tmp/ipykernel_386961/95944344.py:14: ImplicitModificationWarning: Setting element `.obsm['X_umap']` of view, initializing view as actual.\n",
      "  adata_selected.obsm['X_umap'] = np.array(adata_selected.obsm['X_umap'])\n"
     ]
    },
    {
     "name": "stdout",
     "output_type": "stream",
     "text": [
      "Saving figure to /syn1/liangzhen/jinhua_jilab_project/result/Figures/Figure3/transition_map/C6_dyn_savefig.svg...\n",
      "Done\n",
      "C40-270_cell_transition_ALL_S2_S3a.csv\n",
      "|-----------> plotting with basis key=X_umap\n",
      "|-----------> skip filtering cluster by stack threshold when stacking color because it is not a numeric type\n",
      "Saving figure to /syn1/liangzhen/jinhua_jilab_project/result/Figures/Figure3/transition_map/C40_dyn_savefig.svg...\n"
     ]
    },
    {
     "name": "stderr",
     "output_type": "stream",
     "text": [
      "/tmp/ipykernel_386961/95944344.py:14: ImplicitModificationWarning: Setting element `.obsm['X_umap']` of view, initializing view as actual.\n",
      "  adata_selected.obsm['X_umap'] = np.array(adata_selected.obsm['X_umap'])\n"
     ]
    },
    {
     "name": "stdout",
     "output_type": "stream",
     "text": [
      "Done\n",
      "C28-540_cell_transition_ALL_S2_S3a.csv\n",
      "|-----------> plotting with basis key=X_umap\n",
      "|-----------> skip filtering cluster by stack threshold when stacking color because it is not a numeric type\n",
      "Saving figure to /syn1/liangzhen/jinhua_jilab_project/result/Figures/Figure3/transition_map/C28_dyn_savefig.svg...\n"
     ]
    },
    {
     "name": "stderr",
     "output_type": "stream",
     "text": [
      "/tmp/ipykernel_386961/95944344.py:14: ImplicitModificationWarning: Setting element `.obsm['X_umap']` of view, initializing view as actual.\n",
      "  adata_selected.obsm['X_umap'] = np.array(adata_selected.obsm['X_umap'])\n"
     ]
    },
    {
     "name": "stdout",
     "output_type": "stream",
     "text": [
      "Done\n",
      "C46-183_cell_transition_ALL_S2_S3a.csv\n",
      "|-----------> plotting with basis key=X_umap\n",
      "|-----------> skip filtering cluster by stack threshold when stacking color because it is not a numeric type\n",
      "Saving figure to /syn1/liangzhen/jinhua_jilab_project/result/Figures/Figure3/transition_map/C46_dyn_savefig.svg...\n"
     ]
    },
    {
     "name": "stderr",
     "output_type": "stream",
     "text": [
      "/tmp/ipykernel_386961/95944344.py:14: ImplicitModificationWarning: Setting element `.obsm['X_umap']` of view, initializing view as actual.\n",
      "  adata_selected.obsm['X_umap'] = np.array(adata_selected.obsm['X_umap'])\n"
     ]
    },
    {
     "name": "stdout",
     "output_type": "stream",
     "text": [
      "Done\n",
      "C32-298_cell_transition_ALL_S2_S3a.csv\n",
      "|-----------> plotting with basis key=X_umap\n",
      "|-----------> skip filtering cluster by stack threshold when stacking color because it is not a numeric type\n",
      "Saving figure to /syn1/liangzhen/jinhua_jilab_project/result/Figures/Figure3/transition_map/C32_dyn_savefig.svg...\n"
     ]
    },
    {
     "name": "stderr",
     "output_type": "stream",
     "text": [
      "/tmp/ipykernel_386961/95944344.py:14: ImplicitModificationWarning: Setting element `.obsm['X_umap']` of view, initializing view as actual.\n",
      "  adata_selected.obsm['X_umap'] = np.array(adata_selected.obsm['X_umap'])\n"
     ]
    },
    {
     "name": "stdout",
     "output_type": "stream",
     "text": [
      "Done\n",
      "C26-296_cell_transition_ALL_S2_S3a.csv\n",
      "|-----------> plotting with basis key=X_umap\n",
      "|-----------> skip filtering cluster by stack threshold when stacking color because it is not a numeric type\n",
      "Saving figure to /syn1/liangzhen/jinhua_jilab_project/result/Figures/Figure3/transition_map/C26_dyn_savefig.svg...\n"
     ]
    },
    {
     "name": "stderr",
     "output_type": "stream",
     "text": [
      "/tmp/ipykernel_386961/95944344.py:14: ImplicitModificationWarning: Setting element `.obsm['X_umap']` of view, initializing view as actual.\n",
      "  adata_selected.obsm['X_umap'] = np.array(adata_selected.obsm['X_umap'])\n"
     ]
    },
    {
     "name": "stdout",
     "output_type": "stream",
     "text": [
      "Done\n",
      "C14-573_cell_transition_ALL_S2_S3a.csv\n",
      "|-----------> plotting with basis key=X_umap\n",
      "|-----------> skip filtering cluster by stack threshold when stacking color because it is not a numeric type\n",
      "Saving figure to /syn1/liangzhen/jinhua_jilab_project/result/Figures/Figure3/transition_map/C14_dyn_savefig.svg...\n"
     ]
    },
    {
     "name": "stderr",
     "output_type": "stream",
     "text": [
      "/tmp/ipykernel_386961/95944344.py:14: ImplicitModificationWarning: Setting element `.obsm['X_umap']` of view, initializing view as actual.\n",
      "  adata_selected.obsm['X_umap'] = np.array(adata_selected.obsm['X_umap'])\n"
     ]
    },
    {
     "name": "stdout",
     "output_type": "stream",
     "text": [
      "Done\n",
      "C8-891_cell_transition_ALL_S2_S3a.csv\n",
      "|-----------> plotting with basis key=X_umap\n",
      "|-----------> skip filtering cluster by stack threshold when stacking color because it is not a numeric type\n",
      "Saving figure to /syn1/liangzhen/jinhua_jilab_project/result/Figures/Figure3/transition_map/C8_dyn_savefig.svg...\n"
     ]
    },
    {
     "name": "stderr",
     "output_type": "stream",
     "text": [
      "/tmp/ipykernel_386961/95944344.py:14: ImplicitModificationWarning: Setting element `.obsm['X_umap']` of view, initializing view as actual.\n",
      "  adata_selected.obsm['X_umap'] = np.array(adata_selected.obsm['X_umap'])\n"
     ]
    },
    {
     "name": "stdout",
     "output_type": "stream",
     "text": [
      "Done\n",
      "C2-4397_cell_transition_ALL_S2_S3a.csv\n"
     ]
    },
    {
     "name": "stderr",
     "output_type": "stream",
     "text": [
      "/tmp/ipykernel_386961/95944344.py:14: ImplicitModificationWarning: Setting element `.obsm['X_umap']` of view, initializing view as actual.\n",
      "  adata_selected.obsm['X_umap'] = np.array(adata_selected.obsm['X_umap'])\n"
     ]
    },
    {
     "name": "stdout",
     "output_type": "stream",
     "text": [
      "|-----------> plotting with basis key=X_umap\n",
      "|-----------> skip filtering cluster by stack threshold when stacking color because it is not a numeric type\n",
      "Saving figure to /syn1/liangzhen/jinhua_jilab_project/result/Figures/Figure3/transition_map/C2_dyn_savefig.svg...\n",
      "Done\n",
      "C30-233_cell_transition_ALL_S2_S3a.csv\n",
      "|-----------> plotting with basis key=X_umap\n",
      "|-----------> skip filtering cluster by stack threshold when stacking color because it is not a numeric type\n",
      "Saving figure to /syn1/liangzhen/jinhua_jilab_project/result/Figures/Figure3/transition_map/C30_dyn_savefig.svg...\n"
     ]
    },
    {
     "name": "stderr",
     "output_type": "stream",
     "text": [
      "/tmp/ipykernel_386961/95944344.py:14: ImplicitModificationWarning: Setting element `.obsm['X_umap']` of view, initializing view as actual.\n",
      "  adata_selected.obsm['X_umap'] = np.array(adata_selected.obsm['X_umap'])\n"
     ]
    },
    {
     "name": "stdout",
     "output_type": "stream",
     "text": [
      "Done\n",
      "C10-793_cell_transition_ALL_S2_S3a.csv\n",
      "|-----------> plotting with basis key=X_umap\n",
      "|-----------> skip filtering cluster by stack threshold when stacking color because it is not a numeric type\n"
     ]
    },
    {
     "name": "stderr",
     "output_type": "stream",
     "text": [
      "/tmp/ipykernel_386961/95944344.py:14: ImplicitModificationWarning: Setting element `.obsm['X_umap']` of view, initializing view as actual.\n",
      "  adata_selected.obsm['X_umap'] = np.array(adata_selected.obsm['X_umap'])\n"
     ]
    },
    {
     "name": "stdout",
     "output_type": "stream",
     "text": [
      "Saving figure to /syn1/liangzhen/jinhua_jilab_project/result/Figures/Figure3/transition_map/C10_dyn_savefig.svg...\n",
      "Done\n",
      "C36-374_cell_transition_ALL_S2_S3a.csv\n",
      "|-----------> plotting with basis key=X_umap\n",
      "|-----------> skip filtering cluster by stack threshold when stacking color because it is not a numeric type\n",
      "Saving figure to /syn1/liangzhen/jinhua_jilab_project/result/Figures/Figure3/transition_map/C36_dyn_savefig.svg...\n"
     ]
    },
    {
     "name": "stderr",
     "output_type": "stream",
     "text": [
      "/tmp/ipykernel_386961/95944344.py:14: ImplicitModificationWarning: Setting element `.obsm['X_umap']` of view, initializing view as actual.\n",
      "  adata_selected.obsm['X_umap'] = np.array(adata_selected.obsm['X_umap'])\n"
     ]
    },
    {
     "name": "stdout",
     "output_type": "stream",
     "text": [
      "Done\n",
      "C16-577_cell_transition_ALL_S2_S3a.csv\n",
      "|-----------> plotting with basis key=X_umap\n",
      "|-----------> skip filtering cluster by stack threshold when stacking color because it is not a numeric type\n",
      "Saving figure to /syn1/liangzhen/jinhua_jilab_project/result/Figures/Figure3/transition_map/C16_dyn_savefig.svg...\n"
     ]
    },
    {
     "name": "stderr",
     "output_type": "stream",
     "text": [
      "/tmp/ipykernel_386961/95944344.py:14: ImplicitModificationWarning: Setting element `.obsm['X_umap']` of view, initializing view as actual.\n",
      "  adata_selected.obsm['X_umap'] = np.array(adata_selected.obsm['X_umap'])\n"
     ]
    },
    {
     "name": "stdout",
     "output_type": "stream",
     "text": [
      "Done\n",
      "C42-178_cell_transition_ALL_S2_S3a.csv\n",
      "|-----------> plotting with basis key=X_umap\n",
      "|-----------> skip filtering cluster by stack threshold when stacking color because it is not a numeric type\n",
      "Saving figure to /syn1/liangzhen/jinhua_jilab_project/result/Figures/Figure3/transition_map/C42_dyn_savefig.svg...\n"
     ]
    },
    {
     "name": "stderr",
     "output_type": "stream",
     "text": [
      "/tmp/ipykernel_386961/95944344.py:14: ImplicitModificationWarning: Setting element `.obsm['X_umap']` of view, initializing view as actual.\n",
      "  adata_selected.obsm['X_umap'] = np.array(adata_selected.obsm['X_umap'])\n"
     ]
    },
    {
     "name": "stdout",
     "output_type": "stream",
     "text": [
      "Done\n",
      "C69-123_cell_transition_ALL_S2_S3a.csv\n",
      "|-----------> plotting with basis key=X_umap\n",
      "|-----------> skip filtering cluster by stack threshold when stacking color because it is not a numeric type\n",
      "Saving figure to /syn1/liangzhen/jinhua_jilab_project/result/Figures/Figure3/transition_map/C69_dyn_savefig.svg...\n"
     ]
    },
    {
     "name": "stderr",
     "output_type": "stream",
     "text": [
      "/tmp/ipykernel_386961/95944344.py:14: ImplicitModificationWarning: Setting element `.obsm['X_umap']` of view, initializing view as actual.\n",
      "  adata_selected.obsm['X_umap'] = np.array(adata_selected.obsm['X_umap'])\n"
     ]
    },
    {
     "name": "stdout",
     "output_type": "stream",
     "text": [
      "Done\n",
      "C7-2304_cell_transition_ALL_S2_S3a.csv\n"
     ]
    },
    {
     "name": "stderr",
     "output_type": "stream",
     "text": [
      "/tmp/ipykernel_386961/95944344.py:14: ImplicitModificationWarning: Setting element `.obsm['X_umap']` of view, initializing view as actual.\n",
      "  adata_selected.obsm['X_umap'] = np.array(adata_selected.obsm['X_umap'])\n"
     ]
    },
    {
     "name": "stdout",
     "output_type": "stream",
     "text": [
      "|-----------> plotting with basis key=X_umap\n",
      "|-----------> skip filtering cluster by stack threshold when stacking color because it is not a numeric type\n",
      "Saving figure to /syn1/liangzhen/jinhua_jilab_project/result/Figures/Figure3/transition_map/C7_dyn_savefig.svg...\n",
      "Done\n",
      "C11-400_cell_transition_ALL_S2_S3a.csv\n",
      "|-----------> plotting with basis key=X_umap\n",
      "|-----------> skip filtering cluster by stack threshold when stacking color because it is not a numeric type\n",
      "Saving figure to /syn1/liangzhen/jinhua_jilab_project/result/Figures/Figure3/transition_map/C11_dyn_savefig.svg...\n"
     ]
    },
    {
     "name": "stderr",
     "output_type": "stream",
     "text": [
      "/tmp/ipykernel_386961/95944344.py:14: ImplicitModificationWarning: Setting element `.obsm['X_umap']` of view, initializing view as actual.\n",
      "  adata_selected.obsm['X_umap'] = np.array(adata_selected.obsm['X_umap'])\n"
     ]
    },
    {
     "name": "stdout",
     "output_type": "stream",
     "text": [
      "Done\n",
      "C82-171_cell_transition_ALL_S2_S3a.csv\n",
      "|-----------> plotting with basis key=X_umap\n",
      "|-----------> skip filtering cluster by stack threshold when stacking color because it is not a numeric type\n",
      "Saving figure to /syn1/liangzhen/jinhua_jilab_project/result/Figures/Figure3/transition_map/C82_dyn_savefig.svg...\n"
     ]
    },
    {
     "name": "stderr",
     "output_type": "stream",
     "text": [
      "/tmp/ipykernel_386961/95944344.py:14: ImplicitModificationWarning: Setting element `.obsm['X_umap']` of view, initializing view as actual.\n",
      "  adata_selected.obsm['X_umap'] = np.array(adata_selected.obsm['X_umap'])\n",
      "/home/liangzhen/anaconda3/envs/cellrank2/lib/python3.11/site-packages/dynamo/plot/utils.py:426: RuntimeWarning: More than 20 figures have been opened. Figures created through the pyplot interface (`matplotlib.pyplot.figure`) are retained until explicitly closed and may consume too much memory. (To control this warning, see the rcParam `figure.max_open_warning`). Consider using `matplotlib.pyplot.close()`.\n",
      "  fig = plt.figure(figsize=(width / dpi, height / dpi))\n"
     ]
    },
    {
     "name": "stdout",
     "output_type": "stream",
     "text": [
      "Done\n",
      "C15-405_cell_transition_ALL_S2_S3a.csv\n",
      "|-----------> plotting with basis key=X_umap\n",
      "|-----------> skip filtering cluster by stack threshold when stacking color because it is not a numeric type\n",
      "Saving figure to /syn1/liangzhen/jinhua_jilab_project/result/Figures/Figure3/transition_map/C15_dyn_savefig.svg...\n"
     ]
    },
    {
     "name": "stderr",
     "output_type": "stream",
     "text": [
      "/tmp/ipykernel_386961/95944344.py:14: ImplicitModificationWarning: Setting element `.obsm['X_umap']` of view, initializing view as actual.\n",
      "  adata_selected.obsm['X_umap'] = np.array(adata_selected.obsm['X_umap'])\n",
      "/home/liangzhen/anaconda3/envs/cellrank2/lib/python3.11/site-packages/dynamo/plot/state_graph.py:275: RuntimeWarning: More than 20 figures have been opened. Figures created through the pyplot interface (`matplotlib.pyplot.figure`) are retained until explicitly closed and may consume too much memory. (To control this warning, see the rcParam `figure.max_open_warning`). Consider using `matplotlib.pyplot.close()`.\n",
      "  plt.figure(facecolor=_background)\n"
     ]
    },
    {
     "name": "stdout",
     "output_type": "stream",
     "text": [
      "Done\n",
      "C20-341_cell_transition_ALL_S2_S3a.csv\n",
      "|-----------> plotting with basis key=X_umap\n",
      "|-----------> skip filtering cluster by stack threshold when stacking color because it is not a numeric type\n",
      "Saving figure to /syn1/liangzhen/jinhua_jilab_project/result/Figures/Figure3/transition_map/C20_dyn_savefig.svg...\n"
     ]
    },
    {
     "name": "stderr",
     "output_type": "stream",
     "text": [
      "/tmp/ipykernel_386961/95944344.py:14: ImplicitModificationWarning: Setting element `.obsm['X_umap']` of view, initializing view as actual.\n",
      "  adata_selected.obsm['X_umap'] = np.array(adata_selected.obsm['X_umap'])\n"
     ]
    },
    {
     "name": "stdout",
     "output_type": "stream",
     "text": [
      "Done\n",
      "C27-255_cell_transition_ALL_S2_S3a.csv\n",
      "|-----------> plotting with basis key=X_umap\n",
      "|-----------> skip filtering cluster by stack threshold when stacking color because it is not a numeric type\n",
      "Saving figure to /syn1/liangzhen/jinhua_jilab_project/result/Figures/Figure3/transition_map/C27_dyn_savefig.svg...\n"
     ]
    },
    {
     "name": "stderr",
     "output_type": "stream",
     "text": [
      "/tmp/ipykernel_386961/95944344.py:14: ImplicitModificationWarning: Setting element `.obsm['X_umap']` of view, initializing view as actual.\n",
      "  adata_selected.obsm['X_umap'] = np.array(adata_selected.obsm['X_umap'])\n"
     ]
    },
    {
     "name": "stdout",
     "output_type": "stream",
     "text": [
      "Done\n",
      "C95-105_cell_transition_ALL_S2_S3a.csv\n",
      "|-----------> plotting with basis key=X_umap\n",
      "|-----------> skip filtering cluster by stack threshold when stacking color because it is not a numeric type\n",
      "Saving figure to /syn1/liangzhen/jinhua_jilab_project/result/Figures/Figure3/transition_map/C95_dyn_savefig.svg...\n"
     ]
    },
    {
     "name": "stderr",
     "output_type": "stream",
     "text": [
      "/tmp/ipykernel_386961/95944344.py:14: ImplicitModificationWarning: Setting element `.obsm['X_umap']` of view, initializing view as actual.\n",
      "  adata_selected.obsm['X_umap'] = np.array(adata_selected.obsm['X_umap'])\n"
     ]
    },
    {
     "name": "stdout",
     "output_type": "stream",
     "text": [
      "Done\n",
      "C68-148_cell_transition_ALL_S2_S3a.csv\n",
      "|-----------> plotting with basis key=X_umap\n",
      "|-----------> skip filtering cluster by stack threshold when stacking color because it is not a numeric type\n",
      "Saving figure to /syn1/liangzhen/jinhua_jilab_project/result/Figures/Figure3/transition_map/C68_dyn_savefig.svg...\n"
     ]
    },
    {
     "name": "stderr",
     "output_type": "stream",
     "text": [
      "/tmp/ipykernel_386961/95944344.py:14: ImplicitModificationWarning: Setting element `.obsm['X_umap']` of view, initializing view as actual.\n",
      "  adata_selected.obsm['X_umap'] = np.array(adata_selected.obsm['X_umap'])\n"
     ]
    },
    {
     "name": "stdout",
     "output_type": "stream",
     "text": [
      "Done\n",
      "C98-101_cell_transition_ALL_S2_S3a.csv\n",
      "|-----------> plotting with basis key=X_umap\n",
      "|-----------> skip filtering cluster by stack threshold when stacking color because it is not a numeric type\n",
      "Saving figure to /syn1/liangzhen/jinhua_jilab_project/result/Figures/Figure3/transition_map/C98_dyn_savefig.svg...\n"
     ]
    },
    {
     "name": "stderr",
     "output_type": "stream",
     "text": [
      "/tmp/ipykernel_386961/95944344.py:14: ImplicitModificationWarning: Setting element `.obsm['X_umap']` of view, initializing view as actual.\n",
      "  adata_selected.obsm['X_umap'] = np.array(adata_selected.obsm['X_umap'])\n"
     ]
    },
    {
     "name": "stdout",
     "output_type": "stream",
     "text": [
      "Done\n",
      "C1-5000_cell_transition_ALL_S2_S3a.csv\n"
     ]
    },
    {
     "name": "stderr",
     "output_type": "stream",
     "text": [
      "/tmp/ipykernel_386961/95944344.py:14: ImplicitModificationWarning: Setting element `.obsm['X_umap']` of view, initializing view as actual.\n",
      "  adata_selected.obsm['X_umap'] = np.array(adata_selected.obsm['X_umap'])\n"
     ]
    },
    {
     "name": "stdout",
     "output_type": "stream",
     "text": [
      "|-----------> plotting with basis key=X_umap\n",
      "|-----------> skip filtering cluster by stack threshold when stacking color because it is not a numeric type\n",
      "Saving figure to /syn1/liangzhen/jinhua_jilab_project/result/Figures/Figure3/transition_map/C1_dyn_savefig.svg...\n",
      "Done\n",
      "C3-3297_cell_transition_ALL_S2_S3a.csv\n"
     ]
    },
    {
     "name": "stderr",
     "output_type": "stream",
     "text": [
      "/tmp/ipykernel_386961/95944344.py:14: ImplicitModificationWarning: Setting element `.obsm['X_umap']` of view, initializing view as actual.\n",
      "  adata_selected.obsm['X_umap'] = np.array(adata_selected.obsm['X_umap'])\n"
     ]
    },
    {
     "name": "stdout",
     "output_type": "stream",
     "text": [
      "|-----------> plotting with basis key=X_umap\n",
      "|-----------> skip filtering cluster by stack threshold when stacking color because it is not a numeric type\n",
      "Saving figure to /syn1/liangzhen/jinhua_jilab_project/result/Figures/Figure3/transition_map/C3_dyn_savefig.svg...\n",
      "Done\n",
      "C9-866_cell_transition_ALL_S2_S3a.csv\n",
      "|-----------> plotting with basis key=X_umap\n",
      "|-----------> skip filtering cluster by stack threshold when stacking color because it is not a numeric type\n",
      "Saving figure to /syn1/liangzhen/jinhua_jilab_project/result/Figures/Figure3/transition_map/C9_dyn_savefig.svg...\n"
     ]
    },
    {
     "name": "stderr",
     "output_type": "stream",
     "text": [
      "/tmp/ipykernel_386961/95944344.py:14: ImplicitModificationWarning: Setting element `.obsm['X_umap']` of view, initializing view as actual.\n",
      "  adata_selected.obsm['X_umap'] = np.array(adata_selected.obsm['X_umap'])\n"
     ]
    },
    {
     "name": "stdout",
     "output_type": "stream",
     "text": [
      "Done\n",
      "C17-604_cell_transition_ALL_S2_S3a.csv\n",
      "|-----------> plotting with basis key=X_umap\n",
      "|-----------> skip filtering cluster by stack threshold when stacking color because it is not a numeric type\n",
      "Saving figure to /syn1/liangzhen/jinhua_jilab_project/result/Figures/Figure3/transition_map/C17_dyn_savefig.svg...\n"
     ]
    },
    {
     "name": "stderr",
     "output_type": "stream",
     "text": [
      "/tmp/ipykernel_386961/95944344.py:14: ImplicitModificationWarning: Setting element `.obsm['X_umap']` of view, initializing view as actual.\n",
      "  adata_selected.obsm['X_umap'] = np.array(adata_selected.obsm['X_umap'])\n"
     ]
    },
    {
     "name": "stdout",
     "output_type": "stream",
     "text": [
      "Done\n",
      "C23-242_cell_transition_ALL_S2_S3a.csv\n",
      "|-----------> plotting with basis key=X_umap\n",
      "|-----------> skip filtering cluster by stack threshold when stacking color because it is not a numeric type\n",
      "Saving figure to /syn1/liangzhen/jinhua_jilab_project/result/Figures/Figure3/transition_map/C23_dyn_savefig.svg...\n"
     ]
    },
    {
     "name": "stderr",
     "output_type": "stream",
     "text": [
      "/tmp/ipykernel_386961/95944344.py:14: ImplicitModificationWarning: Setting element `.obsm['X_umap']` of view, initializing view as actual.\n",
      "  adata_selected.obsm['X_umap'] = np.array(adata_selected.obsm['X_umap'])\n"
     ]
    },
    {
     "name": "stdout",
     "output_type": "stream",
     "text": [
      "Done\n",
      "C65-120_cell_transition_ALL_S2_S3a.csv\n",
      "|-----------> plotting with basis key=X_umap\n",
      "|-----------> skip filtering cluster by stack threshold when stacking color because it is not a numeric type\n",
      "Saving figure to /syn1/liangzhen/jinhua_jilab_project/result/Figures/Figure3/transition_map/C65_dyn_savefig.svg...\n"
     ]
    },
    {
     "name": "stderr",
     "output_type": "stream",
     "text": [
      "/tmp/ipykernel_386961/95944344.py:14: ImplicitModificationWarning: Setting element `.obsm['X_umap']` of view, initializing view as actual.\n",
      "  adata_selected.obsm['X_umap'] = np.array(adata_selected.obsm['X_umap'])\n"
     ]
    },
    {
     "name": "stdout",
     "output_type": "stream",
     "text": [
      "Done\n",
      "C57-109_cell_transition_ALL_S2_S3a.csv\n",
      "|-----------> plotting with basis key=X_umap\n",
      "|-----------> skip filtering cluster by stack threshold when stacking color because it is not a numeric type\n",
      "Saving figure to /syn1/liangzhen/jinhua_jilab_project/result/Figures/Figure3/transition_map/C57_dyn_savefig.svg...\n"
     ]
    },
    {
     "name": "stderr",
     "output_type": "stream",
     "text": [
      "/tmp/ipykernel_386961/95944344.py:14: ImplicitModificationWarning: Setting element `.obsm['X_umap']` of view, initializing view as actual.\n",
      "  adata_selected.obsm['X_umap'] = np.array(adata_selected.obsm['X_umap'])\n"
     ]
    },
    {
     "name": "stdout",
     "output_type": "stream",
     "text": [
      "Done\n",
      "C31-193_cell_transition_ALL_S2_S3a.csv\n",
      "|-----------> plotting with basis key=X_umap\n",
      "|-----------> skip filtering cluster by stack threshold when stacking color because it is not a numeric type\n",
      "Saving figure to /syn1/liangzhen/jinhua_jilab_project/result/Figures/Figure3/transition_map/C31_dyn_savefig.svg...\n"
     ]
    },
    {
     "name": "stderr",
     "output_type": "stream",
     "text": [
      "/tmp/ipykernel_386961/95944344.py:14: ImplicitModificationWarning: Setting element `.obsm['X_umap']` of view, initializing view as actual.\n",
      "  adata_selected.obsm['X_umap'] = np.array(adata_selected.obsm['X_umap'])\n"
     ]
    },
    {
     "name": "stdout",
     "output_type": "stream",
     "text": [
      "Done\n",
      "C5-1671_cell_transition_ALL_S2_S3a.csv\n",
      "|-----------> plotting with basis key=X_umap\n",
      "|-----------> skip filtering cluster by stack threshold when stacking color because it is not a numeric type\n"
     ]
    },
    {
     "name": "stderr",
     "output_type": "stream",
     "text": [
      "/tmp/ipykernel_386961/95944344.py:14: ImplicitModificationWarning: Setting element `.obsm['X_umap']` of view, initializing view as actual.\n",
      "  adata_selected.obsm['X_umap'] = np.array(adata_selected.obsm['X_umap'])\n"
     ]
    },
    {
     "name": "stdout",
     "output_type": "stream",
     "text": [
      "Saving figure to /syn1/liangzhen/jinhua_jilab_project/result/Figures/Figure3/transition_map/C5_dyn_savefig.svg...\n",
      "Done\n",
      "C50-303_cell_transition_ALL_S2_S3a.csv\n",
      "|-----------> plotting with basis key=X_umap\n",
      "|-----------> skip filtering cluster by stack threshold when stacking color because it is not a numeric type\n",
      "Saving figure to /syn1/liangzhen/jinhua_jilab_project/result/Figures/Figure3/transition_map/C50_dyn_savefig.svg...\n"
     ]
    },
    {
     "name": "stderr",
     "output_type": "stream",
     "text": [
      "/tmp/ipykernel_386961/95944344.py:14: ImplicitModificationWarning: Setting element `.obsm['X_umap']` of view, initializing view as actual.\n",
      "  adata_selected.obsm['X_umap'] = np.array(adata_selected.obsm['X_umap'])\n"
     ]
    },
    {
     "name": "stdout",
     "output_type": "stream",
     "text": [
      "Done\n",
      "C41-227_cell_transition_ALL_S2_S3a.csv\n",
      "|-----------> plotting with basis key=X_umap\n",
      "|-----------> skip filtering cluster by stack threshold when stacking color because it is not a numeric type\n",
      "Saving figure to /syn1/liangzhen/jinhua_jilab_project/result/Figures/Figure3/transition_map/C41_dyn_savefig.svg...\n"
     ]
    },
    {
     "name": "stderr",
     "output_type": "stream",
     "text": [
      "/tmp/ipykernel_386961/95944344.py:14: ImplicitModificationWarning: Setting element `.obsm['X_umap']` of view, initializing view as actual.\n",
      "  adata_selected.obsm['X_umap'] = np.array(adata_selected.obsm['X_umap'])\n"
     ]
    },
    {
     "name": "stdout",
     "output_type": "stream",
     "text": [
      "Done\n",
      "C73-123_cell_transition_ALL_S2_S3a.csv\n",
      "|-----------> plotting with basis key=X_umap\n",
      "|-----------> skip filtering cluster by stack threshold when stacking color because it is not a numeric type\n",
      "Saving figure to /syn1/liangzhen/jinhua_jilab_project/result/Figures/Figure3/transition_map/C73_dyn_savefig.svg...\n"
     ]
    },
    {
     "name": "stderr",
     "output_type": "stream",
     "text": [
      "/tmp/ipykernel_386961/95944344.py:14: ImplicitModificationWarning: Setting element `.obsm['X_umap']` of view, initializing view as actual.\n",
      "  adata_selected.obsm['X_umap'] = np.array(adata_selected.obsm['X_umap'])\n"
     ]
    },
    {
     "name": "stdout",
     "output_type": "stream",
     "text": [
      "Done\n",
      "C62-102_cell_transition_ALL_S2_S3a.csv\n",
      "|-----------> plotting with basis key=X_umap\n",
      "|-----------> skip filtering cluster by stack threshold when stacking color because it is not a numeric type\n",
      "Saving figure to /syn1/liangzhen/jinhua_jilab_project/result/Figures/Figure3/transition_map/C62_dyn_savefig.svg...\n"
     ]
    },
    {
     "name": "stderr",
     "output_type": "stream",
     "text": [
      "/tmp/ipykernel_386961/95944344.py:14: ImplicitModificationWarning: Setting element `.obsm['X_umap']` of view, initializing view as actual.\n",
      "  adata_selected.obsm['X_umap'] = np.array(adata_selected.obsm['X_umap'])\n"
     ]
    },
    {
     "name": "stdout",
     "output_type": "stream",
     "text": [
      "Done\n",
      "C4-1456_cell_transition_ALL_S2_S3a.csv\n",
      "|-----------> plotting with basis key=X_umap\n",
      "|-----------> skip filtering cluster by stack threshold when stacking color because it is not a numeric type\n"
     ]
    },
    {
     "name": "stderr",
     "output_type": "stream",
     "text": [
      "/tmp/ipykernel_386961/95944344.py:14: ImplicitModificationWarning: Setting element `.obsm['X_umap']` of view, initializing view as actual.\n",
      "  adata_selected.obsm['X_umap'] = np.array(adata_selected.obsm['X_umap'])\n"
     ]
    },
    {
     "name": "stdout",
     "output_type": "stream",
     "text": [
      "Saving figure to /syn1/liangzhen/jinhua_jilab_project/result/Figures/Figure3/transition_map/C4_dyn_savefig.svg...\n",
      "Done\n",
      "C39-221_cell_transition_ALL_S2_S3a.csv\n",
      "|-----------> plotting with basis key=X_umap\n",
      "|-----------> skip filtering cluster by stack threshold when stacking color because it is not a numeric type\n",
      "Saving figure to /syn1/liangzhen/jinhua_jilab_project/result/Figures/Figure3/transition_map/C39_dyn_savefig.svg...\n"
     ]
    },
    {
     "name": "stderr",
     "output_type": "stream",
     "text": [
      "/tmp/ipykernel_386961/95944344.py:14: ImplicitModificationWarning: Setting element `.obsm['X_umap']` of view, initializing view as actual.\n",
      "  adata_selected.obsm['X_umap'] = np.array(adata_selected.obsm['X_umap'])\n"
     ]
    },
    {
     "name": "stdout",
     "output_type": "stream",
     "text": [
      "Done\n",
      "C29-318_cell_transition_ALL_S2_S3a.csv\n",
      "|-----------> plotting with basis key=X_umap\n",
      "|-----------> skip filtering cluster by stack threshold when stacking color because it is not a numeric type\n",
      "Saving figure to /syn1/liangzhen/jinhua_jilab_project/result/Figures/Figure3/transition_map/C29_dyn_savefig.svg...\n"
     ]
    },
    {
     "name": "stderr",
     "output_type": "stream",
     "text": [
      "/tmp/ipykernel_386961/95944344.py:14: ImplicitModificationWarning: Setting element `.obsm['X_umap']` of view, initializing view as actual.\n",
      "  adata_selected.obsm['X_umap'] = np.array(adata_selected.obsm['X_umap'])\n"
     ]
    },
    {
     "name": "stdout",
     "output_type": "stream",
     "text": [
      "Done\n",
      "C13-636_cell_transition_ALL_S2_S3a.csv\n",
      "|-----------> plotting with basis key=X_umap\n",
      "|-----------> skip filtering cluster by stack threshold when stacking color because it is not a numeric type\n",
      "Saving figure to /syn1/liangzhen/jinhua_jilab_project/result/Figures/Figure3/transition_map/C13_dyn_savefig.svg...\n"
     ]
    },
    {
     "name": "stderr",
     "output_type": "stream",
     "text": [
      "/tmp/ipykernel_386961/95944344.py:14: ImplicitModificationWarning: Setting element `.obsm['X_umap']` of view, initializing view as actual.\n",
      "  adata_selected.obsm['X_umap'] = np.array(adata_selected.obsm['X_umap'])\n"
     ]
    },
    {
     "name": "stdout",
     "output_type": "stream",
     "text": [
      "Done\n",
      "C33-247_cell_transition_ALL_S2_S3a.csv\n",
      "|-----------> plotting with basis key=X_umap\n",
      "|-----------> skip filtering cluster by stack threshold when stacking color because it is not a numeric type\n",
      "Saving figure to /syn1/liangzhen/jinhua_jilab_project/result/Figures/Figure3/transition_map/C33_dyn_savefig.svg...\n"
     ]
    },
    {
     "name": "stderr",
     "output_type": "stream",
     "text": [
      "/tmp/ipykernel_386961/95944344.py:14: ImplicitModificationWarning: Setting element `.obsm['X_umap']` of view, initializing view as actual.\n",
      "  adata_selected.obsm['X_umap'] = np.array(adata_selected.obsm['X_umap'])\n"
     ]
    },
    {
     "name": "stdout",
     "output_type": "stream",
     "text": [
      "Done\n",
      "C37-103_cell_transition_ALL_S2_S3a.csv\n",
      "|-----------> plotting with basis key=X_umap\n",
      "|-----------> skip filtering cluster by stack threshold when stacking color because it is not a numeric type\n",
      "Saving figure to /syn1/liangzhen/jinhua_jilab_project/result/Figures/Figure3/transition_map/C37_dyn_savefig.svg...\n"
     ]
    },
    {
     "name": "stderr",
     "output_type": "stream",
     "text": [
      "/tmp/ipykernel_386961/95944344.py:14: ImplicitModificationWarning: Setting element `.obsm['X_umap']` of view, initializing view as actual.\n",
      "  adata_selected.obsm['X_umap'] = np.array(adata_selected.obsm['X_umap'])\n"
     ]
    },
    {
     "name": "stdout",
     "output_type": "stream",
     "text": [
      "Done\n",
      "C19-731_cell_transition_ALL_S2_S3a.csv\n",
      "|-----------> plotting with basis key=X_umap\n",
      "|-----------> skip filtering cluster by stack threshold when stacking color because it is not a numeric type\n"
     ]
    },
    {
     "name": "stderr",
     "output_type": "stream",
     "text": [
      "/tmp/ipykernel_386961/95944344.py:14: ImplicitModificationWarning: Setting element `.obsm['X_umap']` of view, initializing view as actual.\n",
      "  adata_selected.obsm['X_umap'] = np.array(adata_selected.obsm['X_umap'])\n"
     ]
    },
    {
     "name": "stdout",
     "output_type": "stream",
     "text": [
      "Saving figure to /syn1/liangzhen/jinhua_jilab_project/result/Figures/Figure3/transition_map/C19_dyn_savefig.svg...\n",
      "Done\n"
     ]
    },
    {
     "data": {
      "text/plain": [
       "<Figure size 600x400 with 0 Axes>"
      ]
     },
     "metadata": {},
     "output_type": "display_data"
    },
    {
     "data": {
      "text/plain": [
       "<Figure size 640x480 with 0 Axes>"
      ]
     },
     "metadata": {},
     "output_type": "display_data"
    },
    {
     "data": {
      "text/plain": [
       "<Figure size 640x480 with 0 Axes>"
      ]
     },
     "metadata": {},
     "output_type": "display_data"
    },
    {
     "data": {
      "text/plain": [
       "<Figure size 640x480 with 0 Axes>"
      ]
     },
     "metadata": {},
     "output_type": "display_data"
    },
    {
     "data": {
      "text/plain": [
       "<Figure size 640x480 with 0 Axes>"
      ]
     },
     "metadata": {},
     "output_type": "display_data"
    },
    {
     "data": {
      "text/plain": [
       "<Figure size 640x480 with 0 Axes>"
      ]
     },
     "metadata": {},
     "output_type": "display_data"
    },
    {
     "data": {
      "text/plain": [
       "<Figure size 640x480 with 0 Axes>"
      ]
     },
     "metadata": {},
     "output_type": "display_data"
    },
    {
     "data": {
      "text/plain": [
       "<Figure size 640x480 with 0 Axes>"
      ]
     },
     "metadata": {},
     "output_type": "display_data"
    },
    {
     "data": {
      "text/plain": [
       "<Figure size 640x480 with 0 Axes>"
      ]
     },
     "metadata": {},
     "output_type": "display_data"
    },
    {
     "data": {
      "text/plain": [
       "<Figure size 640x480 with 0 Axes>"
      ]
     },
     "metadata": {},
     "output_type": "display_data"
    },
    {
     "data": {
      "text/plain": [
       "<Figure size 640x480 with 0 Axes>"
      ]
     },
     "metadata": {},
     "output_type": "display_data"
    },
    {
     "data": {
      "text/plain": [
       "<Figure size 640x480 with 0 Axes>"
      ]
     },
     "metadata": {},
     "output_type": "display_data"
    },
    {
     "data": {
      "text/plain": [
       "<Figure size 640x480 with 0 Axes>"
      ]
     },
     "metadata": {},
     "output_type": "display_data"
    },
    {
     "data": {
      "text/plain": [
       "<Figure size 640x480 with 0 Axes>"
      ]
     },
     "metadata": {},
     "output_type": "display_data"
    },
    {
     "data": {
      "text/plain": [
       "<Figure size 640x480 with 0 Axes>"
      ]
     },
     "metadata": {},
     "output_type": "display_data"
    },
    {
     "data": {
      "text/plain": [
       "<Figure size 640x480 with 0 Axes>"
      ]
     },
     "metadata": {},
     "output_type": "display_data"
    },
    {
     "data": {
      "text/plain": [
       "<Figure size 640x480 with 0 Axes>"
      ]
     },
     "metadata": {},
     "output_type": "display_data"
    },
    {
     "data": {
      "text/plain": [
       "<Figure size 640x480 with 0 Axes>"
      ]
     },
     "metadata": {},
     "output_type": "display_data"
    },
    {
     "data": {
      "text/plain": [
       "<Figure size 640x480 with 0 Axes>"
      ]
     },
     "metadata": {},
     "output_type": "display_data"
    },
    {
     "data": {
      "text/plain": [
       "<Figure size 640x480 with 0 Axes>"
      ]
     },
     "metadata": {},
     "output_type": "display_data"
    },
    {
     "data": {
      "text/plain": [
       "<Figure size 640x480 with 0 Axes>"
      ]
     },
     "metadata": {},
     "output_type": "display_data"
    },
    {
     "data": {
      "text/plain": [
       "<Figure size 640x480 with 0 Axes>"
      ]
     },
     "metadata": {},
     "output_type": "display_data"
    },
    {
     "data": {
      "text/plain": [
       "<Figure size 640x480 with 0 Axes>"
      ]
     },
     "metadata": {},
     "output_type": "display_data"
    },
    {
     "data": {
      "text/plain": [
       "<Figure size 640x480 with 0 Axes>"
      ]
     },
     "metadata": {},
     "output_type": "display_data"
    },
    {
     "data": {
      "text/plain": [
       "<Figure size 640x480 with 0 Axes>"
      ]
     },
     "metadata": {},
     "output_type": "display_data"
    },
    {
     "data": {
      "text/plain": [
       "<Figure size 640x480 with 0 Axes>"
      ]
     },
     "metadata": {},
     "output_type": "display_data"
    },
    {
     "data": {
      "text/plain": [
       "<Figure size 640x480 with 0 Axes>"
      ]
     },
     "metadata": {},
     "output_type": "display_data"
    },
    {
     "data": {
      "text/plain": [
       "<Figure size 640x480 with 0 Axes>"
      ]
     },
     "metadata": {},
     "output_type": "display_data"
    },
    {
     "data": {
      "text/plain": [
       "<Figure size 640x480 with 0 Axes>"
      ]
     },
     "metadata": {},
     "output_type": "display_data"
    },
    {
     "data": {
      "text/plain": [
       "<Figure size 640x480 with 0 Axes>"
      ]
     },
     "metadata": {},
     "output_type": "display_data"
    },
    {
     "data": {
      "text/plain": [
       "<Figure size 640x480 with 0 Axes>"
      ]
     },
     "metadata": {},
     "output_type": "display_data"
    },
    {
     "data": {
      "text/plain": [
       "<Figure size 640x480 with 0 Axes>"
      ]
     },
     "metadata": {},
     "output_type": "display_data"
    },
    {
     "data": {
      "text/plain": [
       "<Figure size 640x480 with 0 Axes>"
      ]
     },
     "metadata": {},
     "output_type": "display_data"
    },
    {
     "data": {
      "text/plain": [
       "<Figure size 640x480 with 0 Axes>"
      ]
     },
     "metadata": {},
     "output_type": "display_data"
    },
    {
     "data": {
      "text/plain": [
       "<Figure size 640x480 with 0 Axes>"
      ]
     },
     "metadata": {},
     "output_type": "display_data"
    },
    {
     "data": {
      "text/plain": [
       "<Figure size 640x480 with 0 Axes>"
      ]
     },
     "metadata": {},
     "output_type": "display_data"
    },
    {
     "data": {
      "text/plain": [
       "<Figure size 640x480 with 0 Axes>"
      ]
     },
     "metadata": {},
     "output_type": "display_data"
    },
    {
     "data": {
      "text/plain": [
       "<Figure size 640x480 with 0 Axes>"
      ]
     },
     "metadata": {},
     "output_type": "display_data"
    },
    {
     "data": {
      "text/plain": [
       "<Figure size 640x480 with 0 Axes>"
      ]
     },
     "metadata": {},
     "output_type": "display_data"
    },
    {
     "data": {
      "text/plain": [
       "<Figure size 640x480 with 0 Axes>"
      ]
     },
     "metadata": {},
     "output_type": "display_data"
    },
    {
     "data": {
      "text/plain": [
       "<Figure size 640x480 with 0 Axes>"
      ]
     },
     "metadata": {},
     "output_type": "display_data"
    },
    {
     "data": {
      "text/plain": [
       "<Figure size 640x480 with 0 Axes>"
      ]
     },
     "metadata": {},
     "output_type": "display_data"
    },
    {
     "data": {
      "text/plain": [
       "<Figure size 640x480 with 0 Axes>"
      ]
     },
     "metadata": {},
     "output_type": "display_data"
    },
    {
     "data": {
      "text/plain": [
       "<Figure size 640x480 with 0 Axes>"
      ]
     },
     "metadata": {},
     "output_type": "display_data"
    },
    {
     "data": {
      "text/plain": [
       "<Figure size 640x480 with 0 Axes>"
      ]
     },
     "metadata": {},
     "output_type": "display_data"
    },
    {
     "data": {
      "text/plain": [
       "<Figure size 640x480 with 0 Axes>"
      ]
     },
     "metadata": {},
     "output_type": "display_data"
    }
   ],
   "source": [
    "for transition_file in transition_files:\n",
    "    print(transition_file)\n",
    "    transition = pd.read_csv('/syn1/liangzhen/jinhua_jilab_project/result/DNA_Amplicon/cell_transition/'+transition_file,index_col=0)\n",
    "    transition.index = transition.index.astype('str')\n",
    "    transition.columns = transition.index\n",
    "    lineageGrp = transition_file.split('-')[0]\n",
    "    clusters = transition.index.astype('str')\n",
    "    adata_selected = adata[(adata.obs['lineageGrp']==lineageGrp) & \n",
    "                           (adata.obs['cluster'].isin(clusters)) &\n",
    "                           (adata.obs['time'].isin(['T2','T3'])) \n",
    "                          ]\n",
    "    colors = [color_map[cluster] for cluster in transition.index]\n",
    "    transition = transition.loc[adata_selected.obs['cluster'].unique(),adata_selected.obs['cluster'].unique()]\n",
    "    adata_selected.obsm['X_umap'] = np.array(adata_selected.obsm['X_umap'])\n",
    "    \n",
    "    dyn.pl.state_graph(adata_selected,pointsize=1.5,facecolor='#000000',edgecolor='#000000',#edge_scale=15,\n",
    "                   color=['cluster'],\n",
    "                   group='cluster',\n",
    "                   basis='umap',\n",
    "                   state_graph=transition.to_numpy(),\n",
    "                   #method='vf',\n",
    "                   figsize=[4,4],\n",
    "                   color_key=colors,#frontier =True\n",
    "                   save_show_or_return='save',\n",
    "                   save_kwargs = {'path': '/syn1/liangzhen/jinhua_jilab_project/result/Figures/Figure3/transition_map/', 'prefix': lineageGrp,'ext': 'svg',\n",
    "                                 \"transparent\": True, \"close\": True, \"verbose\": True}\n",
    "                  )\n",
    "    #plt.title(transition_file)\n",
    "    #break"
   ]
  },
  {
   "cell_type": "code",
   "execution_count": null,
   "id": "29c684b4",
   "metadata": {},
   "outputs": [],
   "source": []
  },
  {
   "cell_type": "code",
   "execution_count": null,
   "id": "b79d2daa",
   "metadata": {},
   "outputs": [],
   "source": []
  },
  {
   "cell_type": "code",
   "execution_count": null,
   "id": "4896948d",
   "metadata": {},
   "outputs": [],
   "source": []
  }
 ],
 "metadata": {
  "kernelspec": {
   "display_name": "cellrank2",
   "language": "python",
   "name": "cellrank2"
  },
  "language_info": {
   "codemirror_mode": {
    "name": "ipython",
    "version": 3
   },
   "file_extension": ".py",
   "mimetype": "text/x-python",
   "name": "python",
   "nbconvert_exporter": "python",
   "pygments_lexer": "ipython3",
   "version": "3.11.11"
  },
  "toc": {
   "base_numbering": 1,
   "nav_menu": {},
   "number_sections": false,
   "sideBar": true,
   "skip_h1_title": false,
   "title_cell": "Table of Contents",
   "title_sidebar": "Contents",
   "toc_cell": false,
   "toc_position": {
    "height": "calc(100% - 180px)",
    "left": "10px",
    "top": "150px",
    "width": "165px"
   },
   "toc_section_display": true,
   "toc_window_display": true
  }
 },
 "nbformat": 4,
 "nbformat_minor": 5
}
