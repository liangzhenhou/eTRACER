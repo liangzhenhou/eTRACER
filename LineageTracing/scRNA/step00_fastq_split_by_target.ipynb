{
 "cells": [
  {
   "cell_type": "code",
   "execution_count": 1,
   "id": "786ef8e4",
   "metadata": {},
   "outputs": [],
   "source": []
  },
  {
   "cell_type": "markdown",
   "id": "d3ae2730",
   "metadata": {},
   "source": [
    "# split by innerBC"
   ]
  },
  {
   "cell_type": "code",
   "execution_count": 1,
   "id": "7fc86f7e",
   "metadata": {},
   "outputs": [],
   "source": [
    "import gzip, time\n",
    "import numpy as np\n",
    "import matplotlib.pyplot as plt\n",
    "from collections import defaultdict\n",
    "import pandas as pd\n",
    "import seaborn as sns\n",
    "from Bio.Seq import Seq\n",
    "from collections import Counter\n",
    "import os"
   ]
  },
  {
   "cell_type": "code",
   "execution_count": 2,
   "id": "51ee3d98",
   "metadata": {},
   "outputs": [],
   "source": [
    "sample_paths = {\n",
    "    'a3028_r1': {\n",
    "        'fastq_paths':['/syn1/liangzhen/jinhua_jilab_project/data/DNA_Amplicon/a3028/Sample_SQ23040124-YJH-cas9-14-YJH-cas9-14/SQ23040124-YJH-cas9-14-YJH-cas9-14_combined_{}.fastq.gz']\n",
    "    },\n",
    "    'a3028_r2': {\n",
    "        'fastq_paths':['/syn1/liangzhen/jinhua_jilab_project/data/DNA_Amplicon/a3028/s2164g01077_MCS-20231230-L-04-2024-01-021720/Sample_SQ23071627-YJH-cas9-36-YJH-cas9-36/SQ23071627-YJH-cas9-36-YJH-cas9-36_combined_{}.fastq.gz']\n",
    "    },\n",
    "    'a3028_r3': {\n",
    "        'fastq_paths':['/syn1/liangzhen/jinhua_jilab_project/data/DNA_Amplicon/a3028/Sample_SQ24003922-YJH-cas9-50-YJH-cas9-50/SQ24003922-YJH-cas9-50-YJH-cas9-50_combined_{}.fastq.gz']\n",
    "    }\n",
    "}"
   ]
  },
  {
   "cell_type": "code",
   "execution_count": 3,
   "id": "64424297",
   "metadata": {},
   "outputs": [],
   "source": [
    "def get_innerBC(r2_line):\n",
    "    innerBC = r2_line[0:6]\n",
    "    num_Ns = sum([c=='N' for c in innerBC])\n",
    "    innerBC_ref = ['AATCCG','AATCGC','AAGTCG','AAGCTC','AACGTG','AACTGC','ATAGCG',\n",
    "                  'ATTCCG','ATGCCA','ATGTTC','ATCACG','ATCCAG','ACAGTG','ACTCTG','ACTTGA',\n",
    "                  'ACGATC'] # target gene sequencing index\n",
    "    if num_Ns > 1: \n",
    "        return None \n",
    "    elif num_Ns == 1 and innerBC == 'ANTCCG':\n",
    "        return None # will miss some reads\n",
    "    elif num_Ns == 1 and np.any([innerBC.replace('N',c) in innerBC_ref for c in 'ACTG']): \n",
    "        return [innerBC.replace('N',c) for c in 'ACTG' if innerBC.replace('N',c) in innerBC_ref ][0]\n",
    "    elif innerBC in innerBC_ref: \n",
    "        return innerBC\n",
    "    else: \n",
    "        return None\n",
    "    \n",
    "def hamming(bc1,bc2): return np.sum([x1 != x2 for x1,x2 in zip(bc1,bc2)])"
   ]
  },
  {
   "cell_type": "code",
   "execution_count": 4,
   "id": "4b101d67",
   "metadata": {
    "scrolled": true
   },
   "outputs": [
    {
     "name": "stdout",
     "output_type": "stream",
     "text": [
      "/syn1/liangzhen/jinhua_jilab_project/data/DNA_Amplicon/a3028/Sample_SQ23040124-YJH-cas9-14-YJH-cas9-14/SQ23040124-YJH-cas9-14-YJH-cas9-14_combined_{}.fastq.gz: Processed 1000000 reads in 10.713467836380005 seconds\n",
      "/syn1/liangzhen/jinhua_jilab_project/data/DNA_Amplicon/a3028/Sample_SQ23040124-YJH-cas9-14-YJH-cas9-14/SQ23040124-YJH-cas9-14-YJH-cas9-14_combined_{}.fastq.gz: Processed 2000000 reads in 21.15733528137207 seconds\n",
      "/syn1/liangzhen/jinhua_jilab_project/data/DNA_Amplicon/a3028/Sample_SQ23040124-YJH-cas9-14-YJH-cas9-14/SQ23040124-YJH-cas9-14-YJH-cas9-14_combined_{}.fastq.gz: Processed 3000000 reads in 31.63232183456421 seconds\n",
      "/syn1/liangzhen/jinhua_jilab_project/data/DNA_Amplicon/a3028/Sample_SQ23040124-YJH-cas9-14-YJH-cas9-14/SQ23040124-YJH-cas9-14-YJH-cas9-14_combined_{}.fastq.gz: Processed 4000000 reads in 42.12303304672241 seconds\n",
      "/syn1/liangzhen/jinhua_jilab_project/data/DNA_Amplicon/a3028/Sample_SQ23040124-YJH-cas9-14-YJH-cas9-14/SQ23040124-YJH-cas9-14-YJH-cas9-14_combined_{}.fastq.gz: Processed 5000000 reads in 52.449050426483154 seconds\n",
      "/syn1/liangzhen/jinhua_jilab_project/data/DNA_Amplicon/a3028/Sample_SQ23040124-YJH-cas9-14-YJH-cas9-14/SQ23040124-YJH-cas9-14-YJH-cas9-14_combined_{}.fastq.gz: Processed 6000000 reads in 62.9522705078125 seconds\n",
      "/syn1/liangzhen/jinhua_jilab_project/data/DNA_Amplicon/a3028/Sample_SQ23040124-YJH-cas9-14-YJH-cas9-14/SQ23040124-YJH-cas9-14-YJH-cas9-14_combined_{}.fastq.gz: Processed 7000000 reads in 73.2536187171936 seconds\n",
      "/syn1/liangzhen/jinhua_jilab_project/data/DNA_Amplicon/a3028/Sample_SQ23040124-YJH-cas9-14-YJH-cas9-14/SQ23040124-YJH-cas9-14-YJH-cas9-14_combined_{}.fastq.gz: Processed 8000000 reads in 83.69131875038147 seconds\n",
      "/syn1/liangzhen/jinhua_jilab_project/data/DNA_Amplicon/a3028/Sample_SQ23040124-YJH-cas9-14-YJH-cas9-14/SQ23040124-YJH-cas9-14-YJH-cas9-14_combined_{}.fastq.gz: Processed 9000000 reads in 93.79147052764893 seconds\n",
      "/syn1/liangzhen/jinhua_jilab_project/data/DNA_Amplicon/a3028/Sample_SQ23040124-YJH-cas9-14-YJH-cas9-14/SQ23040124-YJH-cas9-14-YJH-cas9-14_combined_{}.fastq.gz: Processed 10000000 reads in 103.95359516143799 seconds\n",
      "/syn1/liangzhen/jinhua_jilab_project/data/DNA_Amplicon/a3028/Sample_SQ23040124-YJH-cas9-14-YJH-cas9-14/SQ23040124-YJH-cas9-14-YJH-cas9-14_combined_{}.fastq.gz: Processed 11000000 reads in 114.29597759246826 seconds\n",
      "/syn1/liangzhen/jinhua_jilab_project/data/DNA_Amplicon/a3028/Sample_SQ23040124-YJH-cas9-14-YJH-cas9-14/SQ23040124-YJH-cas9-14-YJH-cas9-14_combined_{}.fastq.gz: Processed 12000000 reads in 124.5111927986145 seconds\n",
      "/syn1/liangzhen/jinhua_jilab_project/data/DNA_Amplicon/a3028/Sample_SQ23040124-YJH-cas9-14-YJH-cas9-14/SQ23040124-YJH-cas9-14-YJH-cas9-14_combined_{}.fastq.gz: Processed 13000000 reads in 134.63945174217224 seconds\n",
      "/syn1/liangzhen/jinhua_jilab_project/data/DNA_Amplicon/a3028/Sample_SQ23040124-YJH-cas9-14-YJH-cas9-14/SQ23040124-YJH-cas9-14-YJH-cas9-14_combined_{}.fastq.gz: Processed 14000000 reads in 144.88761496543884 seconds\n",
      "/syn1/liangzhen/jinhua_jilab_project/data/DNA_Amplicon/a3028/Sample_SQ23040124-YJH-cas9-14-YJH-cas9-14/SQ23040124-YJH-cas9-14-YJH-cas9-14_combined_{}.fastq.gz: Processed 15000000 reads in 155.14729833602905 seconds\n",
      "/syn1/liangzhen/jinhua_jilab_project/data/DNA_Amplicon/a3028/Sample_SQ23040124-YJH-cas9-14-YJH-cas9-14/SQ23040124-YJH-cas9-14-YJH-cas9-14_combined_{}.fastq.gz: Processed 16000000 reads in 165.4827425479889 seconds\n",
      "/syn1/liangzhen/jinhua_jilab_project/data/DNA_Amplicon/a3028/Sample_SQ23040124-YJH-cas9-14-YJH-cas9-14/SQ23040124-YJH-cas9-14-YJH-cas9-14_combined_{}.fastq.gz: Processed 17000000 reads in 175.76904439926147 seconds\n",
      "/syn1/liangzhen/jinhua_jilab_project/data/DNA_Amplicon/a3028/Sample_SQ23040124-YJH-cas9-14-YJH-cas9-14/SQ23040124-YJH-cas9-14-YJH-cas9-14_combined_{}.fastq.gz: Processed 18000000 reads in 186.10345649719238 seconds\n",
      "/syn1/liangzhen/jinhua_jilab_project/data/DNA_Amplicon/a3028/Sample_SQ23040124-YJH-cas9-14-YJH-cas9-14/SQ23040124-YJH-cas9-14-YJH-cas9-14_combined_{}.fastq.gz: Processed 19000000 reads in 196.3474178314209 seconds\n",
      "/syn1/liangzhen/jinhua_jilab_project/data/DNA_Amplicon/a3028/Sample_SQ23040124-YJH-cas9-14-YJH-cas9-14/SQ23040124-YJH-cas9-14-YJH-cas9-14_combined_{}.fastq.gz: Processed 20000000 reads in 207.20338821411133 seconds\n",
      "/syn1/liangzhen/jinhua_jilab_project/data/DNA_Amplicon/a3028/Sample_SQ23040124-YJH-cas9-14-YJH-cas9-14/SQ23040124-YJH-cas9-14-YJH-cas9-14_combined_{}.fastq.gz: Processed 21000000 reads in 217.84673595428467 seconds\n",
      "/syn1/liangzhen/jinhua_jilab_project/data/DNA_Amplicon/a3028/Sample_SQ23040124-YJH-cas9-14-YJH-cas9-14/SQ23040124-YJH-cas9-14-YJH-cas9-14_combined_{}.fastq.gz: Processed 22000000 reads in 228.33926701545715 seconds\n",
      "/syn1/liangzhen/jinhua_jilab_project/data/DNA_Amplicon/a3028/Sample_SQ23040124-YJH-cas9-14-YJH-cas9-14/SQ23040124-YJH-cas9-14-YJH-cas9-14_combined_{}.fastq.gz: Processed 23000000 reads in 238.87300300598145 seconds\n",
      "/syn1/liangzhen/jinhua_jilab_project/data/DNA_Amplicon/a3028/Sample_SQ23040124-YJH-cas9-14-YJH-cas9-14/SQ23040124-YJH-cas9-14-YJH-cas9-14_combined_{}.fastq.gz: Processed 24000000 reads in 249.48209953308105 seconds\n",
      "/syn1/liangzhen/jinhua_jilab_project/data/DNA_Amplicon/a3028/Sample_SQ23040124-YJH-cas9-14-YJH-cas9-14/SQ23040124-YJH-cas9-14-YJH-cas9-14_combined_{}.fastq.gz: Processed 25000000 reads in 260.24756717681885 seconds\n",
      "/syn1/liangzhen/jinhua_jilab_project/data/DNA_Amplicon/a3028/Sample_SQ23040124-YJH-cas9-14-YJH-cas9-14/SQ23040124-YJH-cas9-14-YJH-cas9-14_combined_{}.fastq.gz: Processed 26000000 reads in 271.0206003189087 seconds\n",
      "/syn1/liangzhen/jinhua_jilab_project/data/DNA_Amplicon/a3028/Sample_SQ23040124-YJH-cas9-14-YJH-cas9-14/SQ23040124-YJH-cas9-14-YJH-cas9-14_combined_{}.fastq.gz: Processed 27000000 reads in 281.7867419719696 seconds\n",
      "/syn1/liangzhen/jinhua_jilab_project/data/DNA_Amplicon/a3028/Sample_SQ23040124-YJH-cas9-14-YJH-cas9-14/SQ23040124-YJH-cas9-14-YJH-cas9-14_combined_{}.fastq.gz: Processed 28000000 reads in 292.51862359046936 seconds\n",
      "/syn1/liangzhen/jinhua_jilab_project/data/DNA_Amplicon/a3028/Sample_SQ23040124-YJH-cas9-14-YJH-cas9-14/SQ23040124-YJH-cas9-14-YJH-cas9-14_combined_{}.fastq.gz: Processed 29000000 reads in 303.34311866760254 seconds\n",
      "/syn1/liangzhen/jinhua_jilab_project/data/DNA_Amplicon/a3028/Sample_SQ23040124-YJH-cas9-14-YJH-cas9-14/SQ23040124-YJH-cas9-14-YJH-cas9-14_combined_{}.fastq.gz: Processed 30000000 reads in 314.16059732437134 seconds\n",
      "/syn1/liangzhen/jinhua_jilab_project/data/DNA_Amplicon/a3028/Sample_SQ23040124-YJH-cas9-14-YJH-cas9-14/SQ23040124-YJH-cas9-14-YJH-cas9-14_combined_{}.fastq.gz: Processed 31000000 reads in 325.05041456222534 seconds\n",
      "/syn1/liangzhen/jinhua_jilab_project/data/DNA_Amplicon/a3028/Sample_SQ23040124-YJH-cas9-14-YJH-cas9-14/SQ23040124-YJH-cas9-14-YJH-cas9-14_combined_{}.fastq.gz: Processed 32000000 reads in 335.80414628982544 seconds\n",
      "/syn1/liangzhen/jinhua_jilab_project/data/DNA_Amplicon/a3028/Sample_SQ23040124-YJH-cas9-14-YJH-cas9-14/SQ23040124-YJH-cas9-14-YJH-cas9-14_combined_{}.fastq.gz: Processed 33000000 reads in 346.64399933815 seconds\n",
      "/syn1/liangzhen/jinhua_jilab_project/data/DNA_Amplicon/a3028/Sample_SQ23040124-YJH-cas9-14-YJH-cas9-14/SQ23040124-YJH-cas9-14-YJH-cas9-14_combined_{}.fastq.gz: Processed 34000000 reads in 357.48435139656067 seconds\n",
      "/syn1/liangzhen/jinhua_jilab_project/data/DNA_Amplicon/a3028/Sample_SQ23040124-YJH-cas9-14-YJH-cas9-14/SQ23040124-YJH-cas9-14-YJH-cas9-14_combined_{}.fastq.gz: Processed 35000000 reads in 368.32417488098145 seconds\n",
      "/syn1/liangzhen/jinhua_jilab_project/data/DNA_Amplicon/a3028/Sample_SQ23040124-YJH-cas9-14-YJH-cas9-14/SQ23040124-YJH-cas9-14-YJH-cas9-14_combined_{}.fastq.gz: Processed 36000000 reads in 378.90207147598267 seconds\n",
      "/syn1/liangzhen/jinhua_jilab_project/data/DNA_Amplicon/a3028/Sample_SQ23040124-YJH-cas9-14-YJH-cas9-14/SQ23040124-YJH-cas9-14-YJH-cas9-14_combined_{}.fastq.gz: Processed 37000000 reads in 389.70540285110474 seconds\n",
      "/syn1/liangzhen/jinhua_jilab_project/data/DNA_Amplicon/a3028/Sample_SQ23040124-YJH-cas9-14-YJH-cas9-14/SQ23040124-YJH-cas9-14-YJH-cas9-14_combined_{}.fastq.gz: Processed 38000000 reads in 400.43023586273193 seconds\n",
      "/syn1/liangzhen/jinhua_jilab_project/data/DNA_Amplicon/a3028/Sample_SQ23040124-YJH-cas9-14-YJH-cas9-14/SQ23040124-YJH-cas9-14-YJH-cas9-14_combined_{}.fastq.gz: Processed 39000000 reads in 411.0806517601013 seconds\n"
     ]
    },
    {
     "name": "stdout",
     "output_type": "stream",
     "text": [
      "/syn1/liangzhen/jinhua_jilab_project/data/DNA_Amplicon/a3028/Sample_SQ23040124-YJH-cas9-14-YJH-cas9-14/SQ23040124-YJH-cas9-14-YJH-cas9-14_combined_{}.fastq.gz: Processed 40000000 reads in 422.00494360923767 seconds\n",
      "/syn1/liangzhen/jinhua_jilab_project/data/DNA_Amplicon/a3028/Sample_SQ23040124-YJH-cas9-14-YJH-cas9-14/SQ23040124-YJH-cas9-14-YJH-cas9-14_combined_{}.fastq.gz: Processed 41000000 reads in 432.7706456184387 seconds\n",
      "/syn1/liangzhen/jinhua_jilab_project/data/DNA_Amplicon/a3028/Sample_SQ23040124-YJH-cas9-14-YJH-cas9-14/SQ23040124-YJH-cas9-14-YJH-cas9-14_combined_{}.fastq.gz: Processed 42000000 reads in 443.76592993736267 seconds\n",
      "/syn1/liangzhen/jinhua_jilab_project/data/DNA_Amplicon/a3028/Sample_SQ23040124-YJH-cas9-14-YJH-cas9-14/SQ23040124-YJH-cas9-14-YJH-cas9-14_combined_{}.fastq.gz: Processed 43000000 reads in 454.5590589046478 seconds\n",
      "/syn1/liangzhen/jinhua_jilab_project/data/DNA_Amplicon/a3028/Sample_SQ23040124-YJH-cas9-14-YJH-cas9-14/SQ23040124-YJH-cas9-14-YJH-cas9-14_combined_{}.fastq.gz: Processed 44000000 reads in 465.3912744522095 seconds\n",
      "/syn1/liangzhen/jinhua_jilab_project/data/DNA_Amplicon/a3028/Sample_SQ23040124-YJH-cas9-14-YJH-cas9-14/SQ23040124-YJH-cas9-14-YJH-cas9-14_combined_{}.fastq.gz: Processed 45000000 reads in 476.2361125946045 seconds\n",
      "/syn1/liangzhen/jinhua_jilab_project/data/DNA_Amplicon/a3028/Sample_SQ23040124-YJH-cas9-14-YJH-cas9-14/SQ23040124-YJH-cas9-14-YJH-cas9-14_combined_{}.fastq.gz: Processed 46000000 reads in 487.21040177345276 seconds\n",
      "/syn1/liangzhen/jinhua_jilab_project/data/DNA_Amplicon/a3028/Sample_SQ23040124-YJH-cas9-14-YJH-cas9-14/SQ23040124-YJH-cas9-14-YJH-cas9-14_combined_{}.fastq.gz: Processed 47000000 reads in 498.0740931034088 seconds\n",
      "/syn1/liangzhen/jinhua_jilab_project/data/DNA_Amplicon/a3028/Sample_SQ23040124-YJH-cas9-14-YJH-cas9-14/SQ23040124-YJH-cas9-14-YJH-cas9-14_combined_{}.fastq.gz: Processed 48000000 reads in 508.92193150520325 seconds\n",
      "/syn1/liangzhen/jinhua_jilab_project/data/DNA_Amplicon/a3028/Sample_SQ23040124-YJH-cas9-14-YJH-cas9-14/SQ23040124-YJH-cas9-14-YJH-cas9-14_combined_{}.fastq.gz: Processed 49000000 reads in 519.7933468818665 seconds\n",
      "/syn1/liangzhen/jinhua_jilab_project/data/DNA_Amplicon/a3028/Sample_SQ23040124-YJH-cas9-14-YJH-cas9-14/SQ23040124-YJH-cas9-14-YJH-cas9-14_combined_{}.fastq.gz: Processed 50000000 reads in 530.6172602176666 seconds\n",
      "/syn1/liangzhen/jinhua_jilab_project/data/DNA_Amplicon/a3028/Sample_SQ23040124-YJH-cas9-14-YJH-cas9-14/SQ23040124-YJH-cas9-14-YJH-cas9-14_combined_{}.fastq.gz: Processed 51000000 reads in 541.4236907958984 seconds\n",
      "/syn1/liangzhen/jinhua_jilab_project/data/DNA_Amplicon/a3028/Sample_SQ23040124-YJH-cas9-14-YJH-cas9-14/SQ23040124-YJH-cas9-14-YJH-cas9-14_combined_{}.fastq.gz: Processed 52000000 reads in 552.3189301490784 seconds\n",
      "/syn1/liangzhen/jinhua_jilab_project/data/DNA_Amplicon/a3028/Sample_SQ23040124-YJH-cas9-14-YJH-cas9-14/SQ23040124-YJH-cas9-14-YJH-cas9-14_combined_{}.fastq.gz: Processed 53000000 reads in 563.3599455356598 seconds\n",
      "/syn1/liangzhen/jinhua_jilab_project/data/DNA_Amplicon/a3028/Sample_SQ23040124-YJH-cas9-14-YJH-cas9-14/SQ23040124-YJH-cas9-14-YJH-cas9-14_combined_{}.fastq.gz: Processed 54000000 reads in 574.0712621212006 seconds\n",
      "/syn1/liangzhen/jinhua_jilab_project/data/DNA_Amplicon/a3028/Sample_SQ23040124-YJH-cas9-14-YJH-cas9-14/SQ23040124-YJH-cas9-14-YJH-cas9-14_combined_{}.fastq.gz: Processed 55000000 reads in 584.8795070648193 seconds\n",
      "/syn1/liangzhen/jinhua_jilab_project/data/DNA_Amplicon/a3028/Sample_SQ23040124-YJH-cas9-14-YJH-cas9-14/SQ23040124-YJH-cas9-14-YJH-cas9-14_combined_{}.fastq.gz: Processed 56000000 reads in 595.6126184463501 seconds\n",
      "/syn1/liangzhen/jinhua_jilab_project/data/DNA_Amplicon/a3028/Sample_SQ23040124-YJH-cas9-14-YJH-cas9-14/SQ23040124-YJH-cas9-14-YJH-cas9-14_combined_{}.fastq.gz: Processed 57000000 reads in 606.441605091095 seconds\n",
      "/syn1/liangzhen/jinhua_jilab_project/data/DNA_Amplicon/a3028/Sample_SQ23040124-YJH-cas9-14-YJH-cas9-14/SQ23040124-YJH-cas9-14-YJH-cas9-14_combined_{}.fastq.gz: Processed 58000000 reads in 617.3220889568329 seconds\n",
      "/syn1/liangzhen/jinhua_jilab_project/data/DNA_Amplicon/a3028/Sample_SQ23040124-YJH-cas9-14-YJH-cas9-14/SQ23040124-YJH-cas9-14-YJH-cas9-14_combined_{}.fastq.gz: Processed 59000000 reads in 628.2088553905487 seconds\n",
      "/syn1/liangzhen/jinhua_jilab_project/data/DNA_Amplicon/a3028/Sample_SQ23040124-YJH-cas9-14-YJH-cas9-14/SQ23040124-YJH-cas9-14-YJH-cas9-14_combined_{}.fastq.gz: Processed 60000000 reads in 638.9553213119507 seconds\n",
      "/syn1/liangzhen/jinhua_jilab_project/data/DNA_Amplicon/a3028/Sample_SQ23040124-YJH-cas9-14-YJH-cas9-14/SQ23040124-YJH-cas9-14-YJH-cas9-14_combined_{}.fastq.gz: Processed 61000000 reads in 649.8077130317688 seconds\n",
      "/syn1/liangzhen/jinhua_jilab_project/data/DNA_Amplicon/a3028/Sample_SQ23040124-YJH-cas9-14-YJH-cas9-14/SQ23040124-YJH-cas9-14-YJH-cas9-14_combined_{}.fastq.gz: Processed 62000000 reads in 660.6744446754456 seconds\n",
      "/syn1/liangzhen/jinhua_jilab_project/data/DNA_Amplicon/a3028/Sample_SQ23040124-YJH-cas9-14-YJH-cas9-14/SQ23040124-YJH-cas9-14-YJH-cas9-14_combined_{}.fastq.gz: Processed 63000000 reads in 671.4972507953644 seconds\n",
      "/syn1/liangzhen/jinhua_jilab_project/data/DNA_Amplicon/a3028/Sample_SQ23040124-YJH-cas9-14-YJH-cas9-14/SQ23040124-YJH-cas9-14-YJH-cas9-14_combined_{}.fastq.gz: Processed 64000000 reads in 682.4622180461884 seconds\n",
      "/syn1/liangzhen/jinhua_jilab_project/data/DNA_Amplicon/a3028/Sample_SQ23040124-YJH-cas9-14-YJH-cas9-14/SQ23040124-YJH-cas9-14-YJH-cas9-14_combined_{}.fastq.gz: Processed 65000000 reads in 693.2961192131042 seconds\n",
      "/syn1/liangzhen/jinhua_jilab_project/data/DNA_Amplicon/a3028/Sample_SQ23040124-YJH-cas9-14-YJH-cas9-14/SQ23040124-YJH-cas9-14-YJH-cas9-14_combined_{}.fastq.gz: Processed 66000000 reads in 704.006245136261 seconds\n",
      "/syn1/liangzhen/jinhua_jilab_project/data/DNA_Amplicon/a3028/Sample_SQ23040124-YJH-cas9-14-YJH-cas9-14/SQ23040124-YJH-cas9-14-YJH-cas9-14_combined_{}.fastq.gz: Processed 67000000 reads in 714.7950961589813 seconds\n",
      "/syn1/liangzhen/jinhua_jilab_project/data/DNA_Amplicon/a3028/Sample_SQ23040124-YJH-cas9-14-YJH-cas9-14/SQ23040124-YJH-cas9-14-YJH-cas9-14_combined_{}.fastq.gz: Processed 68000000 reads in 725.5715420246124 seconds\n",
      "/syn1/liangzhen/jinhua_jilab_project/data/DNA_Amplicon/a3028/Sample_SQ23040124-YJH-cas9-14-YJH-cas9-14/SQ23040124-YJH-cas9-14-YJH-cas9-14_combined_{}.fastq.gz: Processed 69000000 reads in 736.5034086704254 seconds\n",
      "/syn1/liangzhen/jinhua_jilab_project/data/DNA_Amplicon/a3028/Sample_SQ23040124-YJH-cas9-14-YJH-cas9-14/SQ23040124-YJH-cas9-14-YJH-cas9-14_combined_{}.fastq.gz: Processed 70000000 reads in 747.4203321933746 seconds\n",
      "/syn1/liangzhen/jinhua_jilab_project/data/DNA_Amplicon/a3028/Sample_SQ23040124-YJH-cas9-14-YJH-cas9-14/SQ23040124-YJH-cas9-14-YJH-cas9-14_combined_{}.fastq.gz: Processed 71000000 reads in 758.3328049182892 seconds\n",
      "/syn1/liangzhen/jinhua_jilab_project/data/DNA_Amplicon/a3028/Sample_SQ23040124-YJH-cas9-14-YJH-cas9-14/SQ23040124-YJH-cas9-14-YJH-cas9-14_combined_{}.fastq.gz: Processed 72000000 reads in 769.2045397758484 seconds\n",
      "/syn1/liangzhen/jinhua_jilab_project/data/DNA_Amplicon/a3028/Sample_SQ23040124-YJH-cas9-14-YJH-cas9-14/SQ23040124-YJH-cas9-14-YJH-cas9-14_combined_{}.fastq.gz: Processed 73000000 reads in 780.1256012916565 seconds\n",
      "/syn1/liangzhen/jinhua_jilab_project/data/DNA_Amplicon/a3028/Sample_SQ23040124-YJH-cas9-14-YJH-cas9-14/SQ23040124-YJH-cas9-14-YJH-cas9-14_combined_{}.fastq.gz: Processed 74000000 reads in 791.0560789108276 seconds\n",
      "/syn1/liangzhen/jinhua_jilab_project/data/DNA_Amplicon/a3028/Sample_SQ23040124-YJH-cas9-14-YJH-cas9-14/SQ23040124-YJH-cas9-14-YJH-cas9-14_combined_{}.fastq.gz: Processed 75000000 reads in 802.1491050720215 seconds\n",
      "/syn1/liangzhen/jinhua_jilab_project/data/DNA_Amplicon/a3028/Sample_SQ23040124-YJH-cas9-14-YJH-cas9-14/SQ23040124-YJH-cas9-14-YJH-cas9-14_combined_{}.fastq.gz: Processed 76000000 reads in 813.046555519104 seconds\n",
      "/syn1/liangzhen/jinhua_jilab_project/data/DNA_Amplicon/a3028/Sample_SQ23040124-YJH-cas9-14-YJH-cas9-14/SQ23040124-YJH-cas9-14-YJH-cas9-14_combined_{}.fastq.gz: Processed 77000000 reads in 823.876704454422 seconds\n",
      "/syn1/liangzhen/jinhua_jilab_project/data/DNA_Amplicon/a3028/Sample_SQ23040124-YJH-cas9-14-YJH-cas9-14/SQ23040124-YJH-cas9-14-YJH-cas9-14_combined_{}.fastq.gz: Processed 78000000 reads in 834.5919046401978 seconds\n"
     ]
    },
    {
     "name": "stdout",
     "output_type": "stream",
     "text": [
      "/syn1/liangzhen/jinhua_jilab_project/data/DNA_Amplicon/a3028/Sample_SQ23040124-YJH-cas9-14-YJH-cas9-14/SQ23040124-YJH-cas9-14-YJH-cas9-14_combined_{}.fastq.gz: Processed 79000000 reads in 845.4850544929504 seconds\n",
      "/syn1/liangzhen/jinhua_jilab_project/data/DNA_Amplicon/a3028/Sample_SQ23040124-YJH-cas9-14-YJH-cas9-14/SQ23040124-YJH-cas9-14-YJH-cas9-14_combined_{}.fastq.gz: Processed 80000000 reads in 856.264924287796 seconds\n",
      "/syn1/liangzhen/jinhua_jilab_project/data/DNA_Amplicon/a3028/s2164g01077_MCS-20231230-L-04-2024-01-021720/Sample_SQ23071627-YJH-cas9-36-YJH-cas9-36/SQ23071627-YJH-cas9-36-YJH-cas9-36_combined_{}.fastq.gz: Processed 1000000 reads in 10.939930438995361 seconds\n",
      "/syn1/liangzhen/jinhua_jilab_project/data/DNA_Amplicon/a3028/s2164g01077_MCS-20231230-L-04-2024-01-021720/Sample_SQ23071627-YJH-cas9-36-YJH-cas9-36/SQ23071627-YJH-cas9-36-YJH-cas9-36_combined_{}.fastq.gz: Processed 2000000 reads in 21.955224990844727 seconds\n",
      "/syn1/liangzhen/jinhua_jilab_project/data/DNA_Amplicon/a3028/s2164g01077_MCS-20231230-L-04-2024-01-021720/Sample_SQ23071627-YJH-cas9-36-YJH-cas9-36/SQ23071627-YJH-cas9-36-YJH-cas9-36_combined_{}.fastq.gz: Processed 3000000 reads in 32.94205093383789 seconds\n",
      "/syn1/liangzhen/jinhua_jilab_project/data/DNA_Amplicon/a3028/s2164g01077_MCS-20231230-L-04-2024-01-021720/Sample_SQ23071627-YJH-cas9-36-YJH-cas9-36/SQ23071627-YJH-cas9-36-YJH-cas9-36_combined_{}.fastq.gz: Processed 4000000 reads in 43.961424350738525 seconds\n",
      "/syn1/liangzhen/jinhua_jilab_project/data/DNA_Amplicon/a3028/s2164g01077_MCS-20231230-L-04-2024-01-021720/Sample_SQ23071627-YJH-cas9-36-YJH-cas9-36/SQ23071627-YJH-cas9-36-YJH-cas9-36_combined_{}.fastq.gz: Processed 5000000 reads in 55.07506513595581 seconds\n",
      "/syn1/liangzhen/jinhua_jilab_project/data/DNA_Amplicon/a3028/s2164g01077_MCS-20231230-L-04-2024-01-021720/Sample_SQ23071627-YJH-cas9-36-YJH-cas9-36/SQ23071627-YJH-cas9-36-YJH-cas9-36_combined_{}.fastq.gz: Processed 6000000 reads in 66.39326643943787 seconds\n",
      "/syn1/liangzhen/jinhua_jilab_project/data/DNA_Amplicon/a3028/s2164g01077_MCS-20231230-L-04-2024-01-021720/Sample_SQ23071627-YJH-cas9-36-YJH-cas9-36/SQ23071627-YJH-cas9-36-YJH-cas9-36_combined_{}.fastq.gz: Processed 7000000 reads in 77.5563006401062 seconds\n",
      "/syn1/liangzhen/jinhua_jilab_project/data/DNA_Amplicon/a3028/s2164g01077_MCS-20231230-L-04-2024-01-021720/Sample_SQ23071627-YJH-cas9-36-YJH-cas9-36/SQ23071627-YJH-cas9-36-YJH-cas9-36_combined_{}.fastq.gz: Processed 8000000 reads in 88.5952730178833 seconds\n",
      "/syn1/liangzhen/jinhua_jilab_project/data/DNA_Amplicon/a3028/s2164g01077_MCS-20231230-L-04-2024-01-021720/Sample_SQ23071627-YJH-cas9-36-YJH-cas9-36/SQ23071627-YJH-cas9-36-YJH-cas9-36_combined_{}.fastq.gz: Processed 9000000 reads in 99.69611477851868 seconds\n",
      "/syn1/liangzhen/jinhua_jilab_project/data/DNA_Amplicon/a3028/s2164g01077_MCS-20231230-L-04-2024-01-021720/Sample_SQ23071627-YJH-cas9-36-YJH-cas9-36/SQ23071627-YJH-cas9-36-YJH-cas9-36_combined_{}.fastq.gz: Processed 10000000 reads in 110.78428888320923 seconds\n",
      "/syn1/liangzhen/jinhua_jilab_project/data/DNA_Amplicon/a3028/s2164g01077_MCS-20231230-L-04-2024-01-021720/Sample_SQ23071627-YJH-cas9-36-YJH-cas9-36/SQ23071627-YJH-cas9-36-YJH-cas9-36_combined_{}.fastq.gz: Processed 11000000 reads in 121.8164701461792 seconds\n",
      "/syn1/liangzhen/jinhua_jilab_project/data/DNA_Amplicon/a3028/s2164g01077_MCS-20231230-L-04-2024-01-021720/Sample_SQ23071627-YJH-cas9-36-YJH-cas9-36/SQ23071627-YJH-cas9-36-YJH-cas9-36_combined_{}.fastq.gz: Processed 12000000 reads in 132.89409708976746 seconds\n",
      "/syn1/liangzhen/jinhua_jilab_project/data/DNA_Amplicon/a3028/s2164g01077_MCS-20231230-L-04-2024-01-021720/Sample_SQ23071627-YJH-cas9-36-YJH-cas9-36/SQ23071627-YJH-cas9-36-YJH-cas9-36_combined_{}.fastq.gz: Processed 13000000 reads in 143.84967303276062 seconds\n",
      "/syn1/liangzhen/jinhua_jilab_project/data/DNA_Amplicon/a3028/s2164g01077_MCS-20231230-L-04-2024-01-021720/Sample_SQ23071627-YJH-cas9-36-YJH-cas9-36/SQ23071627-YJH-cas9-36-YJH-cas9-36_combined_{}.fastq.gz: Processed 14000000 reads in 154.82121062278748 seconds\n",
      "/syn1/liangzhen/jinhua_jilab_project/data/DNA_Amplicon/a3028/s2164g01077_MCS-20231230-L-04-2024-01-021720/Sample_SQ23071627-YJH-cas9-36-YJH-cas9-36/SQ23071627-YJH-cas9-36-YJH-cas9-36_combined_{}.fastq.gz: Processed 15000000 reads in 165.87687849998474 seconds\n",
      "/syn1/liangzhen/jinhua_jilab_project/data/DNA_Amplicon/a3028/s2164g01077_MCS-20231230-L-04-2024-01-021720/Sample_SQ23071627-YJH-cas9-36-YJH-cas9-36/SQ23071627-YJH-cas9-36-YJH-cas9-36_combined_{}.fastq.gz: Processed 16000000 reads in 176.91778874397278 seconds\n",
      "/syn1/liangzhen/jinhua_jilab_project/data/DNA_Amplicon/a3028/s2164g01077_MCS-20231230-L-04-2024-01-021720/Sample_SQ23071627-YJH-cas9-36-YJH-cas9-36/SQ23071627-YJH-cas9-36-YJH-cas9-36_combined_{}.fastq.gz: Processed 17000000 reads in 188.07822799682617 seconds\n",
      "/syn1/liangzhen/jinhua_jilab_project/data/DNA_Amplicon/a3028/s2164g01077_MCS-20231230-L-04-2024-01-021720/Sample_SQ23071627-YJH-cas9-36-YJH-cas9-36/SQ23071627-YJH-cas9-36-YJH-cas9-36_combined_{}.fastq.gz: Processed 18000000 reads in 199.07429337501526 seconds\n",
      "/syn1/liangzhen/jinhua_jilab_project/data/DNA_Amplicon/a3028/s2164g01077_MCS-20231230-L-04-2024-01-021720/Sample_SQ23071627-YJH-cas9-36-YJH-cas9-36/SQ23071627-YJH-cas9-36-YJH-cas9-36_combined_{}.fastq.gz: Processed 19000000 reads in 210.07948875427246 seconds\n",
      "/syn1/liangzhen/jinhua_jilab_project/data/DNA_Amplicon/a3028/s2164g01077_MCS-20231230-L-04-2024-01-021720/Sample_SQ23071627-YJH-cas9-36-YJH-cas9-36/SQ23071627-YJH-cas9-36-YJH-cas9-36_combined_{}.fastq.gz: Processed 20000000 reads in 221.02933073043823 seconds\n",
      "/syn1/liangzhen/jinhua_jilab_project/data/DNA_Amplicon/a3028/s2164g01077_MCS-20231230-L-04-2024-01-021720/Sample_SQ23071627-YJH-cas9-36-YJH-cas9-36/SQ23071627-YJH-cas9-36-YJH-cas9-36_combined_{}.fastq.gz: Processed 21000000 reads in 231.88564443588257 seconds\n",
      "/syn1/liangzhen/jinhua_jilab_project/data/DNA_Amplicon/a3028/s2164g01077_MCS-20231230-L-04-2024-01-021720/Sample_SQ23071627-YJH-cas9-36-YJH-cas9-36/SQ23071627-YJH-cas9-36-YJH-cas9-36_combined_{}.fastq.gz: Processed 22000000 reads in 242.7440047264099 seconds\n",
      "/syn1/liangzhen/jinhua_jilab_project/data/DNA_Amplicon/a3028/s2164g01077_MCS-20231230-L-04-2024-01-021720/Sample_SQ23071627-YJH-cas9-36-YJH-cas9-36/SQ23071627-YJH-cas9-36-YJH-cas9-36_combined_{}.fastq.gz: Processed 23000000 reads in 253.37070631980896 seconds\n",
      "/syn1/liangzhen/jinhua_jilab_project/data/DNA_Amplicon/a3028/s2164g01077_MCS-20231230-L-04-2024-01-021720/Sample_SQ23071627-YJH-cas9-36-YJH-cas9-36/SQ23071627-YJH-cas9-36-YJH-cas9-36_combined_{}.fastq.gz: Processed 24000000 reads in 264.1073749065399 seconds\n",
      "/syn1/liangzhen/jinhua_jilab_project/data/DNA_Amplicon/a3028/s2164g01077_MCS-20231230-L-04-2024-01-021720/Sample_SQ23071627-YJH-cas9-36-YJH-cas9-36/SQ23071627-YJH-cas9-36-YJH-cas9-36_combined_{}.fastq.gz: Processed 25000000 reads in 274.89061069488525 seconds\n",
      "/syn1/liangzhen/jinhua_jilab_project/data/DNA_Amplicon/a3028/s2164g01077_MCS-20231230-L-04-2024-01-021720/Sample_SQ23071627-YJH-cas9-36-YJH-cas9-36/SQ23071627-YJH-cas9-36-YJH-cas9-36_combined_{}.fastq.gz: Processed 26000000 reads in 285.74733781814575 seconds\n",
      "/syn1/liangzhen/jinhua_jilab_project/data/DNA_Amplicon/a3028/s2164g01077_MCS-20231230-L-04-2024-01-021720/Sample_SQ23071627-YJH-cas9-36-YJH-cas9-36/SQ23071627-YJH-cas9-36-YJH-cas9-36_combined_{}.fastq.gz: Processed 27000000 reads in 296.5348563194275 seconds\n",
      "/syn1/liangzhen/jinhua_jilab_project/data/DNA_Amplicon/a3028/s2164g01077_MCS-20231230-L-04-2024-01-021720/Sample_SQ23071627-YJH-cas9-36-YJH-cas9-36/SQ23071627-YJH-cas9-36-YJH-cas9-36_combined_{}.fastq.gz: Processed 28000000 reads in 307.510769367218 seconds\n",
      "/syn1/liangzhen/jinhua_jilab_project/data/DNA_Amplicon/a3028/s2164g01077_MCS-20231230-L-04-2024-01-021720/Sample_SQ23071627-YJH-cas9-36-YJH-cas9-36/SQ23071627-YJH-cas9-36-YJH-cas9-36_combined_{}.fastq.gz: Processed 29000000 reads in 318.3217213153839 seconds\n",
      "/syn1/liangzhen/jinhua_jilab_project/data/DNA_Amplicon/a3028/s2164g01077_MCS-20231230-L-04-2024-01-021720/Sample_SQ23071627-YJH-cas9-36-YJH-cas9-36/SQ23071627-YJH-cas9-36-YJH-cas9-36_combined_{}.fastq.gz: Processed 30000000 reads in 329.06066703796387 seconds\n"
     ]
    },
    {
     "name": "stdout",
     "output_type": "stream",
     "text": [
      "/syn1/liangzhen/jinhua_jilab_project/data/DNA_Amplicon/a3028/s2164g01077_MCS-20231230-L-04-2024-01-021720/Sample_SQ23071627-YJH-cas9-36-YJH-cas9-36/SQ23071627-YJH-cas9-36-YJH-cas9-36_combined_{}.fastq.gz: Processed 31000000 reads in 339.9524166584015 seconds\n",
      "/syn1/liangzhen/jinhua_jilab_project/data/DNA_Amplicon/a3028/s2164g01077_MCS-20231230-L-04-2024-01-021720/Sample_SQ23071627-YJH-cas9-36-YJH-cas9-36/SQ23071627-YJH-cas9-36-YJH-cas9-36_combined_{}.fastq.gz: Processed 32000000 reads in 350.7847716808319 seconds\n",
      "/syn1/liangzhen/jinhua_jilab_project/data/DNA_Amplicon/a3028/s2164g01077_MCS-20231230-L-04-2024-01-021720/Sample_SQ23071627-YJH-cas9-36-YJH-cas9-36/SQ23071627-YJH-cas9-36-YJH-cas9-36_combined_{}.fastq.gz: Processed 33000000 reads in 361.53824281692505 seconds\n",
      "/syn1/liangzhen/jinhua_jilab_project/data/DNA_Amplicon/a3028/Sample_SQ24003922-YJH-cas9-50-YJH-cas9-50/SQ24003922-YJH-cas9-50-YJH-cas9-50_combined_{}.fastq.gz: Processed 1000000 reads in 10.631780862808228 seconds\n",
      "/syn1/liangzhen/jinhua_jilab_project/data/DNA_Amplicon/a3028/Sample_SQ24003922-YJH-cas9-50-YJH-cas9-50/SQ24003922-YJH-cas9-50-YJH-cas9-50_combined_{}.fastq.gz: Processed 2000000 reads in 21.239784240722656 seconds\n",
      "/syn1/liangzhen/jinhua_jilab_project/data/DNA_Amplicon/a3028/Sample_SQ24003922-YJH-cas9-50-YJH-cas9-50/SQ24003922-YJH-cas9-50-YJH-cas9-50_combined_{}.fastq.gz: Processed 3000000 reads in 31.932334661483765 seconds\n",
      "/syn1/liangzhen/jinhua_jilab_project/data/DNA_Amplicon/a3028/Sample_SQ24003922-YJH-cas9-50-YJH-cas9-50/SQ24003922-YJH-cas9-50-YJH-cas9-50_combined_{}.fastq.gz: Processed 4000000 reads in 43.2338764667511 seconds\n",
      "/syn1/liangzhen/jinhua_jilab_project/data/DNA_Amplicon/a3028/Sample_SQ24003922-YJH-cas9-50-YJH-cas9-50/SQ24003922-YJH-cas9-50-YJH-cas9-50_combined_{}.fastq.gz: Processed 5000000 reads in 54.68099927902222 seconds\n",
      "/syn1/liangzhen/jinhua_jilab_project/data/DNA_Amplicon/a3028/Sample_SQ24003922-YJH-cas9-50-YJH-cas9-50/SQ24003922-YJH-cas9-50-YJH-cas9-50_combined_{}.fastq.gz: Processed 6000000 reads in 66.18869304656982 seconds\n",
      "/syn1/liangzhen/jinhua_jilab_project/data/DNA_Amplicon/a3028/Sample_SQ24003922-YJH-cas9-50-YJH-cas9-50/SQ24003922-YJH-cas9-50-YJH-cas9-50_combined_{}.fastq.gz: Processed 7000000 reads in 77.43434357643127 seconds\n",
      "/syn1/liangzhen/jinhua_jilab_project/data/DNA_Amplicon/a3028/Sample_SQ24003922-YJH-cas9-50-YJH-cas9-50/SQ24003922-YJH-cas9-50-YJH-cas9-50_combined_{}.fastq.gz: Processed 8000000 reads in 89.06249117851257 seconds\n",
      "/syn1/liangzhen/jinhua_jilab_project/data/DNA_Amplicon/a3028/Sample_SQ24003922-YJH-cas9-50-YJH-cas9-50/SQ24003922-YJH-cas9-50-YJH-cas9-50_combined_{}.fastq.gz: Processed 9000000 reads in 100.0564637184143 seconds\n",
      "/syn1/liangzhen/jinhua_jilab_project/data/DNA_Amplicon/a3028/Sample_SQ24003922-YJH-cas9-50-YJH-cas9-50/SQ24003922-YJH-cas9-50-YJH-cas9-50_combined_{}.fastq.gz: Processed 10000000 reads in 111.0548107624054 seconds\n",
      "/syn1/liangzhen/jinhua_jilab_project/data/DNA_Amplicon/a3028/Sample_SQ24003922-YJH-cas9-50-YJH-cas9-50/SQ24003922-YJH-cas9-50-YJH-cas9-50_combined_{}.fastq.gz: Processed 11000000 reads in 121.94995927810669 seconds\n",
      "/syn1/liangzhen/jinhua_jilab_project/data/DNA_Amplicon/a3028/Sample_SQ24003922-YJH-cas9-50-YJH-cas9-50/SQ24003922-YJH-cas9-50-YJH-cas9-50_combined_{}.fastq.gz: Processed 12000000 reads in 132.8910665512085 seconds\n",
      "/syn1/liangzhen/jinhua_jilab_project/data/DNA_Amplicon/a3028/Sample_SQ24003922-YJH-cas9-50-YJH-cas9-50/SQ24003922-YJH-cas9-50-YJH-cas9-50_combined_{}.fastq.gz: Processed 13000000 reads in 143.66120839118958 seconds\n",
      "/syn1/liangzhen/jinhua_jilab_project/data/DNA_Amplicon/a3028/Sample_SQ24003922-YJH-cas9-50-YJH-cas9-50/SQ24003922-YJH-cas9-50-YJH-cas9-50_combined_{}.fastq.gz: Processed 14000000 reads in 154.60945415496826 seconds\n",
      "/syn1/liangzhen/jinhua_jilab_project/data/DNA_Amplicon/a3028/Sample_SQ24003922-YJH-cas9-50-YJH-cas9-50/SQ24003922-YJH-cas9-50-YJH-cas9-50_combined_{}.fastq.gz: Processed 15000000 reads in 165.47928500175476 seconds\n",
      "/syn1/liangzhen/jinhua_jilab_project/data/DNA_Amplicon/a3028/Sample_SQ24003922-YJH-cas9-50-YJH-cas9-50/SQ24003922-YJH-cas9-50-YJH-cas9-50_combined_{}.fastq.gz: Processed 16000000 reads in 176.4019591808319 seconds\n",
      "/syn1/liangzhen/jinhua_jilab_project/data/DNA_Amplicon/a3028/Sample_SQ24003922-YJH-cas9-50-YJH-cas9-50/SQ24003922-YJH-cas9-50-YJH-cas9-50_combined_{}.fastq.gz: Processed 17000000 reads in 187.2403905391693 seconds\n",
      "/syn1/liangzhen/jinhua_jilab_project/data/DNA_Amplicon/a3028/Sample_SQ24003922-YJH-cas9-50-YJH-cas9-50/SQ24003922-YJH-cas9-50-YJH-cas9-50_combined_{}.fastq.gz: Processed 18000000 reads in 197.9919843673706 seconds\n",
      "/syn1/liangzhen/jinhua_jilab_project/data/DNA_Amplicon/a3028/Sample_SQ24003922-YJH-cas9-50-YJH-cas9-50/SQ24003922-YJH-cas9-50-YJH-cas9-50_combined_{}.fastq.gz: Processed 19000000 reads in 208.79649472236633 seconds\n",
      "/syn1/liangzhen/jinhua_jilab_project/data/DNA_Amplicon/a3028/Sample_SQ24003922-YJH-cas9-50-YJH-cas9-50/SQ24003922-YJH-cas9-50-YJH-cas9-50_combined_{}.fastq.gz: Processed 20000000 reads in 219.67502784729004 seconds\n",
      "/syn1/liangzhen/jinhua_jilab_project/data/DNA_Amplicon/a3028/Sample_SQ24003922-YJH-cas9-50-YJH-cas9-50/SQ24003922-YJH-cas9-50-YJH-cas9-50_combined_{}.fastq.gz: Processed 21000000 reads in 230.53134322166443 seconds\n",
      "/syn1/liangzhen/jinhua_jilab_project/data/DNA_Amplicon/a3028/Sample_SQ24003922-YJH-cas9-50-YJH-cas9-50/SQ24003922-YJH-cas9-50-YJH-cas9-50_combined_{}.fastq.gz: Processed 22000000 reads in 241.31124234199524 seconds\n",
      "/syn1/liangzhen/jinhua_jilab_project/data/DNA_Amplicon/a3028/Sample_SQ24003922-YJH-cas9-50-YJH-cas9-50/SQ24003922-YJH-cas9-50-YJH-cas9-50_combined_{}.fastq.gz: Processed 23000000 reads in 252.34038519859314 seconds\n",
      "/syn1/liangzhen/jinhua_jilab_project/data/DNA_Amplicon/a3028/Sample_SQ24003922-YJH-cas9-50-YJH-cas9-50/SQ24003922-YJH-cas9-50-YJH-cas9-50_combined_{}.fastq.gz: Processed 24000000 reads in 263.4163224697113 seconds\n",
      "/syn1/liangzhen/jinhua_jilab_project/data/DNA_Amplicon/a3028/Sample_SQ24003922-YJH-cas9-50-YJH-cas9-50/SQ24003922-YJH-cas9-50-YJH-cas9-50_combined_{}.fastq.gz: Processed 25000000 reads in 274.45026564598083 seconds\n",
      "/syn1/liangzhen/jinhua_jilab_project/data/DNA_Amplicon/a3028/Sample_SQ24003922-YJH-cas9-50-YJH-cas9-50/SQ24003922-YJH-cas9-50-YJH-cas9-50_combined_{}.fastq.gz: Processed 26000000 reads in 285.54023241996765 seconds\n",
      "/syn1/liangzhen/jinhua_jilab_project/data/DNA_Amplicon/a3028/Sample_SQ24003922-YJH-cas9-50-YJH-cas9-50/SQ24003922-YJH-cas9-50-YJH-cas9-50_combined_{}.fastq.gz: Processed 27000000 reads in 296.7543752193451 seconds\n",
      "/syn1/liangzhen/jinhua_jilab_project/data/DNA_Amplicon/a3028/Sample_SQ24003922-YJH-cas9-50-YJH-cas9-50/SQ24003922-YJH-cas9-50-YJH-cas9-50_combined_{}.fastq.gz: Processed 28000000 reads in 307.8201379776001 seconds\n",
      "/syn1/liangzhen/jinhua_jilab_project/data/DNA_Amplicon/a3028/Sample_SQ24003922-YJH-cas9-50-YJH-cas9-50/SQ24003922-YJH-cas9-50-YJH-cas9-50_combined_{}.fastq.gz: Processed 29000000 reads in 318.78186988830566 seconds\n",
      "/syn1/liangzhen/jinhua_jilab_project/data/DNA_Amplicon/a3028/Sample_SQ24003922-YJH-cas9-50-YJH-cas9-50/SQ24003922-YJH-cas9-50-YJH-cas9-50_combined_{}.fastq.gz: Processed 30000000 reads in 329.75633573532104 seconds\n",
      "/syn1/liangzhen/jinhua_jilab_project/data/DNA_Amplicon/a3028/Sample_SQ24003922-YJH-cas9-50-YJH-cas9-50/SQ24003922-YJH-cas9-50-YJH-cas9-50_combined_{}.fastq.gz: Processed 31000000 reads in 340.7603280544281 seconds\n",
      "/syn1/liangzhen/jinhua_jilab_project/data/DNA_Amplicon/a3028/Sample_SQ24003922-YJH-cas9-50-YJH-cas9-50/SQ24003922-YJH-cas9-50-YJH-cas9-50_combined_{}.fastq.gz: Processed 32000000 reads in 351.7842791080475 seconds\n",
      "/syn1/liangzhen/jinhua_jilab_project/data/DNA_Amplicon/a3028/Sample_SQ24003922-YJH-cas9-50-YJH-cas9-50/SQ24003922-YJH-cas9-50-YJH-cas9-50_combined_{}.fastq.gz: Processed 33000000 reads in 362.80588269233704 seconds\n",
      "/syn1/liangzhen/jinhua_jilab_project/data/DNA_Amplicon/a3028/Sample_SQ24003922-YJH-cas9-50-YJH-cas9-50/SQ24003922-YJH-cas9-50-YJH-cas9-50_combined_{}.fastq.gz: Processed 34000000 reads in 373.85832357406616 seconds\n",
      "/syn1/liangzhen/jinhua_jilab_project/data/DNA_Amplicon/a3028/Sample_SQ24003922-YJH-cas9-50-YJH-cas9-50/SQ24003922-YJH-cas9-50-YJH-cas9-50_combined_{}.fastq.gz: Processed 35000000 reads in 384.8507354259491 seconds\n"
     ]
    }
   ],
   "source": [
    "innerBC_reads_count = {}\n",
    "innerBC_reads_count['r1'] = {}\n",
    "innerBC_reads_count['r2'] = {}\n",
    "\n",
    "for sample,paths in sample_paths.items():\n",
    "    for fastq_path in paths['fastq_paths']:\n",
    "        R1 = gzip.open(fastq_path.format('R1'))\n",
    "        R2 = gzip.open(fastq_path.format('R2'))\n",
    "        counter = 0\n",
    "        start_time = time.time()\n",
    "        while True:\n",
    "            counter += 1\n",
    "            if counter % 1000000 == 0: print(fastq_path+ ': Processed {} reads in {} seconds'.format(counter, time.time()-start_time))\n",
    "            try:\n",
    "                r1_line = R1.readline().decode('utf-8')\n",
    "                r2_line = R2.readline().decode('utf-8')\n",
    "            except:\n",
    "                print('ERROR extracting {}'.format(fastq_path))\n",
    "                break\n",
    "            if r2_line == '' : break\n",
    "            if r2_line[0] == '@': \n",
    "                read2_name = r2_line\n",
    "                read1_name = r1_line\n",
    "                \n",
    "                read1_seq = R1.readline().decode('utf-8')\n",
    "                read2_seq = R2.readline().decode('utf-8')\n",
    "                \n",
    "                if get_innerBC(read2_seq)!=None:\n",
    "                    innerBC = get_innerBC(read2_seq)\n",
    "                    read2_QI = R2.readline().decode('utf-8')\n",
    "                    read2_baseQ = R2.readline().decode('utf-8')\n",
    "                    read2 = [read2_name , read2_seq , read2_QI , read2_baseQ]\n",
    "\n",
    "                    read1_QI = R1.readline().decode('utf-8')\n",
    "                    read1_baseQ = R1.readline().decode('utf-8')\n",
    "                    read1 = [read1_name , read1_seq , read1_QI , read1_baseQ]\n",
    "\n",
    "                    #print(read1)\n",
    "                    \n",
    "                    if innerBC in innerBC_reads_count['r1']:\n",
    "                        innerBC_reads_count['r1'][innerBC] += read1\n",
    "                        innerBC_reads_count['r2'][innerBC] += read2\n",
    "                    else:\n",
    "                        innerBC_reads_count['r1'][innerBC] = read1\n",
    "                        innerBC_reads_count['r2'][innerBC] = read2\n",
    "                else:\n",
    "                    read2_QI = R2.readline().decode('utf-8')\n",
    "                    read2_baseQ = R2.readline().decode('utf-8')\n",
    "                    read2 = [read2_name , read2_seq , read2_QI , read2_baseQ]\n",
    "                    \n",
    "                    read1_QI = R1.readline().decode('utf-8')\n",
    "                    read1_baseQ = R1.readline().decode('utf-8')\n",
    "                    read1 = [read1_name , read1_seq , read1_QI , read1_baseQ]\n",
    "\n",
    "                    if 'unclassified' in innerBC_reads_count['r1']:\n",
    "                        innerBC_reads_count['r1']['unclassified'] += read1\n",
    "                        innerBC_reads_count['r2']['unclassified'] += read2\n",
    "                    else:\n",
    "                        innerBC_reads_count['r1']['unclassified'] = read1\n",
    "                        innerBC_reads_count['r2']['unclassified'] = read2\n",
    "                #break     "
   ]
  },
  {
   "cell_type": "code",
   "execution_count": 5,
   "id": "4161d591",
   "metadata": {},
   "outputs": [],
   "source": [
    "os.system('rm /syn1/liangzhen/jinhua_jilab_project/result/DNA_Amplicon/T1/a3028/fastq/*.fq.gz')\n",
    "for fq,pooled_reads in innerBC_reads_count.items():\n",
    "    for innerBC,reads_set in pooled_reads.items():\n",
    "        #print(innerBC+fq)\n",
    "        with open('/syn1/liangzhen/jinhua_jilab_project/result/DNA_Amplicon/T1/a3028/fastq'+'/'+innerBC+'_'+fq+'.fq','w+') as f:\n",
    "            f.writelines(reads_set)"
   ]
  },
  {
   "cell_type": "code",
   "execution_count": 6,
   "id": "4fa61875",
   "metadata": {},
   "outputs": [
    {
     "data": {
      "text/plain": [
       "0"
      ]
     },
     "execution_count": 6,
     "metadata": {},
     "output_type": "execute_result"
    }
   ],
   "source": [
    "os.system('ls /syn1/liangzhen/jinhua_jilab_project/result/DNA_Amplicon/T1/a3028/fastq/*.fq|xargs -I {} gzip {}')"
   ]
  },
  {
   "cell_type": "code",
   "execution_count": 7,
   "id": "6f0b1903",
   "metadata": {},
   "outputs": [
    {
     "name": "stdout",
     "output_type": "stream",
     "text": [
      "finished\n"
     ]
    }
   ],
   "source": [
    "print('finished')"
   ]
  },
  {
   "cell_type": "code",
   "execution_count": null,
   "id": "f6db370a",
   "metadata": {},
   "outputs": [],
   "source": []
  }
 ],
 "metadata": {
  "kernelspec": {
   "display_name": "cassiopeia2",
   "language": "python",
   "name": "cassiopeia2"
  },
  "language_info": {
   "codemirror_mode": {
    "name": "ipython",
    "version": 3
   },
   "file_extension": ".py",
   "mimetype": "text/x-python",
   "name": "python",
   "nbconvert_exporter": "python",
   "pygments_lexer": "ipython3",
   "version": "3.8.18"
  },
  "toc": {
   "base_numbering": 1,
   "nav_menu": {},
   "number_sections": false,
   "sideBar": true,
   "skip_h1_title": false,
   "title_cell": "Table of Contents",
   "title_sidebar": "Contents",
   "toc_cell": false,
   "toc_position": {
    "height": "calc(100% - 180px)",
    "left": "10px",
    "top": "150px",
    "width": "256px"
   },
   "toc_section_display": true,
   "toc_window_display": true
  }
 },
 "nbformat": 4,
 "nbformat_minor": 5
}
