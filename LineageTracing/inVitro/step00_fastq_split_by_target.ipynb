{
 "cells": [
  {
   "cell_type": "code",
   "execution_count": null,
   "id": "4e0ba200",
   "metadata": {},
   "outputs": [],
   "source": []
  },
  {
   "cell_type": "markdown",
   "id": "c4bc9d19",
   "metadata": {},
   "source": [
    "# In vitro T1"
   ]
  },
  {
   "cell_type": "markdown",
   "id": "e1c8977b",
   "metadata": {},
   "source": [
    "## EPC cell line "
   ]
  },
  {
   "cell_type": "code",
   "execution_count": 1,
   "id": "ee08a432",
   "metadata": {},
   "outputs": [],
   "source": [
    "import gzip, time\n",
    "import numpy as np\n",
    "import matplotlib.pyplot as plt\n",
    "from collections import defaultdict\n",
    "import pandas as pd\n",
    "import seaborn as sns\n",
    "from Bio.Seq import Seq\n",
    "from collections import Counter\n",
    "import os"
   ]
  },
  {
   "cell_type": "code",
   "execution_count": 2,
   "id": "6c7dff13",
   "metadata": {},
   "outputs": [],
   "source": [
    "def get_innerBC(read_line,innerBC_ref):\n",
    "    innerBC = read_line[0:6]\n",
    "    num_Ns = sum([c=='N' for c in innerBC])\n",
    "    #innerBC_ref = ['GTAGTC']\n",
    "    if num_Ns > 1: return None \n",
    "    elif num_Ns == 1 and np.any([innerBC.replace('N',c) in innerBC_ref for c in 'ACTG']): \n",
    "        return [innerBC.replace('N',c) for c in 'ACTG' if innerBC.replace('N',c) in innerBC_ref ][0]\n",
    "    elif innerBC in innerBC_ref: return innerBC\n",
    "    else: return None\n",
    "    \n",
    "    \n",
    "def get_innerBC_reads_count(sample_paths,innerBC_ref):\n",
    "    innerBC_reads_count = {}\n",
    "    innerBC_reads_count['r1'] = {}\n",
    "    innerBC_reads_count['r2'] = {}\n",
    "\n",
    "    for sample,paths in sample_paths.items():\n",
    "        for fastq_path in paths['target_gene']:\n",
    "            R1 = gzip.open(fastq_path.format('R1'))\n",
    "            R2 = gzip.open(fastq_path.format('R2'))\n",
    "            counter = 0\n",
    "            start_time = time.time()\n",
    "            while True:\n",
    "                counter += 1\n",
    "                if counter % 1000000 == 0: print(fastq_path+ ': Processed {} reads in {} seconds'.format(counter, time.time()-start_time))\n",
    "                try:\n",
    "                    r1_line = R1.readline().decode('utf-8')\n",
    "                    r2_line = R2.readline().decode('utf-8')\n",
    "                except:\n",
    "                    print('ERROR extracting {}'.format(fastq_path))\n",
    "                    break\n",
    "                if r2_line == '' : break\n",
    "                if r2_line[0] == '@': \n",
    "                    read2_name = r2_line\n",
    "                    read1_name = r1_line\n",
    "\n",
    "                    read1_seq = R1.readline().decode('utf-8')\n",
    "                    read2_seq = R2.readline().decode('utf-8')\n",
    "\n",
    "                    if get_innerBC(read2_seq,innerBC_ref)!=None and get_innerBC(read1_seq,innerBC_ref)!=None and get_innerBC(read2_seq,innerBC_ref)==get_innerBC(read1_seq,innerBC_ref):\n",
    "                        innerBC = get_innerBC(read2_seq,innerBC_ref)\n",
    "                        read2_QI = R2.readline().decode('utf-8')\n",
    "                        read2_baseQ = R2.readline().decode('utf-8')\n",
    "                        read2 = [read2_name , read2_seq , read2_QI , read2_baseQ]\n",
    "\n",
    "                        read1_QI = R1.readline().decode('utf-8')\n",
    "                        read1_baseQ = R1.readline().decode('utf-8')\n",
    "                        read1 = [read1_name , read1_seq , read1_QI , read1_baseQ]\n",
    "\n",
    "                        #print(read1)\n",
    "\n",
    "                        if innerBC in innerBC_reads_count['r1']:\n",
    "                            innerBC_reads_count['r1'][innerBC] += read1\n",
    "                            innerBC_reads_count['r2'][innerBC] += read2\n",
    "                        else:\n",
    "                            innerBC_reads_count['r1'][innerBC] = read1\n",
    "                            innerBC_reads_count['r2'][innerBC] = read2\n",
    "\n",
    "                    else:\n",
    "                        read2_QI = R2.readline().decode('utf-8')\n",
    "                        read2_baseQ = R2.readline().decode('utf-8')\n",
    "                        read2 = [read2_name , read2_seq , read2_QI , read2_baseQ]\n",
    "\n",
    "                        read1_QI = R1.readline().decode('utf-8')\n",
    "                        read1_baseQ = R1.readline().decode('utf-8')\n",
    "                        read1 = [read1_name , read1_seq , read1_QI , read1_baseQ]\n",
    "\n",
    "                        if 'unclassified' in innerBC_reads_count['r1']:\n",
    "                            innerBC_reads_count['r1']['unclassified'] += read1\n",
    "                            innerBC_reads_count['r2']['unclassified'] += read2\n",
    "                        else:\n",
    "                            innerBC_reads_count['r1']['unclassified'] = read1\n",
    "                            innerBC_reads_count['r2']['unclassified'] = read2\n",
    "    \n",
    "    return innerBC_reads_count"
   ]
  },
  {
   "cell_type": "code",
   "execution_count": 26,
   "id": "375f5e66",
   "metadata": {},
   "outputs": [
    {
     "name": "stdout",
     "output_type": "stream",
     "text": [
      "/syn1/liangzhen/jinhua_jilab_project/data/DNA_Amplicon/plasmid/s2164g01113_MCS-20240328-L-04-2024-04-051621/Sample_SQ24024299-YJH-cas9-61-R701/SQ24024299-YJH-cas9-61-R701_combined_{}.fastq.gz: Processed 1000000 reads in 10.085916757583618 seconds\n",
      "/syn1/liangzhen/jinhua_jilab_project/data/DNA_Amplicon/plasmid/s2164g01113_MCS-20240328-L-04-2024-04-051621/Sample_SQ24024299-YJH-cas9-61-R701/SQ24024299-YJH-cas9-61-R701_combined_{}.fastq.gz: Processed 2000000 reads in 20.31579852104187 seconds\n",
      "/syn1/liangzhen/jinhua_jilab_project/data/DNA_Amplicon/plasmid/s2164g01113_MCS-20240328-L-04-2024-04-051621/Sample_SQ24024299-YJH-cas9-61-R701/SQ24024299-YJH-cas9-61-R701_combined_{}.fastq.gz: Processed 3000000 reads in 30.777148962020874 seconds\n",
      "/syn1/liangzhen/jinhua_jilab_project/data/DNA_Amplicon/plasmid/s2164g01113_MCS-20240328-L-04-2024-04-051621/Sample_SQ24024299-YJH-cas9-61-R701/SQ24024299-YJH-cas9-61-R701_combined_{}.fastq.gz: Processed 4000000 reads in 40.999396562576294 seconds\n"
     ]
    },
    {
     "name": "stderr",
     "output_type": "stream",
     "text": [
      "rm: cannot remove ‘/syn1/liangzhen/jinhua_jilab_project/result/DNA_Amplicon/T1_in_vitro/EPC/R701/*.fq.gz’: No such file or directory\n"
     ]
    },
    {
     "data": {
      "text/plain": [
       "0"
      ]
     },
     "execution_count": 26,
     "metadata": {},
     "output_type": "execute_result"
    }
   ],
   "source": [
    "# R701\n",
    "sample_paths = {\n",
    "    'T1_in_vitro': {\n",
    "        'target_gene':[\n",
    "                       '/syn1/liangzhen/jinhua_jilab_project/data/DNA_Amplicon/plasmid/s2164g01113_MCS-20240328-L-04-2024-04-051621/Sample_SQ24024299-YJH-cas9-61-R701/SQ24024299-YJH-cas9-61-R701_combined_{}.fastq.gz',\n",
    "                       ]\n",
    "          }\n",
    "                }\n",
    "innerBC_ref = ['GTAGTC']\n",
    "innerBC_reads_count = get_innerBC_reads_count(sample_paths,innerBC_ref)\n",
    "\n",
    "os.system('rm /syn1/liangzhen/jinhua_jilab_project/result/DNA_Amplicon/T1_in_vitro/EPC/R701/*.fq.gz')\n",
    "for fq,pooled_reads in innerBC_reads_count.items():\n",
    "    for innerBC,reads_set in pooled_reads.items():\n",
    "        #print(innerBC+fq)\n",
    "        with open('/syn1/liangzhen/jinhua_jilab_project/result/DNA_Amplicon/T1_in_vitro/EPC/R701'+'/'+innerBC+'_'+fq+'.fq','w+') as f:\n",
    "            f.writelines(reads_set)\n",
    "os.system('ls /syn1/liangzhen/jinhua_jilab_project/result/DNA_Amplicon/T1_in_vitro/EPC/R701/*.fq|xargs -I {} gzip {}')\n",
    "\n"
   ]
  },
  {
   "cell_type": "code",
   "execution_count": 27,
   "id": "1912c17c",
   "metadata": {},
   "outputs": [
    {
     "name": "stdout",
     "output_type": "stream",
     "text": [
      "/syn1/liangzhen/jinhua_jilab_project/data/DNA_Amplicon/plasmid/s2164g01113_MCS-20240328-L-04-2024-04-051621/Sample_SQ24024299-YJH-cas9-61-R709/SQ24024299-YJH-cas9-61-R709_combined_{}.fastq.gz: Processed 1000000 reads in 10.336155652999878 seconds\n",
      "/syn1/liangzhen/jinhua_jilab_project/data/DNA_Amplicon/plasmid/s2164g01113_MCS-20240328-L-04-2024-04-051621/Sample_SQ24024299-YJH-cas9-61-R709/SQ24024299-YJH-cas9-61-R709_combined_{}.fastq.gz: Processed 2000000 reads in 20.42610764503479 seconds\n",
      "/syn1/liangzhen/jinhua_jilab_project/data/DNA_Amplicon/plasmid/s2164g01113_MCS-20240328-L-04-2024-04-051621/Sample_SQ24024299-YJH-cas9-61-R709/SQ24024299-YJH-cas9-61-R709_combined_{}.fastq.gz: Processed 3000000 reads in 30.494313955307007 seconds\n",
      "/syn1/liangzhen/jinhua_jilab_project/data/DNA_Amplicon/plasmid/s2164g01113_MCS-20240328-L-04-2024-04-051621/Sample_SQ24024299-YJH-cas9-61-R709/SQ24024299-YJH-cas9-61-R709_combined_{}.fastq.gz: Processed 4000000 reads in 40.62560248374939 seconds\n",
      "/syn1/liangzhen/jinhua_jilab_project/data/DNA_Amplicon/plasmid/s2164g01113_MCS-20240328-L-04-2024-04-051621/Sample_SQ24024299-YJH-cas9-61-R709/SQ24024299-YJH-cas9-61-R709_combined_{}.fastq.gz: Processed 5000000 reads in 50.684338092803955 seconds\n",
      "/syn1/liangzhen/jinhua_jilab_project/data/DNA_Amplicon/plasmid/s2164g01113_MCS-20240328-L-04-2024-04-051621/Sample_SQ24024299-YJH-cas9-61-R709/SQ24024299-YJH-cas9-61-R709_combined_{}.fastq.gz: Processed 6000000 reads in 60.993091344833374 seconds\n",
      "/syn1/liangzhen/jinhua_jilab_project/data/DNA_Amplicon/plasmid/s2164g01113_MCS-20240328-L-04-2024-04-051621/Sample_SQ24024299-YJH-cas9-61-R709/SQ24024299-YJH-cas9-61-R709_combined_{}.fastq.gz: Processed 7000000 reads in 71.27412152290344 seconds\n",
      "/syn1/liangzhen/jinhua_jilab_project/data/DNA_Amplicon/plasmid/s2164g01113_MCS-20240328-L-04-2024-04-051621/Sample_SQ24024299-YJH-cas9-61-R709/SQ24024299-YJH-cas9-61-R709_combined_{}.fastq.gz: Processed 8000000 reads in 81.64003133773804 seconds\n",
      "/syn1/liangzhen/jinhua_jilab_project/data/DNA_Amplicon/plasmid/s2164g01113_MCS-20240328-L-04-2024-04-051621/Sample_SQ24024299-YJH-cas9-61-R709/SQ24024299-YJH-cas9-61-R709_combined_{}.fastq.gz: Processed 9000000 reads in 91.76544857025146 seconds\n",
      "/syn1/liangzhen/jinhua_jilab_project/data/DNA_Amplicon/plasmid/s2164g01113_MCS-20240328-L-04-2024-04-051621/Sample_SQ24024299-YJH-cas9-61-R709/SQ24024299-YJH-cas9-61-R709_combined_{}.fastq.gz: Processed 10000000 reads in 102.00615954399109 seconds\n",
      "/syn1/liangzhen/jinhua_jilab_project/data/DNA_Amplicon/plasmid/s2164g01113_MCS-20240328-L-04-2024-04-051621/Sample_SQ24024299-YJH-cas9-61-R709/SQ24024299-YJH-cas9-61-R709_combined_{}.fastq.gz: Processed 11000000 reads in 112.2264792919159 seconds\n",
      "/syn1/liangzhen/jinhua_jilab_project/data/DNA_Amplicon/plasmid/s2164g01113_MCS-20240328-L-04-2024-04-051621/Sample_SQ24024299-YJH-cas9-61-R709/SQ24024299-YJH-cas9-61-R709_combined_{}.fastq.gz: Processed 12000000 reads in 122.47046732902527 seconds\n",
      "/syn1/liangzhen/jinhua_jilab_project/data/DNA_Amplicon/plasmid/s2164g01113_MCS-20240328-L-04-2024-04-051621/Sample_SQ24024299-YJH-cas9-61-R709/SQ24024299-YJH-cas9-61-R709_combined_{}.fastq.gz: Processed 13000000 reads in 132.66538619995117 seconds\n",
      "/syn1/liangzhen/jinhua_jilab_project/data/DNA_Amplicon/plasmid/s2164g01113_MCS-20240328-L-04-2024-04-051621/Sample_SQ24024299-YJH-cas9-61-R709/SQ24024299-YJH-cas9-61-R709_combined_{}.fastq.gz: Processed 14000000 reads in 142.8883810043335 seconds\n",
      "/syn1/liangzhen/jinhua_jilab_project/data/DNA_Amplicon/plasmid/s2164g01113_MCS-20240328-L-04-2024-04-051621/Sample_SQ24024299-YJH-cas9-61-R709/SQ24024299-YJH-cas9-61-R709_combined_{}.fastq.gz: Processed 15000000 reads in 153.11885571479797 seconds\n"
     ]
    },
    {
     "name": "stderr",
     "output_type": "stream",
     "text": [
      "rm: cannot remove ‘/syn1/liangzhen/jinhua_jilab_project/result/DNA_Amplicon/T1_in_vitro/EPC/R709/*.fq.gz’: No such file or directory\n"
     ]
    },
    {
     "data": {
      "text/plain": [
       "0"
      ]
     },
     "execution_count": 27,
     "metadata": {},
     "output_type": "execute_result"
    }
   ],
   "source": [
    "# R709\n",
    "sample_paths = {\n",
    "    'T1_in_vitro': {\n",
    "        'target_gene':[\n",
    "                       '/syn1/liangzhen/jinhua_jilab_project/data/DNA_Amplicon/plasmid/s2164g01113_MCS-20240328-L-04-2024-04-051621/Sample_SQ24024299-YJH-cas9-61-R709/SQ24024299-YJH-cas9-61-R709_combined_{}.fastq.gz',\n",
    "                       ]\n",
    "          }\n",
    "                }\n",
    "innerBC_ref = ['GTAGTC','CTTGTA','CATCGA','GACCTA']\n",
    "innerBC_reads_count = get_innerBC_reads_count(sample_paths,innerBC_ref)\n",
    "\n",
    "os.system('rm /syn1/liangzhen/jinhua_jilab_project/result/DNA_Amplicon/T1_in_vitro/EPC/R709/*.fq.gz')\n",
    "for fq,pooled_reads in innerBC_reads_count.items():\n",
    "    for innerBC,reads_set in pooled_reads.items():\n",
    "        #print(innerBC+fq)\n",
    "        with open('/syn1/liangzhen/jinhua_jilab_project/result/DNA_Amplicon/T1_in_vitro/EPC/R709'+'/'+innerBC+'_'+fq+'.fq','w+') as f:\n",
    "            f.writelines(reads_set)\n",
    "os.system('ls /syn1/liangzhen/jinhua_jilab_project/result/DNA_Amplicon/T1_in_vitro/EPC/R709/*.fq|xargs -I {} gzip {}')\n",
    "\n"
   ]
  },
  {
   "cell_type": "code",
   "execution_count": 28,
   "id": "7478b609",
   "metadata": {
    "scrolled": true
   },
   "outputs": [
    {
     "name": "stdout",
     "output_type": "stream",
     "text": [
      "/syn1/liangzhen/jinhua_jilab_project/data/DNA_Amplicon/plasmid/s2164g01113_MCS-20240328-L-04-2024-04-051621/Sample_SQ24024299-YJH-cas9-61-R705/SQ24024299-YJH-cas9-61-R705_combined_{}.fastq.gz: Processed 1000000 reads in 11.362395286560059 seconds\n",
      "/syn1/liangzhen/jinhua_jilab_project/data/DNA_Amplicon/plasmid/s2164g01113_MCS-20240328-L-04-2024-04-051621/Sample_SQ24024299-YJH-cas9-61-R705/SQ24024299-YJH-cas9-61-R705_combined_{}.fastq.gz: Processed 2000000 reads in 22.83995294570923 seconds\n",
      "/syn1/liangzhen/jinhua_jilab_project/data/DNA_Amplicon/plasmid/s2164g01113_MCS-20240328-L-04-2024-04-051621/Sample_SQ24024299-YJH-cas9-61-R705/SQ24024299-YJH-cas9-61-R705_combined_{}.fastq.gz: Processed 3000000 reads in 34.78624391555786 seconds\n",
      "/syn1/liangzhen/jinhua_jilab_project/data/DNA_Amplicon/plasmid/s2164g01113_MCS-20240328-L-04-2024-04-051621/Sample_SQ24024299-YJH-cas9-61-R705/SQ24024299-YJH-cas9-61-R705_combined_{}.fastq.gz: Processed 4000000 reads in 47.20223379135132 seconds\n",
      "/syn1/liangzhen/jinhua_jilab_project/data/DNA_Amplicon/plasmid/s2164g01113_MCS-20240328-L-04-2024-04-051621/Sample_SQ24024299-YJH-cas9-61-R705/SQ24024299-YJH-cas9-61-R705_combined_{}.fastq.gz: Processed 5000000 reads in 59.496392011642456 seconds\n",
      "/syn1/liangzhen/jinhua_jilab_project/data/DNA_Amplicon/plasmid/s2164g01113_MCS-20240328-L-04-2024-04-051621/Sample_SQ24024299-YJH-cas9-61-R705/SQ24024299-YJH-cas9-61-R705_combined_{}.fastq.gz: Processed 6000000 reads in 71.94247269630432 seconds\n",
      "/syn1/liangzhen/jinhua_jilab_project/data/DNA_Amplicon/plasmid/s2164g01113_MCS-20240328-L-04-2024-04-051621/Sample_SQ24024299-YJH-cas9-61-R705/SQ24024299-YJH-cas9-61-R705_combined_{}.fastq.gz: Processed 7000000 reads in 84.25039148330688 seconds\n",
      "/syn1/liangzhen/jinhua_jilab_project/data/DNA_Amplicon/plasmid/s2164g01113_MCS-20240328-L-04-2024-04-051621/Sample_SQ24024299-YJH-cas9-61-R705/SQ24024299-YJH-cas9-61-R705_combined_{}.fastq.gz: Processed 8000000 reads in 96.41271543502808 seconds\n",
      "/syn1/liangzhen/jinhua_jilab_project/data/DNA_Amplicon/plasmid/s2164g01113_MCS-20240328-L-04-2024-04-051621/Sample_SQ24024299-YJH-cas9-61-R705/SQ24024299-YJH-cas9-61-R705_combined_{}.fastq.gz: Processed 9000000 reads in 108.49873661994934 seconds\n",
      "/syn1/liangzhen/jinhua_jilab_project/data/DNA_Amplicon/plasmid/s2164g01113_MCS-20240328-L-04-2024-04-051621/Sample_SQ24024299-YJH-cas9-61-R705/SQ24024299-YJH-cas9-61-R705_combined_{}.fastq.gz: Processed 10000000 reads in 120.71252083778381 seconds\n",
      "/syn1/liangzhen/jinhua_jilab_project/data/DNA_Amplicon/plasmid/s2164g01113_MCS-20240328-L-04-2024-04-051621/Sample_SQ24024299-YJH-cas9-61-R705/SQ24024299-YJH-cas9-61-R705_combined_{}.fastq.gz: Processed 11000000 reads in 132.89277029037476 seconds\n",
      "/syn1/liangzhen/jinhua_jilab_project/data/DNA_Amplicon/plasmid/s2164g01113_MCS-20240328-L-04-2024-04-051621/Sample_SQ24024299-YJH-cas9-61-R705/SQ24024299-YJH-cas9-61-R705_combined_{}.fastq.gz: Processed 12000000 reads in 145.08228302001953 seconds\n",
      "/syn1/liangzhen/jinhua_jilab_project/data/DNA_Amplicon/plasmid/s2164g01113_MCS-20240328-L-04-2024-04-051621/Sample_SQ24024299-YJH-cas9-61-R705/SQ24024299-YJH-cas9-61-R705_combined_{}.fastq.gz: Processed 13000000 reads in 157.2492651939392 seconds\n",
      "/syn1/liangzhen/jinhua_jilab_project/data/DNA_Amplicon/plasmid/s2164g01113_MCS-20240328-L-04-2024-04-051621/Sample_SQ24024299-YJH-cas9-61-R705/SQ24024299-YJH-cas9-61-R705_combined_{}.fastq.gz: Processed 14000000 reads in 169.3908314704895 seconds\n",
      "/syn1/liangzhen/jinhua_jilab_project/data/DNA_Amplicon/plasmid/s2164g01113_MCS-20240328-L-04-2024-04-051621/Sample_SQ24024299-YJH-cas9-61-R705/SQ24024299-YJH-cas9-61-R705_combined_{}.fastq.gz: Processed 15000000 reads in 181.53740286827087 seconds\n",
      "/syn1/liangzhen/jinhua_jilab_project/data/DNA_Amplicon/plasmid/s2164g01113_MCS-20240328-L-04-2024-04-051621/Sample_SQ24024299-YJH-cas9-61-R705/SQ24024299-YJH-cas9-61-R705_combined_{}.fastq.gz: Processed 16000000 reads in 193.74695110321045 seconds\n",
      "/syn1/liangzhen/jinhua_jilab_project/data/DNA_Amplicon/plasmid/s2164g01113_MCS-20240328-L-04-2024-04-051621/Sample_SQ24024299-YJH-cas9-61-R705/SQ24024299-YJH-cas9-61-R705_combined_{}.fastq.gz: Processed 17000000 reads in 206.0491919517517 seconds\n",
      "/syn1/liangzhen/jinhua_jilab_project/data/DNA_Amplicon/plasmid/s2164g01113_MCS-20240328-L-04-2024-04-051621/Sample_SQ24024299-YJH-cas9-61-R705/SQ24024299-YJH-cas9-61-R705_combined_{}.fastq.gz: Processed 18000000 reads in 218.4347686767578 seconds\n",
      "/syn1/liangzhen/jinhua_jilab_project/data/DNA_Amplicon/plasmid/s2164g01113_MCS-20240328-L-04-2024-04-051621/Sample_SQ24024299-YJH-cas9-61-R705/SQ24024299-YJH-cas9-61-R705_combined_{}.fastq.gz: Processed 19000000 reads in 230.77253365516663 seconds\n",
      "/syn1/liangzhen/jinhua_jilab_project/data/DNA_Amplicon/plasmid/s2164g01113_MCS-20240328-L-04-2024-04-051621/Sample_SQ24024299-YJH-cas9-61-R705/SQ24024299-YJH-cas9-61-R705_combined_{}.fastq.gz: Processed 20000000 reads in 242.91408824920654 seconds\n",
      "/syn1/liangzhen/jinhua_jilab_project/data/DNA_Amplicon/plasmid/s2164g01113_MCS-20240328-L-04-2024-04-051621/Sample_SQ24024299-YJH-cas9-61-R705/SQ24024299-YJH-cas9-61-R705_combined_{}.fastq.gz: Processed 21000000 reads in 255.3222222328186 seconds\n",
      "/syn1/liangzhen/jinhua_jilab_project/data/DNA_Amplicon/plasmid/s2164g01113_MCS-20240328-L-04-2024-04-051621/Sample_SQ24024299-YJH-cas9-61-R705/SQ24024299-YJH-cas9-61-R705_combined_{}.fastq.gz: Processed 22000000 reads in 267.4439923763275 seconds\n",
      "/syn1/liangzhen/jinhua_jilab_project/data/DNA_Amplicon/plasmid/s2164g01113_MCS-20240328-L-04-2024-04-051621/Sample_SQ24024299-YJH-cas9-61-R705/SQ24024299-YJH-cas9-61-R705_combined_{}.fastq.gz: Processed 23000000 reads in 279.57802724838257 seconds\n",
      "/syn1/liangzhen/jinhua_jilab_project/data/DNA_Amplicon/plasmid/s2164g01113_MCS-20240328-L-04-2024-04-051621/Sample_SQ24024299-YJH-cas9-61-R705/SQ24024299-YJH-cas9-61-R705_combined_{}.fastq.gz: Processed 24000000 reads in 291.73973083496094 seconds\n",
      "/syn1/liangzhen/jinhua_jilab_project/data/DNA_Amplicon/plasmid/s2164g01113_MCS-20240328-L-04-2024-04-051621/Sample_SQ24024299-YJH-cas9-61-R705/SQ24024299-YJH-cas9-61-R705_combined_{}.fastq.gz: Processed 25000000 reads in 304.287358045578 seconds\n",
      "/syn1/liangzhen/jinhua_jilab_project/data/DNA_Amplicon/plasmid/s2164g01113_MCS-20240328-L-04-2024-04-051621/Sample_SQ24024299-YJH-cas9-61-R705/SQ24024299-YJH-cas9-61-R705_combined_{}.fastq.gz: Processed 26000000 reads in 316.67167830467224 seconds\n",
      "/syn1/liangzhen/jinhua_jilab_project/data/DNA_Amplicon/plasmid/s2164g01113_MCS-20240328-L-04-2024-04-051621/Sample_SQ24024299-YJH-cas9-61-R705/SQ24024299-YJH-cas9-61-R705_combined_{}.fastq.gz: Processed 27000000 reads in 328.8420708179474 seconds\n",
      "/syn1/liangzhen/jinhua_jilab_project/data/DNA_Amplicon/plasmid/s2164g01113_MCS-20240328-L-04-2024-04-051621/Sample_SQ24024299-YJH-cas9-61-R705/SQ24024299-YJH-cas9-61-R705_combined_{}.fastq.gz: Processed 28000000 reads in 340.9859194755554 seconds\n",
      "/syn1/liangzhen/jinhua_jilab_project/data/DNA_Amplicon/plasmid/s2164g01113_MCS-20240328-L-04-2024-04-051621/Sample_SQ24024299-YJH-cas9-61-R705/SQ24024299-YJH-cas9-61-R705_combined_{}.fastq.gz: Processed 29000000 reads in 353.64981627464294 seconds\n",
      "/syn1/liangzhen/jinhua_jilab_project/data/DNA_Amplicon/plasmid/s2164g01113_MCS-20240328-L-04-2024-04-051621/Sample_SQ24024299-YJH-cas9-61-R705/SQ24024299-YJH-cas9-61-R705_combined_{}.fastq.gz: Processed 30000000 reads in 366.6647033691406 seconds\n",
      "/syn1/liangzhen/jinhua_jilab_project/data/DNA_Amplicon/plasmid/s2164g01113_MCS-20240328-L-04-2024-04-051621/Sample_SQ24024299-YJH-cas9-61-R705/SQ24024299-YJH-cas9-61-R705_combined_{}.fastq.gz: Processed 31000000 reads in 379.6896641254425 seconds\n",
      "/syn1/liangzhen/jinhua_jilab_project/data/DNA_Amplicon/plasmid/s2164g01113_MCS-20240328-L-04-2024-04-051621/Sample_SQ24024299-YJH-cas9-61-R705/SQ24024299-YJH-cas9-61-R705_combined_{}.fastq.gz: Processed 32000000 reads in 392.82683086395264 seconds\n",
      "/syn1/liangzhen/jinhua_jilab_project/data/DNA_Amplicon/plasmid/s2164g01113_MCS-20240328-L-04-2024-04-051621/Sample_SQ24024299-YJH-cas9-61-R705/SQ24024299-YJH-cas9-61-R705_combined_{}.fastq.gz: Processed 33000000 reads in 405.1040713787079 seconds\n",
      "/syn1/liangzhen/jinhua_jilab_project/data/DNA_Amplicon/plasmid/s2164g01113_MCS-20240328-L-04-2024-04-051621/Sample_SQ24024299-YJH-cas9-61-R705/SQ24024299-YJH-cas9-61-R705_combined_{}.fastq.gz: Processed 34000000 reads in 417.2967920303345 seconds\n"
     ]
    },
    {
     "name": "stdout",
     "output_type": "stream",
     "text": [
      "/syn1/liangzhen/jinhua_jilab_project/data/DNA_Amplicon/plasmid/s2164g01113_MCS-20240328-L-04-2024-04-051621/Sample_SQ24024299-YJH-cas9-61-R705/SQ24024299-YJH-cas9-61-R705_combined_{}.fastq.gz: Processed 35000000 reads in 430.22565746307373 seconds\n",
      "/syn1/liangzhen/jinhua_jilab_project/data/DNA_Amplicon/plasmid/s2164g01113_MCS-20240328-L-04-2024-04-051621/Sample_SQ24024299-YJH-cas9-61-R705/SQ24024299-YJH-cas9-61-R705_combined_{}.fastq.gz: Processed 36000000 reads in 443.3189814090729 seconds\n",
      "/syn1/liangzhen/jinhua_jilab_project/data/DNA_Amplicon/plasmid/s2164g01113_MCS-20240328-L-04-2024-04-051621/Sample_SQ24024299-YJH-cas9-61-R705/SQ24024299-YJH-cas9-61-R705_combined_{}.fastq.gz: Processed 37000000 reads in 456.65142488479614 seconds\n",
      "/syn1/liangzhen/jinhua_jilab_project/data/DNA_Amplicon/plasmid/s2164g01113_MCS-20240328-L-04-2024-04-051621/Sample_SQ24024299-YJH-cas9-61-R705/SQ24024299-YJH-cas9-61-R705_combined_{}.fastq.gz: Processed 38000000 reads in 469.30547285079956 seconds\n",
      "/syn1/liangzhen/jinhua_jilab_project/data/DNA_Amplicon/plasmid/s2164g01113_MCS-20240328-L-04-2024-04-051621/Sample_SQ24024299-YJH-cas9-61-R705/SQ24024299-YJH-cas9-61-R705_combined_{}.fastq.gz: Processed 39000000 reads in 481.69511222839355 seconds\n",
      "/syn1/liangzhen/jinhua_jilab_project/data/DNA_Amplicon/plasmid/s2164g01113_MCS-20240328-L-04-2024-04-051621/Sample_SQ24024299-YJH-cas9-61-R705/SQ24024299-YJH-cas9-61-R705_combined_{}.fastq.gz: Processed 40000000 reads in 494.27629375457764 seconds\n",
      "/syn1/liangzhen/jinhua_jilab_project/data/DNA_Amplicon/plasmid/s2164g01113_MCS-20240328-L-04-2024-04-051621/Sample_SQ24024299-YJH-cas9-61-R705/SQ24024299-YJH-cas9-61-R705_combined_{}.fastq.gz: Processed 41000000 reads in 507.23536801338196 seconds\n",
      "/syn1/liangzhen/jinhua_jilab_project/data/DNA_Amplicon/plasmid/s2164g01113_MCS-20240328-L-04-2024-04-051621/Sample_SQ24024299-YJH-cas9-61-R705/SQ24024299-YJH-cas9-61-R705_combined_{}.fastq.gz: Processed 42000000 reads in 520.3385546207428 seconds\n",
      "/syn1/liangzhen/jinhua_jilab_project/data/DNA_Amplicon/plasmid/s2164g01113_MCS-20240328-L-04-2024-04-051621/Sample_SQ24024299-YJH-cas9-61-R705/SQ24024299-YJH-cas9-61-R705_combined_{}.fastq.gz: Processed 43000000 reads in 533.4165873527527 seconds\n",
      "/syn1/liangzhen/jinhua_jilab_project/data/DNA_Amplicon/plasmid/s2164g01113_MCS-20240328-L-04-2024-04-051621/Sample_SQ24024299-YJH-cas9-61-R705/SQ24024299-YJH-cas9-61-R705_combined_{}.fastq.gz: Processed 44000000 reads in 546.3864505290985 seconds\n",
      "/syn1/liangzhen/jinhua_jilab_project/data/DNA_Amplicon/plasmid/s2164g01113_MCS-20240328-L-04-2024-04-051621/Sample_SQ24024299-YJH-cas9-61-R705/SQ24024299-YJH-cas9-61-R705_combined_{}.fastq.gz: Processed 45000000 reads in 559.1382899284363 seconds\n",
      "/syn1/liangzhen/jinhua_jilab_project/data/DNA_Amplicon/plasmid/s2164g01113_MCS-20240328-L-04-2024-04-051621/Sample_SQ24024299-YJH-cas9-61-R705/SQ24024299-YJH-cas9-61-R705_combined_{}.fastq.gz: Processed 46000000 reads in 572.1136448383331 seconds\n",
      "/syn1/liangzhen/jinhua_jilab_project/data/DNA_Amplicon/plasmid/s2164g01113_MCS-20240328-L-04-2024-04-051621/Sample_SQ24024299-YJH-cas9-61-R705/SQ24024299-YJH-cas9-61-R705_combined_{}.fastq.gz: Processed 47000000 reads in 585.0677452087402 seconds\n",
      "/syn1/liangzhen/jinhua_jilab_project/data/DNA_Amplicon/plasmid/s2164g01113_MCS-20240328-L-04-2024-04-051621/Sample_SQ24024299-YJH-cas9-61-R705/SQ24024299-YJH-cas9-61-R705_combined_{}.fastq.gz: Processed 48000000 reads in 597.968020439148 seconds\n",
      "/syn1/liangzhen/jinhua_jilab_project/data/DNA_Amplicon/plasmid/s2164g01113_MCS-20240328-L-04-2024-04-051621/Sample_SQ24024299-YJH-cas9-61-R705/SQ24024299-YJH-cas9-61-R705_combined_{}.fastq.gz: Processed 49000000 reads in 610.8685898780823 seconds\n",
      "/syn1/liangzhen/jinhua_jilab_project/data/DNA_Amplicon/plasmid/s2164g01113_MCS-20240328-L-04-2024-04-051621/Sample_SQ24024299-YJH-cas9-61-R705/SQ24024299-YJH-cas9-61-R705_combined_{}.fastq.gz: Processed 50000000 reads in 623.8862161636353 seconds\n",
      "/syn1/liangzhen/jinhua_jilab_project/data/DNA_Amplicon/plasmid/s2164g01113_MCS-20240328-L-04-2024-04-051621/Sample_SQ24024299-YJH-cas9-61-R705/SQ24024299-YJH-cas9-61-R705_combined_{}.fastq.gz: Processed 51000000 reads in 636.6792538166046 seconds\n",
      "/syn1/liangzhen/jinhua_jilab_project/data/DNA_Amplicon/plasmid/s2164g01113_MCS-20240328-L-04-2024-04-051621/Sample_SQ24024299-YJH-cas9-61-R705/SQ24024299-YJH-cas9-61-R705_combined_{}.fastq.gz: Processed 52000000 reads in 649.5833048820496 seconds\n",
      "/syn1/liangzhen/jinhua_jilab_project/data/DNA_Amplicon/plasmid/s2164g01113_MCS-20240328-L-04-2024-04-051621/Sample_SQ24024299-YJH-cas9-61-R705/SQ24024299-YJH-cas9-61-R705_combined_{}.fastq.gz: Processed 53000000 reads in 662.6653316020966 seconds\n",
      "/syn1/liangzhen/jinhua_jilab_project/data/DNA_Amplicon/plasmid/s2164g01113_MCS-20240328-L-04-2024-04-051621/Sample_SQ24024299-YJH-cas9-61-R705/SQ24024299-YJH-cas9-61-R705_combined_{}.fastq.gz: Processed 54000000 reads in 675.680675983429 seconds\n",
      "/syn1/liangzhen/jinhua_jilab_project/data/DNA_Amplicon/plasmid/s2164g01113_MCS-20240328-L-04-2024-04-051621/Sample_SQ24024299-YJH-cas9-61-R705/SQ24024299-YJH-cas9-61-R705_combined_{}.fastq.gz: Processed 55000000 reads in 688.9850215911865 seconds\n",
      "/syn1/liangzhen/jinhua_jilab_project/data/DNA_Amplicon/plasmid/s2164g01113_MCS-20240328-L-04-2024-04-051621/Sample_SQ24024299-YJH-cas9-61-R705/SQ24024299-YJH-cas9-61-R705_combined_{}.fastq.gz: Processed 56000000 reads in 702.1106262207031 seconds\n",
      "/syn1/liangzhen/jinhua_jilab_project/data/DNA_Amplicon/plasmid/s2164g01113_MCS-20240328-L-04-2024-04-051621/Sample_SQ24024299-YJH-cas9-61-R705/SQ24024299-YJH-cas9-61-R705_combined_{}.fastq.gz: Processed 57000000 reads in 715.2515783309937 seconds\n",
      "/syn1/liangzhen/jinhua_jilab_project/data/DNA_Amplicon/plasmid/s2164g01113_MCS-20240328-L-04-2024-04-051621/Sample_SQ24024299-YJH-cas9-61-R705/SQ24024299-YJH-cas9-61-R705_combined_{}.fastq.gz: Processed 58000000 reads in 728.070454120636 seconds\n",
      "/syn1/liangzhen/jinhua_jilab_project/data/DNA_Amplicon/plasmid/s2164g01113_MCS-20240328-L-04-2024-04-051621/Sample_SQ24024299-YJH-cas9-61-R705/SQ24024299-YJH-cas9-61-R705_combined_{}.fastq.gz: Processed 59000000 reads in 740.2794756889343 seconds\n",
      "/syn1/liangzhen/jinhua_jilab_project/data/DNA_Amplicon/plasmid/s2164g01113_MCS-20240328-L-04-2024-04-051621/Sample_SQ24024299-YJH-cas9-61-R705/SQ24024299-YJH-cas9-61-R705_combined_{}.fastq.gz: Processed 60000000 reads in 752.6691107749939 seconds\n",
      "/syn1/liangzhen/jinhua_jilab_project/data/DNA_Amplicon/plasmid/s2164g01113_MCS-20240328-L-04-2024-04-051621/Sample_SQ24024299-YJH-cas9-61-R705/SQ24024299-YJH-cas9-61-R705_combined_{}.fastq.gz: Processed 61000000 reads in 764.9632103443146 seconds\n",
      "/syn1/liangzhen/jinhua_jilab_project/data/DNA_Amplicon/plasmid/s2164g01113_MCS-20240328-L-04-2024-04-051621/Sample_SQ24024299-YJH-cas9-61-R705/SQ24024299-YJH-cas9-61-R705_combined_{}.fastq.gz: Processed 62000000 reads in 777.0460393428802 seconds\n",
      "/syn1/liangzhen/jinhua_jilab_project/data/DNA_Amplicon/plasmid/s2164g01113_MCS-20240328-L-04-2024-04-051621/Sample_SQ24024299-YJH-cas9-61-R705/SQ24024299-YJH-cas9-61-R705_combined_{}.fastq.gz: Processed 63000000 reads in 789.2430577278137 seconds\n",
      "/syn1/liangzhen/jinhua_jilab_project/data/DNA_Amplicon/plasmid/s2164g01113_MCS-20240328-L-04-2024-04-051621/Sample_SQ24024299-YJH-cas9-61-R705/SQ24024299-YJH-cas9-61-R705_combined_{}.fastq.gz: Processed 64000000 reads in 801.591696023941 seconds\n",
      "/syn1/liangzhen/jinhua_jilab_project/data/DNA_Amplicon/plasmid/s2164g01113_MCS-20240328-L-04-2024-04-051621/Sample_SQ24024299-YJH-cas9-61-R705/SQ24024299-YJH-cas9-61-R705_combined_{}.fastq.gz: Processed 65000000 reads in 814.0373034477234 seconds\n",
      "/syn1/liangzhen/jinhua_jilab_project/data/DNA_Amplicon/plasmid/s2164g01113_MCS-20240328-L-04-2024-04-051621/Sample_SQ24024299-YJH-cas9-61-R705/SQ24024299-YJH-cas9-61-R705_combined_{}.fastq.gz: Processed 66000000 reads in 826.6760802268982 seconds\n",
      "/syn1/liangzhen/jinhua_jilab_project/data/DNA_Amplicon/plasmid/s2164g01113_MCS-20240328-L-04-2024-04-051621/Sample_SQ24024299-YJH-cas9-61-R705/SQ24024299-YJH-cas9-61-R705_combined_{}.fastq.gz: Processed 67000000 reads in 839.4390914440155 seconds\n",
      "/syn1/liangzhen/jinhua_jilab_project/data/DNA_Amplicon/plasmid/s2164g01113_MCS-20240328-L-04-2024-04-051621/Sample_SQ24024299-YJH-cas9-61-R705/SQ24024299-YJH-cas9-61-R705_combined_{}.fastq.gz: Processed 68000000 reads in 852.2042315006256 seconds\n"
     ]
    },
    {
     "name": "stdout",
     "output_type": "stream",
     "text": [
      "/syn1/liangzhen/jinhua_jilab_project/data/DNA_Amplicon/plasmid/s2164g01113_MCS-20240328-L-04-2024-04-051621/Sample_SQ24024299-YJH-cas9-61-R705/SQ24024299-YJH-cas9-61-R705_combined_{}.fastq.gz: Processed 69000000 reads in 865.0164184570312 seconds\n",
      "/syn1/liangzhen/jinhua_jilab_project/data/DNA_Amplicon/plasmid/s2164g01113_MCS-20240328-L-04-2024-04-051621/Sample_SQ24024299-YJH-cas9-61-R705/SQ24024299-YJH-cas9-61-R705_combined_{}.fastq.gz: Processed 70000000 reads in 878.0960674285889 seconds\n",
      "/syn1/liangzhen/jinhua_jilab_project/data/DNA_Amplicon/plasmid/s2164g01113_MCS-20240328-L-04-2024-04-051621/Sample_SQ24024299-YJH-cas9-61-R705/SQ24024299-YJH-cas9-61-R705_combined_{}.fastq.gz: Processed 71000000 reads in 890.9333028793335 seconds\n",
      "/syn1/liangzhen/jinhua_jilab_project/data/DNA_Amplicon/plasmid/s2164g01113_MCS-20240328-L-04-2024-04-051621/Sample_SQ24024299-YJH-cas9-61-R705/SQ24024299-YJH-cas9-61-R705_combined_{}.fastq.gz: Processed 72000000 reads in 903.9301309585571 seconds\n",
      "/syn1/liangzhen/jinhua_jilab_project/data/DNA_Amplicon/plasmid/s2164g01113_MCS-20240328-L-04-2024-04-051621/Sample_SQ24024299-YJH-cas9-61-R705/SQ24024299-YJH-cas9-61-R705_combined_{}.fastq.gz: Processed 73000000 reads in 916.8871126174927 seconds\n",
      "/syn1/liangzhen/jinhua_jilab_project/data/DNA_Amplicon/plasmid/s2164g01113_MCS-20240328-L-04-2024-04-051621/Sample_SQ24024299-YJH-cas9-61-R705/SQ24024299-YJH-cas9-61-R705_combined_{}.fastq.gz: Processed 74000000 reads in 929.4704649448395 seconds\n",
      "/syn1/liangzhen/jinhua_jilab_project/data/DNA_Amplicon/plasmid/s2164g01113_MCS-20240328-L-04-2024-04-051621/Sample_SQ24024299-YJH-cas9-61-R705/SQ24024299-YJH-cas9-61-R705_combined_{}.fastq.gz: Processed 75000000 reads in 942.9933257102966 seconds\n",
      "/syn1/liangzhen/jinhua_jilab_project/data/DNA_Amplicon/plasmid/s2164g01113_MCS-20240328-L-04-2024-04-051621/Sample_SQ24024299-YJH-cas9-61-R705/SQ24024299-YJH-cas9-61-R705_combined_{}.fastq.gz: Processed 76000000 reads in 956.2880108356476 seconds\n"
     ]
    },
    {
     "name": "stderr",
     "output_type": "stream",
     "text": [
      "rm: cannot remove ‘/syn1/liangzhen/jinhua_jilab_project/result/DNA_Amplicon/T1_in_vitro/EPC/R705/*.fq.gz’: No such file or directory\n"
     ]
    },
    {
     "data": {
      "text/plain": [
       "0"
      ]
     },
     "execution_count": 28,
     "metadata": {},
     "output_type": "execute_result"
    }
   ],
   "source": [
    "# R705\n",
    "sample_paths = {\n",
    "    'T1_in_vitro': {\n",
    "        'target_gene':[\n",
    "                       '/syn1/liangzhen/jinhua_jilab_project/data/DNA_Amplicon/plasmid/s2164g01113_MCS-20240328-L-04-2024-04-051621/Sample_SQ24024299-YJH-cas9-61-R705/SQ24024299-YJH-cas9-61-R705_combined_{}.fastq.gz',\n",
    "                       ]\n",
    "          }\n",
    "                }\n",
    "innerBC_ref = ['ACGTAG','CAGATC','CTTGTA','TTAGGC','GGCTAC','CTGTGA','GTAGTC','GATCAG','GACCTA','ATCACG','TGCACT','GCACTA','CATCGA','TAGCTT','ACCAGT','CGATGT','GATGCA','TGTAGC']\n",
    "innerBC_reads_count = get_innerBC_reads_count(sample_paths,innerBC_ref)\n",
    "\n",
    "os.system('rm /syn1/liangzhen/jinhua_jilab_project/result/DNA_Amplicon/T1_in_vitro/EPC/R705/*.fq.gz')\n",
    "for fq,pooled_reads in innerBC_reads_count.items():\n",
    "    for innerBC,reads_set in pooled_reads.items():\n",
    "        #print(innerBC+fq)\n",
    "        with open('/syn1/liangzhen/jinhua_jilab_project/result/DNA_Amplicon/T1_in_vitro/EPC/R705'+'/'+innerBC+'_'+fq+'.fq','w+') as f:\n",
    "            f.writelines(reads_set)\n",
    "os.system('ls /syn1/liangzhen/jinhua_jilab_project/result/DNA_Amplicon/T1_in_vitro/EPC/R705/*.fq|xargs -I {} gzip {}')\n"
   ]
  },
  {
   "cell_type": "code",
   "execution_count": null,
   "id": "03914f14",
   "metadata": {},
   "outputs": [],
   "source": []
  },
  {
   "cell_type": "code",
   "execution_count": null,
   "id": "96c53f15",
   "metadata": {},
   "outputs": [],
   "source": []
  },
  {
   "cell_type": "markdown",
   "id": "3af81441",
   "metadata": {},
   "source": [
    "## 3T3 cell line"
   ]
  },
  {
   "cell_type": "code",
   "execution_count": 29,
   "id": "07e927e5",
   "metadata": {},
   "outputs": [
    {
     "name": "stdout",
     "output_type": "stream",
     "text": [
      "/syn1/liangzhen/jinhua_jilab_project/data/DNA_Amplicon/plasmid/s2164g01113_MCS-20240328-L-04-2024-04-061800/Sample_SQ24024300-YJH-cas9-62-R701/SQ24024300-YJH-cas9-62-R701_combined_{}.fastq.gz: Processed 1000000 reads in 11.078634977340698 seconds\n",
      "/syn1/liangzhen/jinhua_jilab_project/data/DNA_Amplicon/plasmid/s2164g01113_MCS-20240328-L-04-2024-04-061800/Sample_SQ24024300-YJH-cas9-62-R701/SQ24024300-YJH-cas9-62-R701_combined_{}.fastq.gz: Processed 2000000 reads in 21.584100008010864 seconds\n"
     ]
    },
    {
     "name": "stderr",
     "output_type": "stream",
     "text": [
      "rm: cannot remove ‘/syn1/liangzhen/jinhua_jilab_project/result/DNA_Amplicon/T1_in_vitro/3T3/R701/*.fq.gz’: No such file or directory\n"
     ]
    },
    {
     "data": {
      "text/plain": [
       "0"
      ]
     },
     "execution_count": 29,
     "metadata": {},
     "output_type": "execute_result"
    }
   ],
   "source": [
    "# R701\n",
    "sample_paths = {\n",
    "    'T1_in_vitro': {\n",
    "        'target_gene':[\n",
    "                       '/syn1/liangzhen/jinhua_jilab_project/data/DNA_Amplicon/plasmid/s2164g01113_MCS-20240328-L-04-2024-04-061800/Sample_SQ24024300-YJH-cas9-62-R701/SQ24024300-YJH-cas9-62-R701_combined_{}.fastq.gz',\n",
    "                       ]\n",
    "          }\n",
    "                }\n",
    "innerBC_ref = ['GTAGTC']\n",
    "innerBC_reads_count = get_innerBC_reads_count(sample_paths,innerBC_ref)\n",
    "\n",
    "os.system('rm /syn1/liangzhen/jinhua_jilab_project/result/DNA_Amplicon/T1_in_vitro/3T3/R701/*.fq.gz')\n",
    "for fq,pooled_reads in innerBC_reads_count.items():\n",
    "    for innerBC,reads_set in pooled_reads.items():\n",
    "        #print(innerBC+fq)\n",
    "        with open('/syn1/liangzhen/jinhua_jilab_project/result/DNA_Amplicon/T1_in_vitro/3T3/R701'+'/'+innerBC+'_'+fq+'.fq','w+') as f:\n",
    "            f.writelines(reads_set)\n",
    "os.system('ls /syn1/liangzhen/jinhua_jilab_project/result/DNA_Amplicon/T1_in_vitro/3T3/R701/*.fq|xargs -I {} gzip {}')\n",
    "\n"
   ]
  },
  {
   "cell_type": "code",
   "execution_count": 30,
   "id": "60d2cc02",
   "metadata": {},
   "outputs": [
    {
     "name": "stdout",
     "output_type": "stream",
     "text": [
      "/syn1/liangzhen/jinhua_jilab_project/data/DNA_Amplicon/plasmid/s2164g01113_MCS-20240328-L-04-2024-04-061800/Sample_SQ24024300-YJH-cas9-62-R709/SQ24024300-YJH-cas9-62-R709_combined_{}.fastq.gz: Processed 1000000 reads in 10.06537675857544 seconds\n",
      "/syn1/liangzhen/jinhua_jilab_project/data/DNA_Amplicon/plasmid/s2164g01113_MCS-20240328-L-04-2024-04-061800/Sample_SQ24024300-YJH-cas9-62-R709/SQ24024300-YJH-cas9-62-R709_combined_{}.fastq.gz: Processed 2000000 reads in 19.865294218063354 seconds\n",
      "/syn1/liangzhen/jinhua_jilab_project/data/DNA_Amplicon/plasmid/s2164g01113_MCS-20240328-L-04-2024-04-061800/Sample_SQ24024300-YJH-cas9-62-R709/SQ24024300-YJH-cas9-62-R709_combined_{}.fastq.gz: Processed 3000000 reads in 29.649571657180786 seconds\n",
      "/syn1/liangzhen/jinhua_jilab_project/data/DNA_Amplicon/plasmid/s2164g01113_MCS-20240328-L-04-2024-04-061800/Sample_SQ24024300-YJH-cas9-62-R709/SQ24024300-YJH-cas9-62-R709_combined_{}.fastq.gz: Processed 4000000 reads in 39.3673939704895 seconds\n",
      "/syn1/liangzhen/jinhua_jilab_project/data/DNA_Amplicon/plasmid/s2164g01113_MCS-20240328-L-04-2024-04-061800/Sample_SQ24024300-YJH-cas9-62-R709/SQ24024300-YJH-cas9-62-R709_combined_{}.fastq.gz: Processed 5000000 reads in 49.07711458206177 seconds\n",
      "/syn1/liangzhen/jinhua_jilab_project/data/DNA_Amplicon/plasmid/s2164g01113_MCS-20240328-L-04-2024-04-061800/Sample_SQ24024300-YJH-cas9-62-R709/SQ24024300-YJH-cas9-62-R709_combined_{}.fastq.gz: Processed 6000000 reads in 58.91252374649048 seconds\n",
      "/syn1/liangzhen/jinhua_jilab_project/data/DNA_Amplicon/plasmid/s2164g01113_MCS-20240328-L-04-2024-04-061800/Sample_SQ24024300-YJH-cas9-62-R709/SQ24024300-YJH-cas9-62-R709_combined_{}.fastq.gz: Processed 7000000 reads in 68.7092776298523 seconds\n",
      "/syn1/liangzhen/jinhua_jilab_project/data/DNA_Amplicon/plasmid/s2164g01113_MCS-20240328-L-04-2024-04-061800/Sample_SQ24024300-YJH-cas9-62-R709/SQ24024300-YJH-cas9-62-R709_combined_{}.fastq.gz: Processed 8000000 reads in 78.47819709777832 seconds\n",
      "/syn1/liangzhen/jinhua_jilab_project/data/DNA_Amplicon/plasmid/s2164g01113_MCS-20240328-L-04-2024-04-061800/Sample_SQ24024300-YJH-cas9-62-R709/SQ24024300-YJH-cas9-62-R709_combined_{}.fastq.gz: Processed 9000000 reads in 88.23688626289368 seconds\n",
      "/syn1/liangzhen/jinhua_jilab_project/data/DNA_Amplicon/plasmid/s2164g01113_MCS-20240328-L-04-2024-04-061800/Sample_SQ24024300-YJH-cas9-62-R709/SQ24024300-YJH-cas9-62-R709_combined_{}.fastq.gz: Processed 10000000 reads in 98.01379370689392 seconds\n",
      "/syn1/liangzhen/jinhua_jilab_project/data/DNA_Amplicon/plasmid/s2164g01113_MCS-20240328-L-04-2024-04-061800/Sample_SQ24024300-YJH-cas9-62-R709/SQ24024300-YJH-cas9-62-R709_combined_{}.fastq.gz: Processed 11000000 reads in 107.68758511543274 seconds\n",
      "/syn1/liangzhen/jinhua_jilab_project/data/DNA_Amplicon/plasmid/s2164g01113_MCS-20240328-L-04-2024-04-061800/Sample_SQ24024300-YJH-cas9-62-R709/SQ24024300-YJH-cas9-62-R709_combined_{}.fastq.gz: Processed 12000000 reads in 117.5967972278595 seconds\n",
      "/syn1/liangzhen/jinhua_jilab_project/data/DNA_Amplicon/plasmid/s2164g01113_MCS-20240328-L-04-2024-04-061800/Sample_SQ24024300-YJH-cas9-62-R709/SQ24024300-YJH-cas9-62-R709_combined_{}.fastq.gz: Processed 13000000 reads in 127.40466332435608 seconds\n",
      "/syn1/liangzhen/jinhua_jilab_project/data/DNA_Amplicon/plasmid/s2164g01113_MCS-20240328-L-04-2024-04-061800/Sample_SQ24024300-YJH-cas9-62-R709/SQ24024300-YJH-cas9-62-R709_combined_{}.fastq.gz: Processed 14000000 reads in 137.22205233573914 seconds\n",
      "/syn1/liangzhen/jinhua_jilab_project/data/DNA_Amplicon/plasmid/s2164g01113_MCS-20240328-L-04-2024-04-061800/Sample_SQ24024300-YJH-cas9-62-R709/SQ24024300-YJH-cas9-62-R709_combined_{}.fastq.gz: Processed 15000000 reads in 147.06695890426636 seconds\n"
     ]
    },
    {
     "name": "stderr",
     "output_type": "stream",
     "text": [
      "rm: cannot remove ‘/syn1/liangzhen/jinhua_jilab_project/result/DNA_Amplicon/T1_in_vitro/3T3/R709/*.fq.gz’: No such file or directory\n"
     ]
    },
    {
     "data": {
      "text/plain": [
       "0"
      ]
     },
     "execution_count": 30,
     "metadata": {},
     "output_type": "execute_result"
    }
   ],
   "source": [
    "# R709\n",
    "sample_paths = {\n",
    "    'T1_in_vitro': {\n",
    "        'target_gene':[\n",
    "                       '/syn1/liangzhen/jinhua_jilab_project/data/DNA_Amplicon/plasmid/s2164g01113_MCS-20240328-L-04-2024-04-061800/Sample_SQ24024300-YJH-cas9-62-R709/SQ24024300-YJH-cas9-62-R709_combined_{}.fastq.gz',\n",
    "                       ]\n",
    "          }\n",
    "                }\n",
    "innerBC_ref = ['GTAGTC','CTTGTA','CATCGA','GACCTA']\n",
    "innerBC_reads_count = get_innerBC_reads_count(sample_paths,innerBC_ref)\n",
    "\n",
    "os.system('rm /syn1/liangzhen/jinhua_jilab_project/result/DNA_Amplicon/T1_in_vitro/3T3/R709/*.fq.gz')\n",
    "for fq,pooled_reads in innerBC_reads_count.items():\n",
    "    for innerBC,reads_set in pooled_reads.items():\n",
    "        #print(innerBC+fq)\n",
    "        with open('/syn1/liangzhen/jinhua_jilab_project/result/DNA_Amplicon/T1_in_vitro/3T3/R709'+'/'+innerBC+'_'+fq+'.fq','w+') as f:\n",
    "            f.writelines(reads_set)\n",
    "os.system('ls /syn1/liangzhen/jinhua_jilab_project/result/DNA_Amplicon/T1_in_vitro/3T3/R709/*.fq|xargs -I {} gzip {}')\n",
    "\n"
   ]
  },
  {
   "cell_type": "code",
   "execution_count": 31,
   "id": "8d0fd22a",
   "metadata": {
    "scrolled": true
   },
   "outputs": [
    {
     "name": "stdout",
     "output_type": "stream",
     "text": [
      "/syn1/liangzhen/jinhua_jilab_project/data/DNA_Amplicon/plasmid/s2164g01113_MCS-20240328-L-04-2024-04-061800/Sample_SQ24024300-YJH-cas9-62-R705/SQ24024300-YJH-cas9-62-R705_combined_{}.fastq.gz: Processed 1000000 reads in 11.287111043930054 seconds\n",
      "/syn1/liangzhen/jinhua_jilab_project/data/DNA_Amplicon/plasmid/s2164g01113_MCS-20240328-L-04-2024-04-061800/Sample_SQ24024300-YJH-cas9-62-R705/SQ24024300-YJH-cas9-62-R705_combined_{}.fastq.gz: Processed 2000000 reads in 22.49531865119934 seconds\n",
      "/syn1/liangzhen/jinhua_jilab_project/data/DNA_Amplicon/plasmid/s2164g01113_MCS-20240328-L-04-2024-04-061800/Sample_SQ24024300-YJH-cas9-62-R705/SQ24024300-YJH-cas9-62-R705_combined_{}.fastq.gz: Processed 3000000 reads in 33.7679922580719 seconds\n",
      "/syn1/liangzhen/jinhua_jilab_project/data/DNA_Amplicon/plasmid/s2164g01113_MCS-20240328-L-04-2024-04-061800/Sample_SQ24024300-YJH-cas9-62-R705/SQ24024300-YJH-cas9-62-R705_combined_{}.fastq.gz: Processed 4000000 reads in 45.02293515205383 seconds\n",
      "/syn1/liangzhen/jinhua_jilab_project/data/DNA_Amplicon/plasmid/s2164g01113_MCS-20240328-L-04-2024-04-061800/Sample_SQ24024300-YJH-cas9-62-R705/SQ24024300-YJH-cas9-62-R705_combined_{}.fastq.gz: Processed 5000000 reads in 56.2173798084259 seconds\n",
      "/syn1/liangzhen/jinhua_jilab_project/data/DNA_Amplicon/plasmid/s2164g01113_MCS-20240328-L-04-2024-04-061800/Sample_SQ24024300-YJH-cas9-62-R705/SQ24024300-YJH-cas9-62-R705_combined_{}.fastq.gz: Processed 6000000 reads in 67.55195116996765 seconds\n",
      "/syn1/liangzhen/jinhua_jilab_project/data/DNA_Amplicon/plasmid/s2164g01113_MCS-20240328-L-04-2024-04-061800/Sample_SQ24024300-YJH-cas9-62-R705/SQ24024300-YJH-cas9-62-R705_combined_{}.fastq.gz: Processed 7000000 reads in 78.7477867603302 seconds\n",
      "/syn1/liangzhen/jinhua_jilab_project/data/DNA_Amplicon/plasmid/s2164g01113_MCS-20240328-L-04-2024-04-061800/Sample_SQ24024300-YJH-cas9-62-R705/SQ24024300-YJH-cas9-62-R705_combined_{}.fastq.gz: Processed 8000000 reads in 89.87192797660828 seconds\n",
      "/syn1/liangzhen/jinhua_jilab_project/data/DNA_Amplicon/plasmid/s2164g01113_MCS-20240328-L-04-2024-04-061800/Sample_SQ24024300-YJH-cas9-62-R705/SQ24024300-YJH-cas9-62-R705_combined_{}.fastq.gz: Processed 9000000 reads in 101.0747230052948 seconds\n",
      "/syn1/liangzhen/jinhua_jilab_project/data/DNA_Amplicon/plasmid/s2164g01113_MCS-20240328-L-04-2024-04-061800/Sample_SQ24024300-YJH-cas9-62-R705/SQ24024300-YJH-cas9-62-R705_combined_{}.fastq.gz: Processed 10000000 reads in 112.33398842811584 seconds\n",
      "/syn1/liangzhen/jinhua_jilab_project/data/DNA_Amplicon/plasmid/s2164g01113_MCS-20240328-L-04-2024-04-061800/Sample_SQ24024300-YJH-cas9-62-R705/SQ24024300-YJH-cas9-62-R705_combined_{}.fastq.gz: Processed 11000000 reads in 123.38487434387207 seconds\n",
      "/syn1/liangzhen/jinhua_jilab_project/data/DNA_Amplicon/plasmid/s2164g01113_MCS-20240328-L-04-2024-04-061800/Sample_SQ24024300-YJH-cas9-62-R705/SQ24024300-YJH-cas9-62-R705_combined_{}.fastq.gz: Processed 12000000 reads in 134.65134143829346 seconds\n",
      "/syn1/liangzhen/jinhua_jilab_project/data/DNA_Amplicon/plasmid/s2164g01113_MCS-20240328-L-04-2024-04-061800/Sample_SQ24024300-YJH-cas9-62-R705/SQ24024300-YJH-cas9-62-R705_combined_{}.fastq.gz: Processed 13000000 reads in 145.78717255592346 seconds\n",
      "/syn1/liangzhen/jinhua_jilab_project/data/DNA_Amplicon/plasmid/s2164g01113_MCS-20240328-L-04-2024-04-061800/Sample_SQ24024300-YJH-cas9-62-R705/SQ24024300-YJH-cas9-62-R705_combined_{}.fastq.gz: Processed 14000000 reads in 157.01753091812134 seconds\n",
      "/syn1/liangzhen/jinhua_jilab_project/data/DNA_Amplicon/plasmid/s2164g01113_MCS-20240328-L-04-2024-04-061800/Sample_SQ24024300-YJH-cas9-62-R705/SQ24024300-YJH-cas9-62-R705_combined_{}.fastq.gz: Processed 15000000 reads in 168.27803206443787 seconds\n",
      "/syn1/liangzhen/jinhua_jilab_project/data/DNA_Amplicon/plasmid/s2164g01113_MCS-20240328-L-04-2024-04-061800/Sample_SQ24024300-YJH-cas9-62-R705/SQ24024300-YJH-cas9-62-R705_combined_{}.fastq.gz: Processed 16000000 reads in 179.54790568351746 seconds\n",
      "/syn1/liangzhen/jinhua_jilab_project/data/DNA_Amplicon/plasmid/s2164g01113_MCS-20240328-L-04-2024-04-061800/Sample_SQ24024300-YJH-cas9-62-R705/SQ24024300-YJH-cas9-62-R705_combined_{}.fastq.gz: Processed 17000000 reads in 190.8240008354187 seconds\n",
      "/syn1/liangzhen/jinhua_jilab_project/data/DNA_Amplicon/plasmid/s2164g01113_MCS-20240328-L-04-2024-04-061800/Sample_SQ24024300-YJH-cas9-62-R705/SQ24024300-YJH-cas9-62-R705_combined_{}.fastq.gz: Processed 18000000 reads in 201.97938632965088 seconds\n",
      "/syn1/liangzhen/jinhua_jilab_project/data/DNA_Amplicon/plasmid/s2164g01113_MCS-20240328-L-04-2024-04-061800/Sample_SQ24024300-YJH-cas9-62-R705/SQ24024300-YJH-cas9-62-R705_combined_{}.fastq.gz: Processed 19000000 reads in 213.206116437912 seconds\n",
      "/syn1/liangzhen/jinhua_jilab_project/data/DNA_Amplicon/plasmid/s2164g01113_MCS-20240328-L-04-2024-04-061800/Sample_SQ24024300-YJH-cas9-62-R705/SQ24024300-YJH-cas9-62-R705_combined_{}.fastq.gz: Processed 20000000 reads in 224.38789415359497 seconds\n",
      "/syn1/liangzhen/jinhua_jilab_project/data/DNA_Amplicon/plasmid/s2164g01113_MCS-20240328-L-04-2024-04-061800/Sample_SQ24024300-YJH-cas9-62-R705/SQ24024300-YJH-cas9-62-R705_combined_{}.fastq.gz: Processed 21000000 reads in 235.66874051094055 seconds\n",
      "/syn1/liangzhen/jinhua_jilab_project/data/DNA_Amplicon/plasmid/s2164g01113_MCS-20240328-L-04-2024-04-061800/Sample_SQ24024300-YJH-cas9-62-R705/SQ24024300-YJH-cas9-62-R705_combined_{}.fastq.gz: Processed 22000000 reads in 246.94113969802856 seconds\n",
      "/syn1/liangzhen/jinhua_jilab_project/data/DNA_Amplicon/plasmid/s2164g01113_MCS-20240328-L-04-2024-04-061800/Sample_SQ24024300-YJH-cas9-62-R705/SQ24024300-YJH-cas9-62-R705_combined_{}.fastq.gz: Processed 23000000 reads in 258.21191787719727 seconds\n",
      "/syn1/liangzhen/jinhua_jilab_project/data/DNA_Amplicon/plasmid/s2164g01113_MCS-20240328-L-04-2024-04-061800/Sample_SQ24024300-YJH-cas9-62-R705/SQ24024300-YJH-cas9-62-R705_combined_{}.fastq.gz: Processed 24000000 reads in 269.5172061920166 seconds\n",
      "/syn1/liangzhen/jinhua_jilab_project/data/DNA_Amplicon/plasmid/s2164g01113_MCS-20240328-L-04-2024-04-061800/Sample_SQ24024300-YJH-cas9-62-R705/SQ24024300-YJH-cas9-62-R705_combined_{}.fastq.gz: Processed 25000000 reads in 280.6699562072754 seconds\n",
      "/syn1/liangzhen/jinhua_jilab_project/data/DNA_Amplicon/plasmid/s2164g01113_MCS-20240328-L-04-2024-04-061800/Sample_SQ24024300-YJH-cas9-62-R705/SQ24024300-YJH-cas9-62-R705_combined_{}.fastq.gz: Processed 26000000 reads in 291.92030239105225 seconds\n",
      "/syn1/liangzhen/jinhua_jilab_project/data/DNA_Amplicon/plasmid/s2164g01113_MCS-20240328-L-04-2024-04-061800/Sample_SQ24024300-YJH-cas9-62-R705/SQ24024300-YJH-cas9-62-R705_combined_{}.fastq.gz: Processed 27000000 reads in 303.11419773101807 seconds\n",
      "/syn1/liangzhen/jinhua_jilab_project/data/DNA_Amplicon/plasmid/s2164g01113_MCS-20240328-L-04-2024-04-061800/Sample_SQ24024300-YJH-cas9-62-R705/SQ24024300-YJH-cas9-62-R705_combined_{}.fastq.gz: Processed 28000000 reads in 314.40183091163635 seconds\n",
      "/syn1/liangzhen/jinhua_jilab_project/data/DNA_Amplicon/plasmid/s2164g01113_MCS-20240328-L-04-2024-04-061800/Sample_SQ24024300-YJH-cas9-62-R705/SQ24024300-YJH-cas9-62-R705_combined_{}.fastq.gz: Processed 29000000 reads in 325.70670652389526 seconds\n",
      "/syn1/liangzhen/jinhua_jilab_project/data/DNA_Amplicon/plasmid/s2164g01113_MCS-20240328-L-04-2024-04-061800/Sample_SQ24024300-YJH-cas9-62-R705/SQ24024300-YJH-cas9-62-R705_combined_{}.fastq.gz: Processed 30000000 reads in 336.9570167064667 seconds\n",
      "/syn1/liangzhen/jinhua_jilab_project/data/DNA_Amplicon/plasmid/s2164g01113_MCS-20240328-L-04-2024-04-061800/Sample_SQ24024300-YJH-cas9-62-R705/SQ24024300-YJH-cas9-62-R705_combined_{}.fastq.gz: Processed 31000000 reads in 348.2503924369812 seconds\n",
      "/syn1/liangzhen/jinhua_jilab_project/data/DNA_Amplicon/plasmid/s2164g01113_MCS-20240328-L-04-2024-04-061800/Sample_SQ24024300-YJH-cas9-62-R705/SQ24024300-YJH-cas9-62-R705_combined_{}.fastq.gz: Processed 32000000 reads in 359.4412546157837 seconds\n",
      "/syn1/liangzhen/jinhua_jilab_project/data/DNA_Amplicon/plasmid/s2164g01113_MCS-20240328-L-04-2024-04-061800/Sample_SQ24024300-YJH-cas9-62-R705/SQ24024300-YJH-cas9-62-R705_combined_{}.fastq.gz: Processed 33000000 reads in 370.6610269546509 seconds\n",
      "/syn1/liangzhen/jinhua_jilab_project/data/DNA_Amplicon/plasmid/s2164g01113_MCS-20240328-L-04-2024-04-061800/Sample_SQ24024300-YJH-cas9-62-R705/SQ24024300-YJH-cas9-62-R705_combined_{}.fastq.gz: Processed 34000000 reads in 381.91173911094666 seconds\n"
     ]
    },
    {
     "name": "stdout",
     "output_type": "stream",
     "text": [
      "/syn1/liangzhen/jinhua_jilab_project/data/DNA_Amplicon/plasmid/s2164g01113_MCS-20240328-L-04-2024-04-061800/Sample_SQ24024300-YJH-cas9-62-R705/SQ24024300-YJH-cas9-62-R705_combined_{}.fastq.gz: Processed 35000000 reads in 393.01869559288025 seconds\n",
      "/syn1/liangzhen/jinhua_jilab_project/data/DNA_Amplicon/plasmid/s2164g01113_MCS-20240328-L-04-2024-04-061800/Sample_SQ24024300-YJH-cas9-62-R705/SQ24024300-YJH-cas9-62-R705_combined_{}.fastq.gz: Processed 36000000 reads in 404.25015473365784 seconds\n",
      "/syn1/liangzhen/jinhua_jilab_project/data/DNA_Amplicon/plasmid/s2164g01113_MCS-20240328-L-04-2024-04-061800/Sample_SQ24024300-YJH-cas9-62-R705/SQ24024300-YJH-cas9-62-R705_combined_{}.fastq.gz: Processed 37000000 reads in 415.44397163391113 seconds\n",
      "/syn1/liangzhen/jinhua_jilab_project/data/DNA_Amplicon/plasmid/s2164g01113_MCS-20240328-L-04-2024-04-061800/Sample_SQ24024300-YJH-cas9-62-R705/SQ24024300-YJH-cas9-62-R705_combined_{}.fastq.gz: Processed 38000000 reads in 426.583580493927 seconds\n",
      "/syn1/liangzhen/jinhua_jilab_project/data/DNA_Amplicon/plasmid/s2164g01113_MCS-20240328-L-04-2024-04-061800/Sample_SQ24024300-YJH-cas9-62-R705/SQ24024300-YJH-cas9-62-R705_combined_{}.fastq.gz: Processed 39000000 reads in 437.91784739494324 seconds\n",
      "/syn1/liangzhen/jinhua_jilab_project/data/DNA_Amplicon/plasmid/s2164g01113_MCS-20240328-L-04-2024-04-061800/Sample_SQ24024300-YJH-cas9-62-R705/SQ24024300-YJH-cas9-62-R705_combined_{}.fastq.gz: Processed 40000000 reads in 449.1121883392334 seconds\n",
      "/syn1/liangzhen/jinhua_jilab_project/data/DNA_Amplicon/plasmid/s2164g01113_MCS-20240328-L-04-2024-04-061800/Sample_SQ24024300-YJH-cas9-62-R705/SQ24024300-YJH-cas9-62-R705_combined_{}.fastq.gz: Processed 41000000 reads in 460.3712728023529 seconds\n",
      "/syn1/liangzhen/jinhua_jilab_project/data/DNA_Amplicon/plasmid/s2164g01113_MCS-20240328-L-04-2024-04-061800/Sample_SQ24024300-YJH-cas9-62-R705/SQ24024300-YJH-cas9-62-R705_combined_{}.fastq.gz: Processed 42000000 reads in 471.6474370956421 seconds\n",
      "/syn1/liangzhen/jinhua_jilab_project/data/DNA_Amplicon/plasmid/s2164g01113_MCS-20240328-L-04-2024-04-061800/Sample_SQ24024300-YJH-cas9-62-R705/SQ24024300-YJH-cas9-62-R705_combined_{}.fastq.gz: Processed 43000000 reads in 482.8103709220886 seconds\n",
      "/syn1/liangzhen/jinhua_jilab_project/data/DNA_Amplicon/plasmid/s2164g01113_MCS-20240328-L-04-2024-04-061800/Sample_SQ24024300-YJH-cas9-62-R705/SQ24024300-YJH-cas9-62-R705_combined_{}.fastq.gz: Processed 44000000 reads in 494.196861743927 seconds\n",
      "/syn1/liangzhen/jinhua_jilab_project/data/DNA_Amplicon/plasmid/s2164g01113_MCS-20240328-L-04-2024-04-061800/Sample_SQ24024300-YJH-cas9-62-R705/SQ24024300-YJH-cas9-62-R705_combined_{}.fastq.gz: Processed 45000000 reads in 505.69090938568115 seconds\n",
      "/syn1/liangzhen/jinhua_jilab_project/data/DNA_Amplicon/plasmid/s2164g01113_MCS-20240328-L-04-2024-04-061800/Sample_SQ24024300-YJH-cas9-62-R705/SQ24024300-YJH-cas9-62-R705_combined_{}.fastq.gz: Processed 46000000 reads in 516.9863815307617 seconds\n",
      "/syn1/liangzhen/jinhua_jilab_project/data/DNA_Amplicon/plasmid/s2164g01113_MCS-20240328-L-04-2024-04-061800/Sample_SQ24024300-YJH-cas9-62-R705/SQ24024300-YJH-cas9-62-R705_combined_{}.fastq.gz: Processed 47000000 reads in 528.8506712913513 seconds\n",
      "/syn1/liangzhen/jinhua_jilab_project/data/DNA_Amplicon/plasmid/s2164g01113_MCS-20240328-L-04-2024-04-061800/Sample_SQ24024300-YJH-cas9-62-R705/SQ24024300-YJH-cas9-62-R705_combined_{}.fastq.gz: Processed 48000000 reads in 540.2204647064209 seconds\n",
      "/syn1/liangzhen/jinhua_jilab_project/data/DNA_Amplicon/plasmid/s2164g01113_MCS-20240328-L-04-2024-04-061800/Sample_SQ24024300-YJH-cas9-62-R705/SQ24024300-YJH-cas9-62-R705_combined_{}.fastq.gz: Processed 49000000 reads in 552.1327176094055 seconds\n",
      "/syn1/liangzhen/jinhua_jilab_project/data/DNA_Amplicon/plasmid/s2164g01113_MCS-20240328-L-04-2024-04-061800/Sample_SQ24024300-YJH-cas9-62-R705/SQ24024300-YJH-cas9-62-R705_combined_{}.fastq.gz: Processed 50000000 reads in 564.0072863101959 seconds\n",
      "/syn1/liangzhen/jinhua_jilab_project/data/DNA_Amplicon/plasmid/s2164g01113_MCS-20240328-L-04-2024-04-061800/Sample_SQ24024300-YJH-cas9-62-R705/SQ24024300-YJH-cas9-62-R705_combined_{}.fastq.gz: Processed 51000000 reads in 575.8889327049255 seconds\n",
      "/syn1/liangzhen/jinhua_jilab_project/data/DNA_Amplicon/plasmid/s2164g01113_MCS-20240328-L-04-2024-04-061800/Sample_SQ24024300-YJH-cas9-62-R705/SQ24024300-YJH-cas9-62-R705_combined_{}.fastq.gz: Processed 52000000 reads in 587.8248286247253 seconds\n",
      "/syn1/liangzhen/jinhua_jilab_project/data/DNA_Amplicon/plasmid/s2164g01113_MCS-20240328-L-04-2024-04-061800/Sample_SQ24024300-YJH-cas9-62-R705/SQ24024300-YJH-cas9-62-R705_combined_{}.fastq.gz: Processed 53000000 reads in 599.7442800998688 seconds\n",
      "/syn1/liangzhen/jinhua_jilab_project/data/DNA_Amplicon/plasmid/s2164g01113_MCS-20240328-L-04-2024-04-061800/Sample_SQ24024300-YJH-cas9-62-R705/SQ24024300-YJH-cas9-62-R705_combined_{}.fastq.gz: Processed 54000000 reads in 611.6131427288055 seconds\n",
      "/syn1/liangzhen/jinhua_jilab_project/data/DNA_Amplicon/plasmid/s2164g01113_MCS-20240328-L-04-2024-04-061800/Sample_SQ24024300-YJH-cas9-62-R705/SQ24024300-YJH-cas9-62-R705_combined_{}.fastq.gz: Processed 55000000 reads in 623.7337844371796 seconds\n",
      "/syn1/liangzhen/jinhua_jilab_project/data/DNA_Amplicon/plasmid/s2164g01113_MCS-20240328-L-04-2024-04-061800/Sample_SQ24024300-YJH-cas9-62-R705/SQ24024300-YJH-cas9-62-R705_combined_{}.fastq.gz: Processed 56000000 reads in 635.7522113323212 seconds\n",
      "/syn1/liangzhen/jinhua_jilab_project/data/DNA_Amplicon/plasmid/s2164g01113_MCS-20240328-L-04-2024-04-061800/Sample_SQ24024300-YJH-cas9-62-R705/SQ24024300-YJH-cas9-62-R705_combined_{}.fastq.gz: Processed 57000000 reads in 647.5861163139343 seconds\n",
      "/syn1/liangzhen/jinhua_jilab_project/data/DNA_Amplicon/plasmid/s2164g01113_MCS-20240328-L-04-2024-04-061800/Sample_SQ24024300-YJH-cas9-62-R705/SQ24024300-YJH-cas9-62-R705_combined_{}.fastq.gz: Processed 58000000 reads in 659.4163296222687 seconds\n",
      "/syn1/liangzhen/jinhua_jilab_project/data/DNA_Amplicon/plasmid/s2164g01113_MCS-20240328-L-04-2024-04-061800/Sample_SQ24024300-YJH-cas9-62-R705/SQ24024300-YJH-cas9-62-R705_combined_{}.fastq.gz: Processed 59000000 reads in 671.2142827510834 seconds\n",
      "/syn1/liangzhen/jinhua_jilab_project/data/DNA_Amplicon/plasmid/s2164g01113_MCS-20240328-L-04-2024-04-061800/Sample_SQ24024300-YJH-cas9-62-R705/SQ24024300-YJH-cas9-62-R705_combined_{}.fastq.gz: Processed 60000000 reads in 683.1074395179749 seconds\n",
      "/syn1/liangzhen/jinhua_jilab_project/data/DNA_Amplicon/plasmid/s2164g01113_MCS-20240328-L-04-2024-04-061800/Sample_SQ24024300-YJH-cas9-62-R705/SQ24024300-YJH-cas9-62-R705_combined_{}.fastq.gz: Processed 61000000 reads in 694.9571669101715 seconds\n",
      "/syn1/liangzhen/jinhua_jilab_project/data/DNA_Amplicon/plasmid/s2164g01113_MCS-20240328-L-04-2024-04-061800/Sample_SQ24024300-YJH-cas9-62-R705/SQ24024300-YJH-cas9-62-R705_combined_{}.fastq.gz: Processed 62000000 reads in 706.8551263809204 seconds\n"
     ]
    },
    {
     "name": "stderr",
     "output_type": "stream",
     "text": [
      "rm: cannot remove ‘/syn1/liangzhen/jinhua_jilab_project/result/DNA_Amplicon/T1_in_vitro/3T3/R705/*.fq.gz’: No such file or directory\n"
     ]
    },
    {
     "data": {
      "text/plain": [
       "0"
      ]
     },
     "execution_count": 31,
     "metadata": {},
     "output_type": "execute_result"
    }
   ],
   "source": [
    "# R705\n",
    "sample_paths = {\n",
    "    'T1_in_vitro': {\n",
    "        'target_gene':[\n",
    "                       '/syn1/liangzhen/jinhua_jilab_project/data/DNA_Amplicon/plasmid/s2164g01113_MCS-20240328-L-04-2024-04-061800/Sample_SQ24024300-YJH-cas9-62-R705/SQ24024300-YJH-cas9-62-R705_combined_{}.fastq.gz',\n",
    "                       ]\n",
    "          }\n",
    "                }\n",
    "innerBC_ref = ['ACGTAG','CAGATC','CTTGTA','TTAGGC','GGCTAC','CTGTGA','GTAGTC','GATCAG','GACCTA','ATCACG','TGCACT','GCACTA','CATCGA','TAGCTT','ACCAGT','CGATGT','GATGCA','TGTAGC']\n",
    "innerBC_reads_count = get_innerBC_reads_count(sample_paths,innerBC_ref)\n",
    "\n",
    "os.system('rm /syn1/liangzhen/jinhua_jilab_project/result/DNA_Amplicon/T1_in_vitro/3T3/R705/*.fq.gz')\n",
    "for fq,pooled_reads in innerBC_reads_count.items():\n",
    "    for innerBC,reads_set in pooled_reads.items():\n",
    "        #print(innerBC+fq)\n",
    "        with open('/syn1/liangzhen/jinhua_jilab_project/result/DNA_Amplicon/T1_in_vitro/3T3/R705'+'/'+innerBC+'_'+fq+'.fq','w+') as f:\n",
    "            f.writelines(reads_set)\n",
    "os.system('ls /syn1/liangzhen/jinhua_jilab_project/result/DNA_Amplicon/T1_in_vitro/3T3/R705/*.fq|xargs -I {} gzip {}')\n"
   ]
  },
  {
   "cell_type": "code",
   "execution_count": null,
   "id": "d1699248",
   "metadata": {},
   "outputs": [],
   "source": []
  }
 ],
 "metadata": {
  "kernelspec": {
   "display_name": "cassiopeia2",
   "language": "python",
   "name": "cassiopeia2"
  },
  "language_info": {
   "codemirror_mode": {
    "name": "ipython",
    "version": 3
   },
   "file_extension": ".py",
   "mimetype": "text/x-python",
   "name": "python",
   "nbconvert_exporter": "python",
   "pygments_lexer": "ipython3",
   "version": "3.8.18"
  },
  "toc": {
   "base_numbering": 1,
   "nav_menu": {},
   "number_sections": false,
   "sideBar": true,
   "skip_h1_title": false,
   "title_cell": "Table of Contents",
   "title_sidebar": "Contents",
   "toc_cell": false,
   "toc_position": {
    "height": "calc(100% - 180px)",
    "left": "10px",
    "top": "150px",
    "width": "164.969px"
   },
   "toc_section_display": true,
   "toc_window_display": true
  }
 },
 "nbformat": 4,
 "nbformat_minor": 5
}
