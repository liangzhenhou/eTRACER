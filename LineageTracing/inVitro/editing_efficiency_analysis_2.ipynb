{
 "cells": [
  {
   "cell_type": "code",
   "execution_count": null,
   "id": "da3c1427",
   "metadata": {},
   "outputs": [],
   "source": []
  },
  {
   "cell_type": "markdown",
   "id": "239ed51a",
   "metadata": {},
   "source": [
    "# EP indel size distribution"
   ]
  },
  {
   "cell_type": "code",
   "execution_count": 73,
   "id": "5facd0b9",
   "metadata": {},
   "outputs": [],
   "source": [
    "genes = ['Calr', 'Myl6', 'Calm2', 'Rpl39', 'Cfl1', 'Acta1', 'Hsp90b1', 'Calm1', 'Hint1', 'Btf3', 'Lgals1', 'Slc25a3', 'Tpt1', 'Hsp90ab1', 'Fth1']"
   ]
  },
  {
   "cell_type": "code",
   "execution_count": 74,
   "id": "83381b7f",
   "metadata": {},
   "outputs": [],
   "source": [
    "dirs = [ filename for filename in os.listdir('/syn1/liangzhen/jinhua_jilab_project/result/DNA_Amplicon/T1_in_vitro/EPC') if filename.endswith('Dox_r1') ]"
   ]
  },
  {
   "cell_type": "code",
   "execution_count": 75,
   "id": "aed3434d",
   "metadata": {},
   "outputs": [
    {
     "name": "stdout",
     "output_type": "stream",
     "text": [
      "CRISPResso_on_Calr_1_Dox_r1\n",
      "CRISPResso_on_Myl6_1_Dox_r1\n",
      "CRISPResso_on_Calm2_1_Dox_r1\n",
      "CRISPResso_on_Rpl39-1_Dox_r1\n",
      "CRISPResso_on_Cfl1_1_Dox_r1\n",
      "CRISPResso_on_Acta1_1_Dox_r1\n",
      "CRISPResso_on_Hsp90b1_1_Dox_r1\n",
      "CRISPResso_on_Calm1_1_Dox_r1\n",
      "CRISPResso_on_Hint1_2_Dox_r1\n",
      "CRISPResso_on_Btf3_2_Dox_r1\n"
     ]
    },
    {
     "name": "stderr",
     "output_type": "stream",
     "text": [
      "/tmp/ipykernel_82458/1003819869.py:24: FutureWarning: Calling int on a single element Series is deprecated and will raise a TypeError in the future. Use int(ser.iloc[0]) instead\n",
      "  noise_reads = int(deleted_noise_reads[deleted_noise_reads['n_deleted']==n]['#Reads'])\n",
      "/tmp/ipykernel_82458/1003819869.py:25: FutureWarning: Calling int on a single element Series is deprecated and will raise a TypeError in the future. Use int(ser.iloc[0]) instead\n",
      "  Deletion_histogram.loc[Deletion_histogram['size']==-n,'fq'] = int(Deletion_histogram.loc[Deletion_histogram['size']==-n,'fq'])-noise_reads\n",
      "/tmp/ipykernel_82458/1003819869.py:27: FutureWarning: Calling int on a single element Series is deprecated and will raise a TypeError in the future. Use int(ser.iloc[0]) instead\n",
      "  noise_reads = int(inserted_noise_reads[inserted_noise_reads['n_inserted']==n]['#Reads'])\n",
      "/tmp/ipykernel_82458/1003819869.py:28: FutureWarning: Calling int on a single element Series is deprecated and will raise a TypeError in the future. Use int(ser.iloc[0]) instead\n",
      "  Insertion_histogram.loc[Insertion_histogram['size']==n,'fq'] = int(Insertion_histogram.loc[Insertion_histogram['size']==n,'fq'])-noise_reads\n"
     ]
    },
    {
     "name": "stdout",
     "output_type": "stream",
     "text": [
      "CRISPResso_on_Lgals1-1_Dox_r1\n",
      "CRISPResso_on_Slc25a3-1_Dox_r1\n",
      "CRISPResso_on_Tpt1_1_Dox_r1\n",
      "CRISPResso_on_Hsp90ab1_1_Dox_r1\n",
      "CRISPResso_on_Fth1_2_Dox_r1\n"
     ]
    }
   ],
   "source": [
    "Indel_df = pd.DataFrame()\n",
    "for counter in range(0,15):\n",
    "    filename = [ filename for filename in dirs if genes[counter] in filename][0]\n",
    "    print(filename)\n",
    "    #break\n",
    "    Deletion_histogram_file = [filename for filename in os.listdir('/syn1/liangzhen/jinhua_jilab_project/result/DNA_Amplicon/T1_in_vitro/EPC/'+ filename) if filename.startswith('Deletion_histogram')][0]\n",
    "    Deletion_histogram = pd.read_csv('/syn1/liangzhen/jinhua_jilab_project/result/DNA_Amplicon/T1_in_vitro/EPC/'+ filename+'/'+Deletion_histogram_file,sep='\\t')\n",
    "    Deletion_histogram.columns = ['size','fq']\n",
    "    Deletion_histogram['type'] = 'Deletion'\n",
    "    Insertion_histogram_file = [filename for filename in os.listdir('/syn1/liangzhen/jinhua_jilab_project/result/DNA_Amplicon/T1_in_vitro/EPC/'+ filename) if filename.startswith('Insertion_histogram')][0]\n",
    "    Insertion_histogram = pd.read_csv('/syn1/liangzhen/jinhua_jilab_project/result/DNA_Amplicon/T1_in_vitro/EPC/'+ filename+'/'+Insertion_histogram_file,sep='\\t')\n",
    "    Insertion_histogram.columns = ['size','fq']\n",
    "    Insertion_histogram['type'] = 'Insertion'\n",
    "    \n",
    "    if genes[counter] == 'Btf3':\n",
    "        Btf3_Dox_free_AF = pd.read_csv('/syn1/liangzhen/jinhua_jilab_project/result/DNA_Amplicon/T1_in_vitro/EPC/R705/crispresso2/CRISPResso_on_Btf3_2_Dox-free_r1/Alleles_frequency_table_around_sgRNA_AGCCCCCGGACACTGCAGCT.txt',sep='\\t')\n",
    "        Btf3_Dox_AF = pd.read_csv('/syn1/liangzhen/jinhua_jilab_project/result/DNA_Amplicon/T1_in_vitro/EPC/R705/crispresso2/CRISPResso_on_Btf3_2_Dox_r1/Alleles_frequency_table_around_sgRNA_AGCCCCCGGACACTGCAGCT.txt',sep='\\t')\n",
    "        Btf3_Dox_AF_noise = Btf3_Dox_AF[Btf3_Dox_AF['Aligned_Sequence'].isin(Btf3_Dox_free_AF['Aligned_Sequence'])]\n",
    "        inserted_noise_reads = Btf3_Dox_AF_noise.groupby(['n_inserted']).sum(['#Reads']).reset_index()\n",
    "        inserted_noise_reads = inserted_noise_reads[inserted_noise_reads['n_inserted']!=0]\n",
    "        deleted_noise_reads = Btf3_Dox_AF_noise.groupby(['n_deleted']).sum(['#Reads']).reset_index()\n",
    "        deleted_noise_reads = deleted_noise_reads[deleted_noise_reads['n_deleted']!=0]\n",
    "        for n in deleted_noise_reads['n_deleted']:\n",
    "            noise_reads = int(deleted_noise_reads[deleted_noise_reads['n_deleted']==n]['#Reads'])\n",
    "            Deletion_histogram.loc[Deletion_histogram['size']==-n,'fq'] = int(Deletion_histogram.loc[Deletion_histogram['size']==-n,'fq'])-noise_reads\n",
    "        for n in inserted_noise_reads['n_inserted']:\n",
    "            noise_reads = int(inserted_noise_reads[inserted_noise_reads['n_inserted']==n]['#Reads'])\n",
    "            Insertion_histogram.loc[Insertion_histogram['size']==n,'fq'] = int(Insertion_histogram.loc[Insertion_histogram['size']==n,'fq'])-noise_reads\n",
    "\n",
    "    #if genes[counter] == 'Rpl39':\n",
    "        \n",
    "    Indel_df = pd.concat([Indel_df,Insertion_histogram,Deletion_histogram],axis=0)\n",
    "    #print(Insertion_histogram)"
   ]
  },
  {
   "cell_type": "code",
   "execution_count": 76,
   "id": "5c5778f3",
   "metadata": {},
   "outputs": [],
   "source": [
    "Indel_df = Indel_df[Indel_df['size']!=0]\n",
    "#Indel_df = Indel_df[abs(Indel_df['size'])<=30]\n",
    "Indel_df = Indel_df.groupby(['size','type'])['fq'].sum().reset_index()\n",
    "Indel_df['Proportion'] = Indel_df['fq'] / Indel_df['fq'].sum()\n",
    "Indel_df['size'] = Indel_df['size'].astype('int')\n",
    "Indel_df['Proportion'] = [ Proportion*(-1) if indel_size > 0 else Proportion for indel_size,Proportion in zip(Indel_df['size'],Indel_df['Proportion']) ]\n",
    "Indel_df['size'] = [ indel_size*(-1) if indel_size < 0 else indel_size for indel_size in Indel_df['size'] ]"
   ]
  },
  {
   "cell_type": "code",
   "execution_count": 77,
   "id": "04c3f60f",
   "metadata": {
    "scrolled": false
   },
   "outputs": [
    {
     "data": {
      "image/png": "[encoded data removed]",
      "text/plain": [
       "<Figure size 800x500 with 1 Axes>"
      ]
     },
     "metadata": {},
     "output_type": "display_data"
    }
   ],
   "source": [
    "colors =[ '#377eb8' if x > 0 else '#e41a1c' for x in Indel_df['Proportion']]\n",
    "plt.figure(figsize=(8, 5))\n",
    "plt.rcParams['pdf.fonttype'] = 42\n",
    "plt.gcf().set_size_inches(8, 5)\n",
    "sns.barplot(data=Indel_df,x='size', y='Proportion',hue='type', palette={'Insertion': '#377eb8', 'Deletion': '#e41a1c'}, dodge=False)\n",
    "plt.savefig('/syn1/liangzhen/jinhua_jilab_project/result/Figures/Figure1/In_vitro_EPC_indel_length_distribution.pdf')"
   ]
  },
  {
   "cell_type": "code",
   "execution_count": null,
   "id": "fc8814d4",
   "metadata": {},
   "outputs": [],
   "source": []
  },
  {
   "cell_type": "markdown",
   "id": "b1e97ae3",
   "metadata": {},
   "source": [
    "# 3T3 indel size distribution"
   ]
  },
  {
   "cell_type": "code",
   "execution_count": 16,
   "id": "cd53f442",
   "metadata": {},
   "outputs": [],
   "source": [
    "import pandas as pd\n",
    "import os"
   ]
  },
  {
   "cell_type": "code",
   "execution_count": 17,
   "id": "e9afaf77",
   "metadata": {},
   "outputs": [],
   "source": [
    "genes = ['Calr', 'Myl6', 'Calm2', 'Rpl39', 'Cfl1', 'Acta1', 'Hsp90b1', 'Calm1', 'Hint1', 'Btf3', 'Lgals1', 'Slc25a3', 'Tpt1', 'Hsp90ab1', 'Fth1']"
   ]
  },
  {
   "cell_type": "code",
   "execution_count": 18,
   "id": "ef614fae",
   "metadata": {},
   "outputs": [],
   "source": [
    "dirs = [ filename for filename in os.listdir('/syn1/liangzhen/jinhua_jilab_project/result/DNA_Amplicon/T1_in_vitro/3T3') if filename.endswith('Dox_r1') ]"
   ]
  },
  {
   "cell_type": "code",
   "execution_count": 19,
   "id": "da29450d",
   "metadata": {},
   "outputs": [
    {
     "data": {
      "text/plain": [
       "['CRISPResso_on_Fth1_2_Dox_r1',\n",
       " 'CRISPResso_on_Btf3_2_Dox_r1',\n",
       " 'CRISPResso_on_Myl6_1_Dox_r1',\n",
       " 'CRISPResso_on_Hint1_2_Dox_r1',\n",
       " 'CRISPResso_on_Hsp90ab1_1_Dox_r1',\n",
       " 'CRISPResso_on_Calm2_1_Dox_r1',\n",
       " 'CRISPResso_on_Lgals1-1_Dox_r1',\n",
       " 'CRISPResso_on_Acta1_1_Dox_r1',\n",
       " 'CRISPResso_on_Slc25a3-1_Dox_r1',\n",
       " 'CRISPResso_on_Tpt1_1_Dox_r1',\n",
       " 'CRISPResso_on_Calm1_1_Dox_r1',\n",
       " 'CRISPResso_on_Hsp90b1_1_Dox_r1',\n",
       " 'CRISPResso_on_Calr_1_Dox_r1',\n",
       " 'CRISPResso_on_Cfl1_1_Dox_r1',\n",
       " 'CRISPResso_on_Rpl39-1_Dox_r1']"
      ]
     },
     "execution_count": 19,
     "metadata": {},
     "output_type": "execute_result"
    }
   ],
   "source": [
    "dirs"
   ]
  },
  {
   "cell_type": "code",
   "execution_count": 20,
   "id": "7b5de6c6",
   "metadata": {
    "scrolled": true
   },
   "outputs": [
    {
     "name": "stdout",
     "output_type": "stream",
     "text": [
      "CRISPResso_on_Calr_1_Dox_r1\n",
      "CRISPResso_on_Myl6_1_Dox_r1\n",
      "CRISPResso_on_Calm2_1_Dox_r1\n",
      "CRISPResso_on_Rpl39-1_Dox_r1\n",
      "CRISPResso_on_Cfl1_1_Dox_r1\n",
      "CRISPResso_on_Acta1_1_Dox_r1\n",
      "CRISPResso_on_Hsp90b1_1_Dox_r1\n",
      "CRISPResso_on_Calm1_1_Dox_r1\n",
      "CRISPResso_on_Hint1_2_Dox_r1\n",
      "CRISPResso_on_Btf3_2_Dox_r1\n"
     ]
    },
    {
     "name": "stderr",
     "output_type": "stream",
     "text": [
      "/tmp/ipykernel_277949/745985375.py:24: FutureWarning: Calling int on a single element Series is deprecated and will raise a TypeError in the future. Use int(ser.iloc[0]) instead\n",
      "  noise_reads = int(deleted_noise_reads[deleted_noise_reads['n_deleted']==n]['#Reads'])\n",
      "/tmp/ipykernel_277949/745985375.py:25: FutureWarning: Calling int on a single element Series is deprecated and will raise a TypeError in the future. Use int(ser.iloc[0]) instead\n",
      "  Deletion_histogram.loc[Deletion_histogram['size']==-n,'fq'] = int(Deletion_histogram.loc[Deletion_histogram['size']==-n,'fq'])-noise_reads\n",
      "/tmp/ipykernel_277949/745985375.py:27: FutureWarning: Calling int on a single element Series is deprecated and will raise a TypeError in the future. Use int(ser.iloc[0]) instead\n",
      "  noise_reads = int(inserted_noise_reads[inserted_noise_reads['n_inserted']==n]['#Reads'])\n",
      "/tmp/ipykernel_277949/745985375.py:28: FutureWarning: Calling int on a single element Series is deprecated and will raise a TypeError in the future. Use int(ser.iloc[0]) instead\n",
      "  Insertion_histogram.loc[Insertion_histogram['size']==n,'fq'] = int(Insertion_histogram.loc[Insertion_histogram['size']==n,'fq'])-noise_reads\n"
     ]
    },
    {
     "name": "stdout",
     "output_type": "stream",
     "text": [
      "CRISPResso_on_Lgals1-1_Dox_r1\n",
      "CRISPResso_on_Slc25a3-1_Dox_r1\n",
      "CRISPResso_on_Tpt1_1_Dox_r1\n",
      "CRISPResso_on_Hsp90ab1_1_Dox_r1\n",
      "CRISPResso_on_Fth1_2_Dox_r1\n"
     ]
    },
    {
     "name": "stderr",
     "output_type": "stream",
     "text": [
      "/tmp/ipykernel_277949/745985375.py:39: FutureWarning: Calling int on a single element Series is deprecated and will raise a TypeError in the future. Use int(ser.iloc[0]) instead\n",
      "  noise_reads = int(deleted_noise_reads[deleted_noise_reads['n_deleted']==n]['#Reads'])\n",
      "/tmp/ipykernel_277949/745985375.py:40: FutureWarning: Calling int on a single element Series is deprecated and will raise a TypeError in the future. Use int(ser.iloc[0]) instead\n",
      "  Deletion_histogram.loc[Deletion_histogram['size']==-n,'fq'] = int(Deletion_histogram.loc[Deletion_histogram['size']==-n,'fq'])-noise_reads\n",
      "/tmp/ipykernel_277949/745985375.py:42: FutureWarning: Calling int on a single element Series is deprecated and will raise a TypeError in the future. Use int(ser.iloc[0]) instead\n",
      "  noise_reads = int(inserted_noise_reads[inserted_noise_reads['n_inserted']==n]['#Reads'])\n",
      "/tmp/ipykernel_277949/745985375.py:43: FutureWarning: Calling int on a single element Series is deprecated and will raise a TypeError in the future. Use int(ser.iloc[0]) instead\n",
      "  Insertion_histogram.loc[Insertion_histogram['size']==n,'fq'] = int(Insertion_histogram.loc[Insertion_histogram['size']==n,'fq'])-noise_reads\n"
     ]
    }
   ],
   "source": [
    "Indel_df = pd.DataFrame()\n",
    "for counter in range(0,15):\n",
    "    filename = [ filename for filename in dirs if genes[counter] in filename][0]\n",
    "    print(filename)\n",
    "    #break\n",
    "    Deletion_histogram_file = [filename for filename in os.listdir('/syn1/liangzhen/jinhua_jilab_project/result/DNA_Amplicon/T1_in_vitro/3T3/'+ filename) if filename.startswith('Deletion_histogram')][0]\n",
    "    Deletion_histogram = pd.read_csv('/syn1/liangzhen/jinhua_jilab_project/result/DNA_Amplicon/T1_in_vitro/3T3/'+ filename+'/'+Deletion_histogram_file,sep='\\t')\n",
    "    Deletion_histogram.columns = ['size','fq']\n",
    "    Deletion_histogram['type'] = 'Deletion'\n",
    "    Insertion_histogram_file = [filename for filename in os.listdir('/syn1/liangzhen/jinhua_jilab_project/result/DNA_Amplicon/T1_in_vitro/3T3/'+ filename) if filename.startswith('Insertion_histogram')][0]\n",
    "    Insertion_histogram = pd.read_csv('/syn1/liangzhen/jinhua_jilab_project/result/DNA_Amplicon/T1_in_vitro/3T3/'+ filename+'/'+Insertion_histogram_file,sep='\\t')\n",
    "    Insertion_histogram.columns = ['size','fq']\n",
    "    Insertion_histogram['type'] = 'Insertion'\n",
    "    \n",
    "    if genes[counter] == 'Btf3':\n",
    "        Btf3_Dox_free_AF = pd.read_csv('/syn1/liangzhen/jinhua_jilab_project/result/DNA_Amplicon/T1_in_vitro/3T3/R705/crispresso2/CRISPResso_on_Btf3_2_Dox-free_r1/Alleles_frequency_table_around_sgRNA_AGCCCCCGGACACTGCAGCT.txt',sep='\\t')\n",
    "        Btf3_Dox_AF = pd.read_csv('/syn1/liangzhen/jinhua_jilab_project/result/DNA_Amplicon/T1_in_vitro/3T3/R705/crispresso2/CRISPResso_on_Btf3_2_Dox_r1/Alleles_frequency_table_around_sgRNA_AGCCCCCGGACACTGCAGCT.txt',sep='\\t')\n",
    "        Btf3_Dox_AF_noise = Btf3_Dox_AF[Btf3_Dox_AF['Aligned_Sequence'].isin(Btf3_Dox_free_AF['Aligned_Sequence'])]\n",
    "        inserted_noise_reads = Btf3_Dox_AF_noise.groupby(['n_inserted']).sum(['#Reads']).reset_index()\n",
    "        inserted_noise_reads = inserted_noise_reads[inserted_noise_reads['n_inserted']!=0]\n",
    "        deleted_noise_reads = Btf3_Dox_AF_noise.groupby(['n_deleted']).sum(['#Reads']).reset_index()\n",
    "        deleted_noise_reads = deleted_noise_reads[deleted_noise_reads['n_deleted']!=0]\n",
    "        for n in deleted_noise_reads['n_deleted']:\n",
    "            noise_reads = int(deleted_noise_reads[deleted_noise_reads['n_deleted']==n]['#Reads'])\n",
    "            Deletion_histogram.loc[Deletion_histogram['size']==-n,'fq'] = int(Deletion_histogram.loc[Deletion_histogram['size']==-n,'fq'])-noise_reads\n",
    "        for n in inserted_noise_reads['n_inserted']:\n",
    "            noise_reads = int(inserted_noise_reads[inserted_noise_reads['n_inserted']==n]['#Reads'])\n",
    "            Insertion_histogram.loc[Insertion_histogram['size']==n,'fq'] = int(Insertion_histogram.loc[Insertion_histogram['size']==n,'fq'])-noise_reads\n",
    "\n",
    "    if genes[counter] == 'Tpt1':\n",
    "        Tpt1_Dox_free_AF = pd.read_csv('/syn1/liangzhen/jinhua_jilab_project/result/DNA_Amplicon/T1_in_vitro/3T3/R705/crispresso2/CRISPResso_on_Tpt1_1_Dox-free_r1/Alleles_frequency_table_around_sgRNA_TGATTTATTTGGAGTGGTGG.txt',sep='\\t')\n",
    "        Tpt1_Dox_AF = pd.read_csv('/syn1/liangzhen/jinhua_jilab_project/result/DNA_Amplicon/T1_in_vitro/3T3/R705/crispresso2/CRISPResso_on_Tpt1_1_Dox_r1/Alleles_frequency_table_around_sgRNA_TGATTTATTTGGAGTGGTGG.txt',sep='\\t')\n",
    "        Tpt1_Dox_AF_noise = Tpt1_Dox_AF[Tpt1_Dox_AF['Aligned_Sequence'].isin(Tpt1_Dox_free_AF['Aligned_Sequence'])]\n",
    "        inserted_noise_reads = Tpt1_Dox_AF_noise.groupby(['n_inserted']).sum(['#Reads']).reset_index()\n",
    "        inserted_noise_reads = inserted_noise_reads[inserted_noise_reads['n_inserted']!=0]\n",
    "        deleted_noise_reads = Tpt1_Dox_AF_noise.groupby(['n_deleted']).sum(['#Reads']).reset_index()\n",
    "        deleted_noise_reads = deleted_noise_reads[deleted_noise_reads['n_deleted']!=0]\n",
    "        for n in deleted_noise_reads['n_deleted']:\n",
    "            noise_reads = int(deleted_noise_reads[deleted_noise_reads['n_deleted']==n]['#Reads'])\n",
    "            Deletion_histogram.loc[Deletion_histogram['size']==-n,'fq'] = int(Deletion_histogram.loc[Deletion_histogram['size']==-n,'fq'])-noise_reads\n",
    "        for n in inserted_noise_reads['n_inserted']:\n",
    "            noise_reads = int(inserted_noise_reads[inserted_noise_reads['n_inserted']==n]['#Reads'])\n",
    "            Insertion_histogram.loc[Insertion_histogram['size']==n,'fq'] = int(Insertion_histogram.loc[Insertion_histogram['size']==n,'fq'])-noise_reads\n",
    "    \n",
    "    Indel_df = pd.concat([Indel_df,Insertion_histogram,Deletion_histogram],axis=0)\n",
    "    #print(Insertion_histogram)"
   ]
  },
  {
   "cell_type": "code",
   "execution_count": null,
   "id": "d457f256",
   "metadata": {},
   "outputs": [],
   "source": []
  },
  {
   "cell_type": "code",
   "execution_count": 21,
   "id": "f106cee6",
   "metadata": {},
   "outputs": [],
   "source": [
    "Indel_df = Indel_df[Indel_df['size']!=0]\n",
    "#Indel_df = Indel_df[abs(Indel_df['size'])<=30]\n",
    "Indel_df = Indel_df.groupby(['size','type'])['fq'].sum().reset_index()\n",
    "Indel_df['Proportion'] = Indel_df['fq'] / Indel_df['fq'].sum()\n",
    "Indel_df['size'] = Indel_df['size'].astype('int')\n",
    "Indel_df['Proportion'] = [ Proportion*(-1) if indel_size > 0 else Proportion for indel_size,Proportion in zip(Indel_df['size'],Indel_df['Proportion']) ]\n",
    "Indel_df['size'] = [ indel_size*(-1) if indel_size < 0 else indel_size for indel_size in Indel_df['size'] ]"
   ]
  },
  {
   "cell_type": "code",
   "execution_count": 22,
   "id": "21ca92e2",
   "metadata": {},
   "outputs": [
    {
     "data": {
      "image/png": "[encoded data removed]",
      "text/plain": [
       "<Figure size 800x500 with 1 Axes>"
      ]
     },
     "metadata": {},
     "output_type": "display_data"
    }
   ],
   "source": [
    "colors =[ '#377eb8' if x > 0 else '#e41a1c' for x in Indel_df['Proportion']]\n",
    "plt.figure(figsize=(8, 5))\n",
    "plt.rcParams['pdf.fonttype'] = 42\n",
    "plt.gcf().set_size_inches(8, 5)\n",
    "sns.barplot(data=Indel_df,x='size', y='Proportion',hue='type', palette={'Insertion': '#377eb8', 'Deletion': '#e41a1c'}, dodge=False)\n",
    "plt.savefig('/syn1/liangzhen/jinhua_jilab_project/result/Figures/Figure1/In_vitro_3T3_indel_length_distribution.pdf')"
   ]
  },
  {
   "cell_type": "code",
   "execution_count": null,
   "id": "66725b41",
   "metadata": {},
   "outputs": [],
   "source": []
  },
  {
   "cell_type": "markdown",
   "id": "e6b1bcff",
   "metadata": {},
   "source": [
    "# eidted reads VS evolving barcode (EP)"
   ]
  },
  {
   "cell_type": "code",
   "execution_count": 64,
   "id": "21c8de72",
   "metadata": {},
   "outputs": [],
   "source": [
    "import os\n",
    "import seaborn\n",
    "import pandas as pd\n",
    "import matplotlib.pyplot as plt\n",
    "import seaborn as sns\n",
    "from scipy import stats"
   ]
  },
  {
   "cell_type": "code",
   "execution_count": 65,
   "id": "d0e4c741",
   "metadata": {},
   "outputs": [],
   "source": [
    "main_dir = '/syn1/liangzhen/jinhua_jilab_project/result/DNA_Amplicon/T1_in_vitro/EPC_downsampling'"
   ]
  },
  {
   "cell_type": "code",
   "execution_count": 66,
   "id": "527efae4",
   "metadata": {},
   "outputs": [],
   "source": [
    "proportion_dirs = ['0.1','0.2','0.3','0.4','0.5','0.6','0.7','0.8','0.9','1']"
   ]
  },
  {
   "cell_type": "code",
   "execution_count": 67,
   "id": "ff6614c0",
   "metadata": {},
   "outputs": [],
   "source": [
    "proportion_dirs = ['1']"
   ]
  },
  {
   "cell_type": "code",
   "execution_count": 68,
   "id": "730cc8b2",
   "metadata": {},
   "outputs": [],
   "source": [
    "Allele_number_list = []\n",
    "proportion_list = []\n",
    "edited_reads_list = []\n",
    "gene_list = []\n",
    "edited_ratio_list = []\n",
    "for proportion_dir in proportion_dirs:\n",
    "    for index in ['R701','R705','R709']:\n",
    "        crispresso2_dir = main_dir + '/' + proportion_dir + '/' + index + '/' + 'crispresso2'\n",
    "        gene_dirs = [ filename for filename in os.listdir(crispresso2_dir) if filename.endswith('Dox_r1') ]\n",
    "        for gene_dir in gene_dirs:\n",
    "            if 'Btf3' in gene_dir:\n",
    "                Btf3_Dox_free_AF = pd.read_csv('/syn1/liangzhen/jinhua_jilab_project/result/DNA_Amplicon/T1_in_vitro/EPC/R705/crispresso2/CRISPResso_on_Btf3_2_Dox-free_r1/Alleles_frequency_table_around_sgRNA_AGCCCCCGGACACTGCAGCT.txt',sep='\\t')\n",
    "                Btf3_Dox_AF = pd.read_csv('/syn1/liangzhen/jinhua_jilab_project/result/DNA_Amplicon/T1_in_vitro/EPC/R705/crispresso2/CRISPResso_on_Btf3_2_Dox_r1/Alleles_frequency_table_around_sgRNA_AGCCCCCGGACACTGCAGCT.txt',sep='\\t')\n",
    "                Alleles_frequency_table = Btf3_Dox_AF[~Btf3_Dox_AF['Aligned_Sequence'].isin(Btf3_Dox_free_AF['Aligned_Sequence'])]\n",
    "            else:    \n",
    "                Alleles_file = [filename for filename in os.listdir(crispresso2_dir + '/' + gene_dir) if filename.startswith('Alleles_frequency_table_around')][0]\n",
    "                Alleles_frequency_table = pd.read_csv(crispresso2_dir + '/' + gene_dir + '/' + Alleles_file,sep='\\t')\n",
    "            Allele_number = Alleles_frequency_table[(Alleles_frequency_table['Unedited']==False) &(Alleles_frequency_table['#Reads']>10)].shape[0]\n",
    "            Allele_number_list.append(Allele_number)\n",
    "            edited_reads = Alleles_frequency_table[(Alleles_frequency_table['Unedited']==False) &(Alleles_frequency_table['#Reads']>10)]['#Reads'].sum()\n",
    "            edited_reads_list.append(edited_reads)\n",
    "            gene = gene_dir.split('_')[2].split('-')[0]\n",
    "            gene_list.append(gene)\n",
    "            proportion_list.append(proportion_dir)\n",
    "            edited_ratio = Alleles_frequency_table[(Alleles_frequency_table['Unedited']==False) &(Alleles_frequency_table['#Reads']>10)]['%Reads'].sum()/100\n",
    "            edited_ratio_list.append(edited_ratio)\n"
   ]
  },
  {
   "cell_type": "code",
   "execution_count": 69,
   "id": "74ab71ea",
   "metadata": {
    "scrolled": true
   },
   "outputs": [
    {
     "data": {
      "text/html": [
       "<div>\n",
       "<style scoped>\n",
       "    .dataframe tbody tr th:only-of-type {\n",
       "        vertical-align: middle;\n",
       "    }\n",
       "\n",
       "    .dataframe tbody tr th {\n",
       "        vertical-align: top;\n",
       "    }\n",
       "\n",
       "    .dataframe thead th {\n",
       "        text-align: right;\n",
       "    }\n",
       "</style>\n",
       "<table border=\"1\" class=\"dataframe\">\n",
       "  <thead>\n",
       "    <tr style=\"text-align: right;\">\n",
       "      <th></th>\n",
       "      <th>Allele_number</th>\n",
       "      <th>edited_reads</th>\n",
       "      <th>gene</th>\n",
       "      <th>proportion</th>\n",
       "      <th>edited_ratio</th>\n",
       "    </tr>\n",
       "  </thead>\n",
       "  <tbody>\n",
       "    <tr>\n",
       "      <th>0</th>\n",
       "      <td>1424</td>\n",
       "      <td>1529643</td>\n",
       "      <td>Rpl39</td>\n",
       "      <td>1</td>\n",
       "      <td>0.344176</td>\n",
       "    </tr>\n",
       "    <tr>\n",
       "      <th>1</th>\n",
       "      <td>121</td>\n",
       "      <td>37111</td>\n",
       "      <td>Btf3</td>\n",
       "      <td>1</td>\n",
       "      <td>0.006528</td>\n",
       "    </tr>\n",
       "    <tr>\n",
       "      <th>2</th>\n",
       "      <td>1502</td>\n",
       "      <td>1687025</td>\n",
       "      <td>Myl6</td>\n",
       "      <td>1</td>\n",
       "      <td>0.467738</td>\n",
       "    </tr>\n",
       "    <tr>\n",
       "      <th>3</th>\n",
       "      <td>856</td>\n",
       "      <td>1057024</td>\n",
       "      <td>Hint1</td>\n",
       "      <td>1</td>\n",
       "      <td>0.381981</td>\n",
       "    </tr>\n",
       "    <tr>\n",
       "      <th>4</th>\n",
       "      <td>377</td>\n",
       "      <td>477331</td>\n",
       "      <td>Calm2</td>\n",
       "      <td>1</td>\n",
       "      <td>0.124524</td>\n",
       "    </tr>\n",
       "    <tr>\n",
       "      <th>5</th>\n",
       "      <td>557</td>\n",
       "      <td>549117</td>\n",
       "      <td>Lgals1</td>\n",
       "      <td>1</td>\n",
       "      <td>0.136416</td>\n",
       "    </tr>\n",
       "    <tr>\n",
       "      <th>6</th>\n",
       "      <td>974</td>\n",
       "      <td>934519</td>\n",
       "      <td>Acta1</td>\n",
       "      <td>1</td>\n",
       "      <td>0.955611</td>\n",
       "    </tr>\n",
       "    <tr>\n",
       "      <th>7</th>\n",
       "      <td>252</td>\n",
       "      <td>268497</td>\n",
       "      <td>Slc25a3</td>\n",
       "      <td>1</td>\n",
       "      <td>0.086877</td>\n",
       "    </tr>\n",
       "    <tr>\n",
       "      <th>8</th>\n",
       "      <td>889</td>\n",
       "      <td>1037714</td>\n",
       "      <td>Tpt1</td>\n",
       "      <td>1</td>\n",
       "      <td>0.303914</td>\n",
       "    </tr>\n",
       "    <tr>\n",
       "      <th>9</th>\n",
       "      <td>157</td>\n",
       "      <td>168108</td>\n",
       "      <td>Calm1</td>\n",
       "      <td>1</td>\n",
       "      <td>0.079833</td>\n",
       "    </tr>\n",
       "    <tr>\n",
       "      <th>10</th>\n",
       "      <td>2360</td>\n",
       "      <td>4045930</td>\n",
       "      <td>Hsp90b1</td>\n",
       "      <td>1</td>\n",
       "      <td>0.958690</td>\n",
       "    </tr>\n",
       "    <tr>\n",
       "      <th>11</th>\n",
       "      <td>3236</td>\n",
       "      <td>3334107</td>\n",
       "      <td>Calr</td>\n",
       "      <td>1</td>\n",
       "      <td>0.818997</td>\n",
       "    </tr>\n",
       "    <tr>\n",
       "      <th>12</th>\n",
       "      <td>1858</td>\n",
       "      <td>1731045</td>\n",
       "      <td>Cfl1</td>\n",
       "      <td>1</td>\n",
       "      <td>0.500672</td>\n",
       "    </tr>\n",
       "    <tr>\n",
       "      <th>13</th>\n",
       "      <td>892</td>\n",
       "      <td>954877</td>\n",
       "      <td>Fth1</td>\n",
       "      <td>1</td>\n",
       "      <td>0.771266</td>\n",
       "    </tr>\n",
       "    <tr>\n",
       "      <th>14</th>\n",
       "      <td>1181</td>\n",
       "      <td>1545917</td>\n",
       "      <td>Hsp90ab1</td>\n",
       "      <td>1</td>\n",
       "      <td>0.798508</td>\n",
       "    </tr>\n",
       "  </tbody>\n",
       "</table>\n",
       "</div>"
      ],
      "text/plain": [
       "    Allele_number  edited_reads      gene proportion  edited_ratio\n",
       "0            1424       1529643     Rpl39          1      0.344176\n",
       "1             121         37111      Btf3          1      0.006528\n",
       "2            1502       1687025      Myl6          1      0.467738\n",
       "3             856       1057024     Hint1          1      0.381981\n",
       "4             377        477331     Calm2          1      0.124524\n",
       "5             557        549117    Lgals1          1      0.136416\n",
       "6             974        934519     Acta1          1      0.955611\n",
       "7             252        268497   Slc25a3          1      0.086877\n",
       "8             889       1037714      Tpt1          1      0.303914\n",
       "9             157        168108     Calm1          1      0.079833\n",
       "10           2360       4045930   Hsp90b1          1      0.958690\n",
       "11           3236       3334107      Calr          1      0.818997\n",
       "12           1858       1731045      Cfl1          1      0.500672\n",
       "13            892        954877      Fth1          1      0.771266\n",
       "14           1181       1545917  Hsp90ab1          1      0.798508"
      ]
     },
     "execution_count": 69,
     "metadata": {},
     "output_type": "execute_result"
    }
   ],
   "source": [
    "data = {'Allele_number':Allele_number_list,'edited_reads':edited_reads_list,'gene':gene_list,'proportion':proportion_list,'edited_ratio':edited_ratio_list}\n",
    "Allele_info = pd.DataFrame(data)\n",
    "Allele_info"
   ]
  },
  {
   "cell_type": "code",
   "execution_count": null,
   "id": "aec9fa18",
   "metadata": {},
   "outputs": [],
   "source": []
  },
  {
   "cell_type": "code",
   "execution_count": 18,
   "id": "fa9d2888",
   "metadata": {},
   "outputs": [
    {
     "data": {
      "text/plain": [
       "<Figure size 500x400 with 0 Axes>"
      ]
     },
     "metadata": {},
     "output_type": "display_data"
    },
    {
     "data": {
      "image/png": "[encoded data removed]",
      "text/plain": [
       "<Figure size 500x500 with 1 Axes>"
      ]
     },
     "metadata": {},
     "output_type": "display_data"
    }
   ],
   "source": [
    "Allele_info['edited_reads'] = Allele_info['edited_reads']/sum(Allele_info['edited_reads'])\n",
    "Allele_info['Allele_number'] = Allele_info['Allele_number']/sum(Allele_info['Allele_number'])\n",
    "plt.figure(figsize=(5, 4))\n",
    "plt.rcParams['pdf.fonttype'] = 42\n",
    "plt.gcf().set_size_inches(5, 4)\n",
    "\n",
    "slope, intercept, r_value, p_value, std_err = stats.linregress(Allele_info['edited_reads'], Allele_info['Allele_number'])\n",
    "r_squared, p_value = stats.spearmanr(Allele_info['edited_reads'], Allele_info['Allele_number'])\n",
    "p_value = f'p value = {p_value:.1e}'\n",
    "r_squared = f'R = {r_value:.2f}'\n",
    "#equation = f'y = {slope*1e6:.2f}x + {intercept:.2f}'\n",
    "\n",
    "\n",
    "sns.lmplot(data=Allele_info,x='edited_reads',y='Allele_number',lowess=False,ci=95,robust=True)\n",
    "for i in range(Allele_info.shape[0]):\n",
    "    plt.text(Allele_info['edited_reads'][i], Allele_info['Allele_number'][i], Allele_info['gene'][i], fontsize=8, ha='center', va='center')\n",
    "\n",
    "plt.text(0.1, 0.95, p_value, transform=plt.gca().transAxes, fontsize=10)\n",
    "plt.text(0.5, 0.95, r_squared, transform=plt.gca().transAxes, fontsize=10)    \n",
    "plt.ylabel('Normalized edited allele number')\n",
    "plt.xlabel('Normalized edited reads')\n",
    "plt.savefig('/syn1/liangzhen/jinhua_jilab_project/result/Figures/Figure1/edited_reads_VS_allele_number_EPC_ratio.pdf')"
   ]
  },
  {
   "cell_type": "code",
   "execution_count": null,
   "id": "79515dc8",
   "metadata": {},
   "outputs": [],
   "source": []
  },
  {
   "cell_type": "markdown",
   "id": "7da4eda0",
   "metadata": {},
   "source": [
    "# eidted reads VS evolving barcode (3T3)"
   ]
  },
  {
   "cell_type": "code",
   "execution_count": 32,
   "id": "c5fa66e4",
   "metadata": {},
   "outputs": [],
   "source": [
    "import os\n",
    "import seaborn\n",
    "import pandas as pd\n",
    "import matplotlib.pyplot as plt\n",
    "import seaborn as sns\n",
    "from scipy import stats"
   ]
  },
  {
   "cell_type": "code",
   "execution_count": 51,
   "id": "85d2d7a5",
   "metadata": {},
   "outputs": [],
   "source": [
    "main_dir = '/syn1/liangzhen/jinhua_jilab_project/result/DNA_Amplicon/T1_in_vitro/3T3/'"
   ]
  },
  {
   "cell_type": "code",
   "execution_count": 52,
   "id": "16d98cf0",
   "metadata": {},
   "outputs": [
    {
     "name": "stdout",
     "output_type": "stream",
     "text": [
      "Btf3\n",
      "Tpt1\n"
     ]
    }
   ],
   "source": [
    "Allele_number_list = []\n",
    "edited_reads_list = []\n",
    "gene_list = []\n",
    "edited_ratio_list = []\n",
    "for index in ['R701','R705','R709']:\n",
    "    crispresso2_dir = main_dir + '/' +  '/' + index + '/' + 'crispresso2'\n",
    "    gene_dirs = [ filename for filename in os.listdir(crispresso2_dir) if filename.endswith('Dox_r1') ]\n",
    "    for gene_dir in gene_dirs:\n",
    "        if 'Btf3' in gene_dir:\n",
    "            Btf3_Dox_free_AF = pd.read_csv('/syn1/liangzhen/jinhua_jilab_project/result/DNA_Amplicon/T1_in_vitro/3T3/R705/crispresso2/CRISPResso_on_Btf3_2_Dox-free_r1/Alleles_frequency_table_around_sgRNA_AGCCCCCGGACACTGCAGCT.txt',sep='\\t')\n",
    "            Btf3_Dox_AF = pd.read_csv('/syn1/liangzhen/jinhua_jilab_project/result/DNA_Amplicon/T1_in_vitro/3T3/R705/crispresso2/CRISPResso_on_Btf3_2_Dox_r1/Alleles_frequency_table_around_sgRNA_AGCCCCCGGACACTGCAGCT.txt',sep='\\t')\n",
    "            Alleles_frequency_table = Btf3_Dox_AF[~Btf3_Dox_AF['Aligned_Sequence'].isin(Btf3_Dox_free_AF['Aligned_Sequence'])]\n",
    "            print('Btf3')\n",
    "\n",
    "        elif 'Tpt1' in gene_dir: \n",
    "            Tpt1_Dox_free_AF = pd.read_csv('/syn1/liangzhen/jinhua_jilab_project/result/DNA_Amplicon/T1_in_vitro/3T3/R705/crispresso2/CRISPResso_on_Tpt1_1_Dox-free_r1/Alleles_frequency_table_around_sgRNA_TGATTTATTTGGAGTGGTGG.txt',sep='\\t')\n",
    "            Tpt1_Dox_AF = pd.read_csv('/syn1/liangzhen/jinhua_jilab_project/result/DNA_Amplicon/T1_in_vitro/3T3/R705/crispresso2/CRISPResso_on_Tpt1_1_Dox_r1/Alleles_frequency_table_around_sgRNA_TGATTTATTTGGAGTGGTGG.txt',sep='\\t')\n",
    "            Alleles_frequency_table = Tpt1_Dox_AF[~Tpt1_Dox_AF['Aligned_Sequence'].isin(Tpt1_Dox_free_AF['Aligned_Sequence'])]\n",
    "            print('Tpt1')\n",
    "        else:\n",
    "            Alleles_file = [filename for filename in os.listdir(crispresso2_dir + '/' + gene_dir) if filename.startswith('Alleles_frequency_table_around')][0]\n",
    "            Alleles_frequency_table = pd.read_csv(crispresso2_dir + '/' + gene_dir + '/' + Alleles_file,sep='\\t')\n",
    "        Allele_number = Alleles_frequency_table[(Alleles_frequency_table['Unedited']==False) &(Alleles_frequency_table['#Reads']>10)].shape[0]\n",
    "        Allele_number_list.append(Allele_number)\n",
    "        edited_reads = Alleles_frequency_table[(Alleles_frequency_table['Unedited']==False) &(Alleles_frequency_table['#Reads']>10)]['#Reads'].sum()\n",
    "        edited_reads_list.append(edited_reads)\n",
    "        gene = gene_dir.split('_')[2].split('-')[0]\n",
    "        gene_list.append(gene)\n",
    "        edited_ratio = Alleles_frequency_table[(Alleles_frequency_table['Unedited']==False) &(Alleles_frequency_table['#Reads']>10)]['%Reads'].sum()/100\n",
    "        edited_ratio_list.append(edited_ratio)\n"
   ]
  },
  {
   "cell_type": "code",
   "execution_count": 55,
   "id": "579b39bf",
   "metadata": {
    "scrolled": true
   },
   "outputs": [
    {
     "data": {
      "text/html": [
       "<div>\n",
       "<style scoped>\n",
       "    .dataframe tbody tr th:only-of-type {\n",
       "        vertical-align: middle;\n",
       "    }\n",
       "\n",
       "    .dataframe tbody tr th {\n",
       "        vertical-align: top;\n",
       "    }\n",
       "\n",
       "    .dataframe thead th {\n",
       "        text-align: right;\n",
       "    }\n",
       "</style>\n",
       "<table border=\"1\" class=\"dataframe\">\n",
       "  <thead>\n",
       "    <tr style=\"text-align: right;\">\n",
       "      <th></th>\n",
       "      <th>Allele_number</th>\n",
       "      <th>edited_reads</th>\n",
       "      <th>gene</th>\n",
       "      <th>edited_ratio</th>\n",
       "    </tr>\n",
       "  </thead>\n",
       "  <tbody>\n",
       "    <tr>\n",
       "      <th>0</th>\n",
       "      <td>434</td>\n",
       "      <td>342458</td>\n",
       "      <td>Rpl39</td>\n",
       "      <td>0.122582</td>\n",
       "    </tr>\n",
       "    <tr>\n",
       "      <th>1</th>\n",
       "      <td>13</td>\n",
       "      <td>2457</td>\n",
       "      <td>Btf3</td>\n",
       "      <td>0.000777</td>\n",
       "    </tr>\n",
       "    <tr>\n",
       "      <th>2</th>\n",
       "      <td>325</td>\n",
       "      <td>175407</td>\n",
       "      <td>Myl6</td>\n",
       "      <td>0.067163</td>\n",
       "    </tr>\n",
       "    <tr>\n",
       "      <th>3</th>\n",
       "      <td>293</td>\n",
       "      <td>340303</td>\n",
       "      <td>Hint1</td>\n",
       "      <td>0.074859</td>\n",
       "    </tr>\n",
       "    <tr>\n",
       "      <th>4</th>\n",
       "      <td>132</td>\n",
       "      <td>128885</td>\n",
       "      <td>Calm2</td>\n",
       "      <td>0.045603</td>\n",
       "    </tr>\n",
       "    <tr>\n",
       "      <th>5</th>\n",
       "      <td>178</td>\n",
       "      <td>171470</td>\n",
       "      <td>Lgals1</td>\n",
       "      <td>0.061727</td>\n",
       "    </tr>\n",
       "    <tr>\n",
       "      <th>6</th>\n",
       "      <td>1356</td>\n",
       "      <td>1252111</td>\n",
       "      <td>Acta1</td>\n",
       "      <td>0.399632</td>\n",
       "    </tr>\n",
       "    <tr>\n",
       "      <th>7</th>\n",
       "      <td>34</td>\n",
       "      <td>12002</td>\n",
       "      <td>Slc25a3</td>\n",
       "      <td>0.002922</td>\n",
       "    </tr>\n",
       "    <tr>\n",
       "      <th>8</th>\n",
       "      <td>792</td>\n",
       "      <td>249298</td>\n",
       "      <td>Tpt1</td>\n",
       "      <td>0.051065</td>\n",
       "    </tr>\n",
       "    <tr>\n",
       "      <th>9</th>\n",
       "      <td>19</td>\n",
       "      <td>5293</td>\n",
       "      <td>Calm1</td>\n",
       "      <td>0.003017</td>\n",
       "    </tr>\n",
       "    <tr>\n",
       "      <th>10</th>\n",
       "      <td>2005</td>\n",
       "      <td>1959351</td>\n",
       "      <td>Hsp90b1</td>\n",
       "      <td>0.723976</td>\n",
       "    </tr>\n",
       "    <tr>\n",
       "      <th>11</th>\n",
       "      <td>2471</td>\n",
       "      <td>1446541</td>\n",
       "      <td>Calr</td>\n",
       "      <td>0.454625</td>\n",
       "    </tr>\n",
       "    <tr>\n",
       "      <th>12</th>\n",
       "      <td>850</td>\n",
       "      <td>950156</td>\n",
       "      <td>Cfl1</td>\n",
       "      <td>0.321568</td>\n",
       "    </tr>\n",
       "    <tr>\n",
       "      <th>13</th>\n",
       "      <td>704</td>\n",
       "      <td>996683</td>\n",
       "      <td>Fth1</td>\n",
       "      <td>0.317171</td>\n",
       "    </tr>\n",
       "    <tr>\n",
       "      <th>14</th>\n",
       "      <td>438</td>\n",
       "      <td>335659</td>\n",
       "      <td>Hsp90ab1</td>\n",
       "      <td>0.483959</td>\n",
       "    </tr>\n",
       "  </tbody>\n",
       "</table>\n",
       "</div>"
      ],
      "text/plain": [
       "    Allele_number  edited_reads      gene  edited_ratio\n",
       "0             434        342458     Rpl39      0.122582\n",
       "1              13          2457      Btf3      0.000777\n",
       "2             325        175407      Myl6      0.067163\n",
       "3             293        340303     Hint1      0.074859\n",
       "4             132        128885     Calm2      0.045603\n",
       "5             178        171470    Lgals1      0.061727\n",
       "6            1356       1252111     Acta1      0.399632\n",
       "7              34         12002   Slc25a3      0.002922\n",
       "8             792        249298      Tpt1      0.051065\n",
       "9              19          5293     Calm1      0.003017\n",
       "10           2005       1959351   Hsp90b1      0.723976\n",
       "11           2471       1446541      Calr      0.454625\n",
       "12            850        950156      Cfl1      0.321568\n",
       "13            704        996683      Fth1      0.317171\n",
       "14            438        335659  Hsp90ab1      0.483959"
      ]
     },
     "execution_count": 55,
     "metadata": {},
     "output_type": "execute_result"
    }
   ],
   "source": [
    "data = {'Allele_number':Allele_number_list,'edited_reads':edited_reads_list,'gene':gene_list,'edited_ratio':edited_ratio_list}\n",
    "Allele_info = pd.DataFrame(data)\n",
    "Allele_info"
   ]
  },
  {
   "cell_type": "code",
   "execution_count": 61,
   "id": "f6435314",
   "metadata": {},
   "outputs": [
    {
     "data": {
      "text/plain": [
       "<Figure size 500x400 with 0 Axes>"
      ]
     },
     "metadata": {},
     "output_type": "display_data"
    },
    {
     "data": {
      "image/png": "[encoded data removed]",
      "text/plain": [
       "<Figure size 500x500 with 1 Axes>"
      ]
     },
     "metadata": {},
     "output_type": "display_data"
    }
   ],
   "source": [
    "Allele_info['edited_reads'] = Allele_info['edited_reads']/sum(Allele_info['edited_reads'])\n",
    "Allele_info['Allele_number'] = Allele_info['Allele_number']/sum(Allele_info['Allele_number'])\n",
    "plt.figure(figsize=(5, 4))\n",
    "plt.rcParams['pdf.fonttype'] = 42\n",
    "plt.gcf().set_size_inches(5, 4)\n",
    "\n",
    "slope, intercept, r_value, p_value, std_err = stats.linregress(Allele_info['edited_reads'], Allele_info['Allele_number'])\n",
    "r_squared, p_value = stats.spearmanr(Allele_info['edited_reads'], Allele_info['Allele_number'])\n",
    "p_value = f'p value = {p_value:.1e}'\n",
    "r_squared = f'R = {r_value:.2f}'\n",
    "#equation = f'y = {slope*1e6:.2f}x + {intercept:.2f}'\n",
    "\n",
    "\n",
    "sns.lmplot(data=Allele_info,x='edited_reads',y='Allele_number',lowess=False,ci=95,robust=True)\n",
    "for i in range(Allele_info.shape[0]):\n",
    "    plt.text(Allele_info['edited_reads'][i], Allele_info['Allele_number'][i], Allele_info['gene'][i], fontsize=8, ha='center', va='center')\n",
    "\n",
    "plt.text(0.1, 0.95, p_value, transform=plt.gca().transAxes, fontsize=10)\n",
    "plt.text(0.5, 0.95, r_squared, transform=plt.gca().transAxes, fontsize=10)    \n",
    "plt.ylabel('Normalized edited allele number')\n",
    "plt.xlabel('Normalized edited reads')\n",
    "plt.savefig('/syn1/liangzhen/jinhua_jilab_project/result/Figures/Figure1/edited_reads_VS_allele_number_3T3_ratio.pdf')"
   ]
  },
  {
   "cell_type": "code",
   "execution_count": null,
   "id": "ac0444df",
   "metadata": {},
   "outputs": [],
   "source": []
  }
 ],
 "metadata": {
  "kernelspec": {
   "display_name": "cassiopeia2",
   "language": "python",
   "name": "cassiopeia2"
  },
  "language_info": {
   "codemirror_mode": {
    "name": "ipython",
    "version": 3
   },
   "file_extension": ".py",
   "mimetype": "text/x-python",
   "name": "python",
   "nbconvert_exporter": "python",
   "pygments_lexer": "ipython3",
   "version": "3.8.18"
  },
  "toc": {
   "base_numbering": 1,
   "nav_menu": {},
   "number_sections": false,
   "sideBar": true,
   "skip_h1_title": false,
   "title_cell": "Table of Contents",
   "title_sidebar": "Contents",
   "toc_cell": false,
   "toc_position": {
    "height": "405.333px",
    "left": "29px",
    "top": "173px",
    "width": "255.922px"
   },
   "toc_section_display": true,
   "toc_window_display": true
  }
 },
 "nbformat": 4,
 "nbformat_minor": 5
}
