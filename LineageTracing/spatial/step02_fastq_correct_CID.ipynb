{
 "cells": [
  {
   "cell_type": "code",
   "execution_count": null,
   "id": "a1b4d0b5",
   "metadata": {},
   "outputs": [],
   "source": []
  },
  {
   "cell_type": "code",
   "execution_count": 1,
   "id": "98638117",
   "metadata": {},
   "outputs": [],
   "source": [
    "import gzip\n",
    "import pandas as pd\n",
    "import os"
   ]
  },
  {
   "cell_type": "code",
   "execution_count": 2,
   "id": "dde37916",
   "metadata": {},
   "outputs": [],
   "source": [
    "innerBC_list = pd.read_csv('/syn1/liangzhen/jinhua_jilab_project/result/DNA_Amplicon/SPATIAL/T2/fastq/sample.list',header=None)"
   ]
  },
  {
   "cell_type": "code",
   "execution_count": 3,
   "id": "defa317e",
   "metadata": {},
   "outputs": [
    {
     "data": {
      "text/plain": [
       "['AACGTG',\n",
       " 'AACTGC',\n",
       " 'AAGCTC',\n",
       " 'AAGTCG',\n",
       " 'AATCCG',\n",
       " 'AATCGC',\n",
       " 'ACAGTG',\n",
       " 'ACGATC',\n",
       " 'ACTCTG',\n",
       " 'ACTTGA',\n",
       " 'ATAGCG',\n",
       " 'ATCACG',\n",
       " 'ATCCAG',\n",
       " 'ATGCCA',\n",
       " 'ATGTTC',\n",
       " 'ATTCCG',\n",
       " 'staticBC']"
      ]
     },
     "execution_count": 3,
     "metadata": {},
     "output_type": "execute_result"
    }
   ],
   "source": [
    "innerBC_list.iloc[:,0].to_list()"
   ]
  },
  {
   "cell_type": "code",
   "execution_count": 4,
   "id": "f6bfc430",
   "metadata": {},
   "outputs": [],
   "source": [
    "barcodeToPos_df = pd.read_csv('/syn1/liangzhen/jinhua_jilab_project/result/DNA_Amplicon/SPATIAL/T2/barcodeToPos.txt',sep='\\t',header=None)\n",
    "barcodeToPos_df.columns = ['CID','x','y']\n",
    "barcodeToPos_df['x_y'] = barcodeToPos_df['x'].astype('str') + '_' + barcodeToPos_df['y'].astype('str')"
   ]
  },
  {
   "cell_type": "code",
   "execution_count": 5,
   "id": "3c613df3",
   "metadata": {},
   "outputs": [
    {
     "data": {
      "text/html": [
       "<div>\n",
       "<style scoped>\n",
       "    .dataframe tbody tr th:only-of-type {\n",
       "        vertical-align: middle;\n",
       "    }\n",
       "\n",
       "    .dataframe tbody tr th {\n",
       "        vertical-align: top;\n",
       "    }\n",
       "\n",
       "    .dataframe thead th {\n",
       "        text-align: right;\n",
       "    }\n",
       "</style>\n",
       "<table border=\"1\" class=\"dataframe\">\n",
       "  <thead>\n",
       "    <tr style=\"text-align: right;\">\n",
       "      <th></th>\n",
       "      <th>CID</th>\n",
       "      <th>x</th>\n",
       "      <th>y</th>\n",
       "      <th>x_y</th>\n",
       "    </tr>\n",
       "  </thead>\n",
       "  <tbody>\n",
       "    <tr>\n",
       "      <th>0</th>\n",
       "      <td>ACGACCCTGACTTGTCATAGACGCC</td>\n",
       "      <td>11758</td>\n",
       "      <td>14699</td>\n",
       "      <td>11758_14699</td>\n",
       "    </tr>\n",
       "    <tr>\n",
       "      <th>1</th>\n",
       "      <td>AATGTATGAATACGGATGTCTGTTG</td>\n",
       "      <td>11757</td>\n",
       "      <td>14699</td>\n",
       "      <td>11757_14699</td>\n",
       "    </tr>\n",
       "    <tr>\n",
       "      <th>2</th>\n",
       "      <td>AAACCTCTACCATACATGCCCAGGT</td>\n",
       "      <td>11756</td>\n",
       "      <td>14699</td>\n",
       "      <td>11756_14699</td>\n",
       "    </tr>\n",
       "    <tr>\n",
       "      <th>3</th>\n",
       "      <td>CCAAGGCGAGAAGAGTTATCATCAG</td>\n",
       "      <td>11753</td>\n",
       "      <td>14699</td>\n",
       "      <td>11753_14699</td>\n",
       "    </tr>\n",
       "    <tr>\n",
       "      <th>4</th>\n",
       "      <td>GGGGTCAAGCCTATTTATCGTTGAC</td>\n",
       "      <td>11751</td>\n",
       "      <td>14699</td>\n",
       "      <td>11751_14699</td>\n",
       "    </tr>\n",
       "    <tr>\n",
       "      <th>...</th>\n",
       "      <td>...</td>\n",
       "      <td>...</td>\n",
       "      <td>...</td>\n",
       "      <td>...</td>\n",
       "    </tr>\n",
       "    <tr>\n",
       "      <th>158077859</th>\n",
       "      <td>GAGGTTCGCATGGGGCCAGTGACAA</td>\n",
       "      <td>1327</td>\n",
       "      <td>10067</td>\n",
       "      <td>1327_10067</td>\n",
       "    </tr>\n",
       "    <tr>\n",
       "      <th>158077860</th>\n",
       "      <td>TTCGGGATAGCTGATTCGGATAAAC</td>\n",
       "      <td>7789</td>\n",
       "      <td>9421</td>\n",
       "      <td>7789_9421</td>\n",
       "    </tr>\n",
       "    <tr>\n",
       "      <th>158077861</th>\n",
       "      <td>CAGCCCATAGCGATTTCTGGCCGCT</td>\n",
       "      <td>5249</td>\n",
       "      <td>8466</td>\n",
       "      <td>5249_8466</td>\n",
       "    </tr>\n",
       "    <tr>\n",
       "      <th>158077862</th>\n",
       "      <td>AACCCATTCCGTCAGATTTCACGAC</td>\n",
       "      <td>7790</td>\n",
       "      <td>9421</td>\n",
       "      <td>7790_9421</td>\n",
       "    </tr>\n",
       "    <tr>\n",
       "      <th>158077863</th>\n",
       "      <td>CAAGTGTAGCGCTAGGCTCCCAACA</td>\n",
       "      <td>7792</td>\n",
       "      <td>9421</td>\n",
       "      <td>7792_9421</td>\n",
       "    </tr>\n",
       "  </tbody>\n",
       "</table>\n",
       "<p>158077864 rows × 4 columns</p>\n",
       "</div>"
      ],
      "text/plain": [
       "                                 CID      x      y          x_y\n",
       "0          ACGACCCTGACTTGTCATAGACGCC  11758  14699  11758_14699\n",
       "1          AATGTATGAATACGGATGTCTGTTG  11757  14699  11757_14699\n",
       "2          AAACCTCTACCATACATGCCCAGGT  11756  14699  11756_14699\n",
       "3          CCAAGGCGAGAAGAGTTATCATCAG  11753  14699  11753_14699\n",
       "4          GGGGTCAAGCCTATTTATCGTTGAC  11751  14699  11751_14699\n",
       "...                              ...    ...    ...          ...\n",
       "158077859  GAGGTTCGCATGGGGCCAGTGACAA   1327  10067   1327_10067\n",
       "158077860  TTCGGGATAGCTGATTCGGATAAAC   7789   9421    7789_9421\n",
       "158077861  CAGCCCATAGCGATTTCTGGCCGCT   5249   8466    5249_8466\n",
       "158077862  AACCCATTCCGTCAGATTTCACGAC   7790   9421    7790_9421\n",
       "158077863  CAAGTGTAGCGCTAGGCTCCCAACA   7792   9421    7792_9421\n",
       "\n",
       "[158077864 rows x 4 columns]"
      ]
     },
     "execution_count": 5,
     "metadata": {},
     "output_type": "execute_result"
    }
   ],
   "source": [
    "barcodeToPos_df"
   ]
  },
  {
   "cell_type": "code",
   "execution_count": 6,
   "id": "d7ada62a",
   "metadata": {},
   "outputs": [],
   "source": [
    "barcodeToPos_dict = barcodeToPos_df.set_index('x_y')['CID'].to_dict()"
   ]
  },
  {
   "cell_type": "code",
   "execution_count": null,
   "id": "8a383700",
   "metadata": {},
   "outputs": [],
   "source": []
  },
  {
   "cell_type": "code",
   "execution_count": 7,
   "id": "e5c74e69",
   "metadata": {},
   "outputs": [
    {
     "name": "stdout",
     "output_type": "stream",
     "text": [
      "staticBC\n"
     ]
    }
   ],
   "source": [
    "innerBC_reads_count = {}\n",
    "innerBC_reads_count['r1'] = {}\n",
    "fastq_path = '/syn1/liangzhen/jinhua_jilab_project/result/DNA_Amplicon/SPATIAL/T2/fastq' + '/{}_{}.fq.gz'\n",
    "\n",
    "for innerBC in innerBC_list.iloc[:,0].to_list():\n",
    "    print(innerBC)\n",
    "    R1 = gzip.open(fastq_path.format(innerBC+'_mapped','r1'))\n",
    "    while True:\n",
    "        r1_line = R1.readline().decode('utf-8')\n",
    "        if r1_line == '' : break\n",
    "        if r1_line[0] == '@': \n",
    "            read1_name = r1_line\n",
    "            CID_pos = read1_name.split('CB:Z:')[1].split('|||')[0]\n",
    "            CID = barcodeToPos_dict[CID_pos]\n",
    "            read1_seq = R1.readline().decode('utf-8')\n",
    "            read1_seq_corrected = read1_seq[0:36] + CID + read1_seq[61:151]\n",
    "            read1_QI = R1.readline().decode('utf-8')\n",
    "            read1_baseQ = R1.readline().decode('utf-8')\n",
    "            read1 = [read1_name , read1_seq_corrected , read1_QI , read1_baseQ]\n",
    "            if innerBC in innerBC_reads_count['r1']:\n",
    "                innerBC_reads_count['r1'][innerBC] += read1\n",
    "            else:\n",
    "                innerBC_reads_count['r1'][innerBC] = read1\n"
   ]
  },
  {
   "cell_type": "code",
   "execution_count": 8,
   "id": "dd2b249d",
   "metadata": {},
   "outputs": [],
   "source": [
    "for fq,pooled_reads in innerBC_reads_count.items():\n",
    "    for innerBC,reads_set in pooled_reads.items():\n",
    "        with open('/syn1/liangzhen/jinhua_jilab_project/result/DNA_Amplicon/SPATIAL/T2/fastq'+'/'+innerBC+'_mapped_corrected'+'_'+fq+'.fq','w+') as f:\n",
    "            f.writelines(reads_set)"
   ]
  },
  {
   "cell_type": "code",
   "execution_count": 16,
   "id": "4b6a559f",
   "metadata": {},
   "outputs": [
    {
     "data": {
      "text/plain": [
       "0"
      ]
     },
     "execution_count": 16,
     "metadata": {},
     "output_type": "execute_result"
    }
   ],
   "source": [
    "os.system('ls /syn1/liangzhen/jinhua_jilab_project/result/DNA_Amplicon/SPATIAL/T2/fastq/*_corrected_r1.fq|xargs -I {} gzip {}')"
   ]
  },
  {
   "cell_type": "code",
   "execution_count": 17,
   "id": "5f138ccd",
   "metadata": {},
   "outputs": [
    {
     "name": "stdout",
     "output_type": "stream",
     "text": [
      "ok\n"
     ]
    }
   ],
   "source": [
    "print('ok')"
   ]
  },
  {
   "cell_type": "code",
   "execution_count": null,
   "id": "8de303eb",
   "metadata": {},
   "outputs": [],
   "source": []
  }
 ],
 "metadata": {
  "kernelspec": {
   "display_name": "cassiopeia2",
   "language": "python",
   "name": "cassiopeia2"
  },
  "language_info": {
   "codemirror_mode": {
    "name": "ipython",
    "version": 3
   },
   "file_extension": ".py",
   "mimetype": "text/x-python",
   "name": "python",
   "nbconvert_exporter": "python",
   "pygments_lexer": "ipython3",
   "version": "3.8.18"
  },
  "toc": {
   "base_numbering": 1,
   "nav_menu": {},
   "number_sections": false,
   "sideBar": true,
   "skip_h1_title": false,
   "title_cell": "Table of Contents",
   "title_sidebar": "Contents",
   "toc_cell": false,
   "toc_position": {},
   "toc_section_display": true,
   "toc_window_display": false
  }
 },
 "nbformat": 4,
 "nbformat_minor": 5
}
